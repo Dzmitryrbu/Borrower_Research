{
 "cells": [
  {
   "cell_type": "markdown",
   "metadata": {},
   "source": [
    "# Borrower reliability study\n",
    "\n",
    "The customer is the credit department of the bank. It is necessary to find out whether the marital status and the number of children of the client affect the fact of repaying the loan on time. Input data from the bank - statistics on the solvency of customers.\n",
    "\n",
    "The results of the study will be taken into account when building a **credit scoring** model - a special system that evaluates the ability of a potential borrower to repay a loan to a bank."
   ]
  },
  {
   "cell_type": "markdown",
   "metadata": {},
   "source": [
    "## Exploring general information"
   ]
  },
  {
   "cell_type": "code",
   "execution_count": 1,
   "metadata": {},
   "outputs": [],
   "source": [
    "# import required libraries\n",
    "import pandas as pd\n",
    "import seaborn\n",
    "from IPython.display import display"
   ]
  },
  {
   "cell_type": "code",
   "execution_count": 2,
   "metadata": {},
   "outputs": [
    {
     "name": "stdout",
     "output_type": "stream",
     "text": [
      "<class 'pandas.core.frame.DataFrame'>\n",
      "RangeIndex: 21525 entries, 0 to 21524\n",
      "Data columns (total 12 columns):\n",
      " #   Column            Non-Null Count  Dtype  \n",
      "---  ------            --------------  -----  \n",
      " 0   children          21525 non-null  int64  \n",
      " 1   days_employed     19351 non-null  float64\n",
      " 2   dob_years         21525 non-null  int64  \n",
      " 3   education         21525 non-null  object \n",
      " 4   education_id      21525 non-null  int64  \n",
      " 5   family_status     21525 non-null  object \n",
      " 6   family_status_id  21525 non-null  int64  \n",
      " 7   gender            21525 non-null  object \n",
      " 8   income_type       21525 non-null  object \n",
      " 9   debt              21525 non-null  int64  \n",
      " 10  total_income      19351 non-null  float64\n",
      " 11  purpose           21525 non-null  object \n",
      "dtypes: float64(2), int64(5), object(5)\n",
      "memory usage: 2.0+ MB\n"
     ]
    },
    {
     "data": {
      "text/html": [
       "<div>\n",
       "<style scoped>\n",
       "    .dataframe tbody tr th:only-of-type {\n",
       "        vertical-align: middle;\n",
       "    }\n",
       "\n",
       "    .dataframe tbody tr th {\n",
       "        vertical-align: top;\n",
       "    }\n",
       "\n",
       "    .dataframe thead th {\n",
       "        text-align: right;\n",
       "    }\n",
       "</style>\n",
       "<table border=\"1\" class=\"dataframe\">\n",
       "  <thead>\n",
       "    <tr style=\"text-align: right;\">\n",
       "      <th></th>\n",
       "      <th>children</th>\n",
       "      <th>days_employed</th>\n",
       "      <th>dob_years</th>\n",
       "      <th>education</th>\n",
       "      <th>education_id</th>\n",
       "      <th>family_status</th>\n",
       "      <th>family_status_id</th>\n",
       "      <th>gender</th>\n",
       "      <th>income_type</th>\n",
       "      <th>debt</th>\n",
       "      <th>total_income</th>\n",
       "      <th>purpose</th>\n",
       "    </tr>\n",
       "  </thead>\n",
       "  <tbody>\n",
       "    <tr>\n",
       "      <th>0</th>\n",
       "      <td>1</td>\n",
       "      <td>-8437.673028</td>\n",
       "      <td>42</td>\n",
       "      <td>высшее</td>\n",
       "      <td>0</td>\n",
       "      <td>женат / замужем</td>\n",
       "      <td>0</td>\n",
       "      <td>F</td>\n",
       "      <td>сотрудник</td>\n",
       "      <td>0</td>\n",
       "      <td>253875.639453</td>\n",
       "      <td>покупка жилья</td>\n",
       "    </tr>\n",
       "    <tr>\n",
       "      <th>1</th>\n",
       "      <td>1</td>\n",
       "      <td>-4024.803754</td>\n",
       "      <td>36</td>\n",
       "      <td>среднее</td>\n",
       "      <td>1</td>\n",
       "      <td>женат / замужем</td>\n",
       "      <td>0</td>\n",
       "      <td>F</td>\n",
       "      <td>сотрудник</td>\n",
       "      <td>0</td>\n",
       "      <td>112080.014102</td>\n",
       "      <td>приобретение автомобиля</td>\n",
       "    </tr>\n",
       "    <tr>\n",
       "      <th>2</th>\n",
       "      <td>0</td>\n",
       "      <td>-5623.422610</td>\n",
       "      <td>33</td>\n",
       "      <td>Среднее</td>\n",
       "      <td>1</td>\n",
       "      <td>женат / замужем</td>\n",
       "      <td>0</td>\n",
       "      <td>M</td>\n",
       "      <td>сотрудник</td>\n",
       "      <td>0</td>\n",
       "      <td>145885.952297</td>\n",
       "      <td>покупка жилья</td>\n",
       "    </tr>\n",
       "    <tr>\n",
       "      <th>3</th>\n",
       "      <td>3</td>\n",
       "      <td>-4124.747207</td>\n",
       "      <td>32</td>\n",
       "      <td>среднее</td>\n",
       "      <td>1</td>\n",
       "      <td>женат / замужем</td>\n",
       "      <td>0</td>\n",
       "      <td>M</td>\n",
       "      <td>сотрудник</td>\n",
       "      <td>0</td>\n",
       "      <td>267628.550329</td>\n",
       "      <td>дополнительное образование</td>\n",
       "    </tr>\n",
       "    <tr>\n",
       "      <th>4</th>\n",
       "      <td>0</td>\n",
       "      <td>340266.072047</td>\n",
       "      <td>53</td>\n",
       "      <td>среднее</td>\n",
       "      <td>1</td>\n",
       "      <td>гражданский брак</td>\n",
       "      <td>1</td>\n",
       "      <td>F</td>\n",
       "      <td>пенсионер</td>\n",
       "      <td>0</td>\n",
       "      <td>158616.077870</td>\n",
       "      <td>сыграть свадьбу</td>\n",
       "    </tr>\n",
       "  </tbody>\n",
       "</table>\n",
       "</div>"
      ],
      "text/plain": [
       "   children  days_employed  dob_years education  education_id  \\\n",
       "0         1   -8437.673028         42    высшее             0   \n",
       "1         1   -4024.803754         36   среднее             1   \n",
       "2         0   -5623.422610         33   Среднее             1   \n",
       "3         3   -4124.747207         32   среднее             1   \n",
       "4         0  340266.072047         53   среднее             1   \n",
       "\n",
       "      family_status  family_status_id gender income_type  debt   total_income  \\\n",
       "0   женат / замужем                 0      F   сотрудник     0  253875.639453   \n",
       "1   женат / замужем                 0      F   сотрудник     0  112080.014102   \n",
       "2   женат / замужем                 0      M   сотрудник     0  145885.952297   \n",
       "3   женат / замужем                 0      M   сотрудник     0  267628.550329   \n",
       "4  гражданский брак                 1      F   пенсионер     0  158616.077870   \n",
       "\n",
       "                      purpose  \n",
       "0               покупка жилья  \n",
       "1     приобретение автомобиля  \n",
       "2               покупка жилья  \n",
       "3  дополнительное образование  \n",
       "4             сыграть свадьбу  "
      ]
     },
     "execution_count": 2,
     "metadata": {},
     "output_type": "execute_result"
    }
   ],
   "source": [
    "# reading a data file and saving to data\n",
    "data = pd.read_csv('data_banking.csv')\n",
    "\n",
    "# getting information about a file\n",
    "data.info()\n",
    "data.head()"
   ]
  },
  {
   "cell_type": "markdown",
   "metadata": {},
   "source": [
    "**Conclusion**\n",
    "\n",
    "We get general data on the table, as well as look at its structure using the \"head\" method.\n",
    "\n",
    "1. There are gaps in two columns\n",
    "2. Data types correspond to the corresponding columns\n",
    "3. Abnormal data is present (for example: 4 row column days_employed)"
   ]
  },
  {
   "cell_type": "markdown",
   "metadata": {},
   "source": [
    "## Data preprocessing"
   ]
  },
  {
   "cell_type": "markdown",
   "metadata": {},
   "source": [
    "### Pass processing"
   ]
  },
  {
   "cell_type": "code",
   "execution_count": 3,
   "metadata": {},
   "outputs": [
    {
     "data": {
      "text/plain": [
       "children               0\n",
       "days_employed       2174\n",
       "dob_years              0\n",
       "education              0\n",
       "education_id           0\n",
       "family_status          0\n",
       "family_status_id       0\n",
       "gender                 0\n",
       "income_type            0\n",
       "debt                   0\n",
       "total_income        2174\n",
       "purpose                0\n",
       "dtype: int64"
      ]
     },
     "execution_count": 3,
     "metadata": {},
     "output_type": "execute_result"
    }
   ],
   "source": [
    "# Let's count the gaps\n",
    "data.isna().sum()"
   ]
  },
  {
   "cell_type": "code",
   "execution_count": 4,
   "metadata": {},
   "outputs": [
    {
     "name": "stdout",
     "output_type": "stream",
     "text": [
      "Median number of days worked -1203.369528770489\n",
      "Median number of income 145017.93753253992\n"
     ]
    }
   ],
   "source": [
    "# get median values for columns with gaps\n",
    "days_median = data['days_employed'].median()\n",
    "print('Median number of days worked', days_median)\n",
    "\n",
    "income_median = data['total_income'].median()\n",
    "print('Median number of income', income_median)"
   ]
  },
  {
   "cell_type": "code",
   "execution_count": 5,
   "metadata": {},
   "outputs": [
    {
     "name": "stdout",
     "output_type": "stream",
     "text": [
      "0.10099883855981417\n",
      "0.10099883855981417\n"
     ]
    }
   ],
   "source": [
    "# count the ratio of gaps to the number of elements in the column\n",
    "miss_ratio_days = (data['days_employed'].isna().mean())\n",
    "print(miss_ratio_days)\n",
    "miss_ratio_income = (data['total_income'].isna().mean())\n",
    "print(miss_ratio_income)"
   ]
  },
  {
   "cell_type": "code",
   "execution_count": 6,
   "metadata": {},
   "outputs": [
    {
     "data": {
      "text/plain": [
       "children               0\n",
       "days_employed       2174\n",
       "dob_years              0\n",
       "education              0\n",
       "education_id           0\n",
       "family_status          0\n",
       "family_status_id       0\n",
       "gender                 0\n",
       "income_type            0\n",
       "debt                   0\n",
       "total_income           0\n",
       "purpose                0\n",
       "dtype: int64"
      ]
     },
     "execution_count": 6,
     "metadata": {},
     "output_type": "execute_result"
    }
   ],
   "source": [
    "# populate income data with the median value\n",
    "data['total_income'] = data['total_income'].fillna(income_median)\n",
    "\n",
    "# check the changes made\n",
    "data.isna().sum()"
   ]
  },
  {
   "cell_type": "markdown",
   "metadata": {},
   "source": [
    "**Conclusion**\n",
    "\n",
    "Based on the data obtained, we see that there are gaps in two columns:\n",
    "\n",
    "    1. `days_employed`\n",
    "    2. `total_income`\n",
    "The gaps in these columns can be for the following reasons:\n",
    "\n",
    "    1. Lack of work / freelance / passive income / errors when filling out or uploading data\n",
    "    2. Unwillingness to indicate your income / errors when filling in or uploading data\n",
    "It is worth noting that the number of gaps in these columns is the same, and is 10.1% of the total number of values.\n",
    "\n",
    "Since income is a quantitative variable, the gaps should be filled with the median value, since, unlike the mean, it divides the sample strictly in half, taking into account outliers in the form of anomalously small or large values."
   ]
  },
  {
   "cell_type": "markdown",
   "metadata": {},
   "source": [
    "### Replacing the data type"
   ]
  },
  {
   "cell_type": "code",
   "execution_count": 7,
   "metadata": {
    "scrolled": true
   },
   "outputs": [
    {
     "name": "stdout",
     "output_type": "stream",
     "text": [
      "<class 'pandas.core.frame.DataFrame'>\n",
      "RangeIndex: 21525 entries, 0 to 21524\n",
      "Data columns (total 12 columns):\n",
      " #   Column            Non-Null Count  Dtype  \n",
      "---  ------            --------------  -----  \n",
      " 0   children          21525 non-null  int64  \n",
      " 1   days_employed     19351 non-null  float64\n",
      " 2   dob_years         21525 non-null  int64  \n",
      " 3   education         21525 non-null  object \n",
      " 4   education_id      21525 non-null  int64  \n",
      " 5   family_status     21525 non-null  object \n",
      " 6   family_status_id  21525 non-null  int64  \n",
      " 7   gender            21525 non-null  object \n",
      " 8   income_type       21525 non-null  object \n",
      " 9   debt              21525 non-null  int64  \n",
      " 10  total_income      21525 non-null  int32  \n",
      " 11  purpose           21525 non-null  object \n",
      "dtypes: float64(1), int32(1), int64(5), object(5)\n",
      "memory usage: 1.9+ MB\n"
     ]
    }
   ],
   "source": [
    "# replace float64 type in total_income and days_employed with int64\n",
    "data['total_income'] = data['total_income'].astype('int')\n",
    "\n",
    "data.info()"
   ]
  },
  {
   "cell_type": "markdown",
   "metadata": {},
   "source": [
    "### Duplicate Handling"
   ]
  },
  {
   "cell_type": "markdown",
   "metadata": {},
   "source": [
    "Let's review the data in columns to identify explicit and implicit duplicates"
   ]
  },
  {
   "cell_type": "code",
   "execution_count": 8,
   "metadata": {},
   "outputs": [
    {
     "data": {
      "text/plain": [
       "array([-1,  0,  1,  2,  3,  4,  5, 20], dtype=int64)"
      ]
     },
     "execution_count": 8,
     "metadata": {},
     "output_type": "execute_result"
    }
   ],
   "source": [
    "# unique values of the 'children' column\n",
    "data['children'].sort_values().unique()"
   ]
  },
  {
   "cell_type": "markdown",
   "metadata": {},
   "source": [
    "Seems to be:\n",
    "    \n",
    "- data -1 is a misspelled 1\n",
    "- 20 are misspelled 2\n",
    "\n",
    "We will make the appropriate corrections"
   ]
  },
  {
   "cell_type": "code",
   "execution_count": 9,
   "metadata": {},
   "outputs": [
    {
     "data": {
      "text/plain": [
       "array([0, 1, 2, 3, 4, 5], dtype=int64)"
      ]
     },
     "execution_count": 9,
     "metadata": {},
     "output_type": "execute_result"
    }
   ],
   "source": [
    "# making corrections and checking results\n",
    "data.loc[(data['children'] == 20), 'children'] = 2\n",
    "data.loc[(data['children'] == -1), 'children'] = 1\n",
    "data['children'].sort_values().unique()"
   ]
  },
  {
   "cell_type": "code",
   "execution_count": 10,
   "metadata": {},
   "outputs": [
    {
     "data": {
      "text/plain": [
       "array([-18388.94990057, -17615.56326563, -16593.47281726, ...,\n",
       "       401715.81174889, 401755.40047533,             nan])"
      ]
     },
     "execution_count": 10,
     "metadata": {},
     "output_type": "execute_result"
    }
   ],
   "source": [
    "# unique values of the 'days_employed' column\n",
    "data['days_employed'].sort_values().unique()"
   ]
  },
  {
   "cell_type": "markdown",
   "metadata": {},
   "source": [
    "When checking the values, 2 problems were found:\n",
    "1. Negative values of seniority. Most likely caused by a calculation error, when the current date was subtracted from the start date, which led to negative values\n",
    "2. Abnormally high values of seniority"
   ]
  },
  {
   "cell_type": "code",
   "execution_count": 11,
   "metadata": {},
   "outputs": [
    {
     "data": {
      "text/plain": [
       "17437    24.141633\n",
       "8336     24.240695\n",
       "6157     30.195337\n",
       "9683     33.520665\n",
       "2127     34.701045\n",
       "           ...    \n",
       "21489          NaN\n",
       "21495          NaN\n",
       "21497          NaN\n",
       "21502          NaN\n",
       "21510          NaN\n",
       "Name: days_employed, Length: 21525, dtype: float64"
      ]
     },
     "execution_count": 11,
     "metadata": {},
     "output_type": "execute_result"
    }
   ],
   "source": [
    "# Correction of negative seniority values\n",
    "rows = (data['days_employed'] < 0)\n",
    "data.loc[rows, 'days_employed'] = abs(data['days_employed'])\n",
    "data['days_employed'].sort_values()"
   ]
  },
  {
   "cell_type": "code",
   "execution_count": 12,
   "metadata": {},
   "outputs": [
    {
     "data": {
      "text/html": [
       "<div>\n",
       "<style scoped>\n",
       "    .dataframe tbody tr th:only-of-type {\n",
       "        vertical-align: middle;\n",
       "    }\n",
       "\n",
       "    .dataframe tbody tr th {\n",
       "        vertical-align: top;\n",
       "    }\n",
       "\n",
       "    .dataframe thead th {\n",
       "        text-align: right;\n",
       "    }\n",
       "</style>\n",
       "<table border=\"1\" class=\"dataframe\">\n",
       "  <thead>\n",
       "    <tr style=\"text-align: right;\">\n",
       "      <th></th>\n",
       "      <th>children</th>\n",
       "      <th>days_employed</th>\n",
       "      <th>dob_years</th>\n",
       "      <th>education</th>\n",
       "      <th>education_id</th>\n",
       "      <th>family_status</th>\n",
       "      <th>family_status_id</th>\n",
       "      <th>gender</th>\n",
       "      <th>income_type</th>\n",
       "      <th>debt</th>\n",
       "      <th>total_income</th>\n",
       "      <th>purpose</th>\n",
       "    </tr>\n",
       "  </thead>\n",
       "  <tbody>\n",
       "    <tr>\n",
       "      <th>4</th>\n",
       "      <td>0</td>\n",
       "      <td>340266.072047</td>\n",
       "      <td>53</td>\n",
       "      <td>среднее</td>\n",
       "      <td>1</td>\n",
       "      <td>гражданский брак</td>\n",
       "      <td>1</td>\n",
       "      <td>F</td>\n",
       "      <td>пенсионер</td>\n",
       "      <td>0</td>\n",
       "      <td>158616</td>\n",
       "      <td>сыграть свадьбу</td>\n",
       "    </tr>\n",
       "    <tr>\n",
       "      <th>18</th>\n",
       "      <td>0</td>\n",
       "      <td>400281.136913</td>\n",
       "      <td>53</td>\n",
       "      <td>среднее</td>\n",
       "      <td>1</td>\n",
       "      <td>вдовец / вдова</td>\n",
       "      <td>2</td>\n",
       "      <td>F</td>\n",
       "      <td>пенсионер</td>\n",
       "      <td>0</td>\n",
       "      <td>56823</td>\n",
       "      <td>на покупку подержанного автомобиля</td>\n",
       "    </tr>\n",
       "    <tr>\n",
       "      <th>24</th>\n",
       "      <td>1</td>\n",
       "      <td>338551.952911</td>\n",
       "      <td>57</td>\n",
       "      <td>среднее</td>\n",
       "      <td>1</td>\n",
       "      <td>Не женат / не замужем</td>\n",
       "      <td>4</td>\n",
       "      <td>F</td>\n",
       "      <td>пенсионер</td>\n",
       "      <td>0</td>\n",
       "      <td>290547</td>\n",
       "      <td>операции с коммерческой недвижимостью</td>\n",
       "    </tr>\n",
       "    <tr>\n",
       "      <th>25</th>\n",
       "      <td>0</td>\n",
       "      <td>363548.489348</td>\n",
       "      <td>67</td>\n",
       "      <td>среднее</td>\n",
       "      <td>1</td>\n",
       "      <td>женат / замужем</td>\n",
       "      <td>0</td>\n",
       "      <td>M</td>\n",
       "      <td>пенсионер</td>\n",
       "      <td>0</td>\n",
       "      <td>55112</td>\n",
       "      <td>покупка недвижимости</td>\n",
       "    </tr>\n",
       "    <tr>\n",
       "      <th>30</th>\n",
       "      <td>1</td>\n",
       "      <td>335581.668515</td>\n",
       "      <td>62</td>\n",
       "      <td>среднее</td>\n",
       "      <td>1</td>\n",
       "      <td>женат / замужем</td>\n",
       "      <td>0</td>\n",
       "      <td>F</td>\n",
       "      <td>пенсионер</td>\n",
       "      <td>0</td>\n",
       "      <td>171456</td>\n",
       "      <td>операции с коммерческой недвижимостью</td>\n",
       "    </tr>\n",
       "    <tr>\n",
       "      <th>...</th>\n",
       "      <td>...</td>\n",
       "      <td>...</td>\n",
       "      <td>...</td>\n",
       "      <td>...</td>\n",
       "      <td>...</td>\n",
       "      <td>...</td>\n",
       "      <td>...</td>\n",
       "      <td>...</td>\n",
       "      <td>...</td>\n",
       "      <td>...</td>\n",
       "      <td>...</td>\n",
       "      <td>...</td>\n",
       "    </tr>\n",
       "    <tr>\n",
       "      <th>21505</th>\n",
       "      <td>0</td>\n",
       "      <td>338904.866406</td>\n",
       "      <td>53</td>\n",
       "      <td>среднее</td>\n",
       "      <td>1</td>\n",
       "      <td>гражданский брак</td>\n",
       "      <td>1</td>\n",
       "      <td>M</td>\n",
       "      <td>пенсионер</td>\n",
       "      <td>0</td>\n",
       "      <td>75439</td>\n",
       "      <td>сыграть свадьбу</td>\n",
       "    </tr>\n",
       "    <tr>\n",
       "      <th>21508</th>\n",
       "      <td>0</td>\n",
       "      <td>386497.714078</td>\n",
       "      <td>62</td>\n",
       "      <td>среднее</td>\n",
       "      <td>1</td>\n",
       "      <td>женат / замужем</td>\n",
       "      <td>0</td>\n",
       "      <td>M</td>\n",
       "      <td>пенсионер</td>\n",
       "      <td>0</td>\n",
       "      <td>72638</td>\n",
       "      <td>недвижимость</td>\n",
       "    </tr>\n",
       "    <tr>\n",
       "      <th>21509</th>\n",
       "      <td>0</td>\n",
       "      <td>362161.054124</td>\n",
       "      <td>59</td>\n",
       "      <td>высшее</td>\n",
       "      <td>0</td>\n",
       "      <td>женат / замужем</td>\n",
       "      <td>0</td>\n",
       "      <td>M</td>\n",
       "      <td>пенсионер</td>\n",
       "      <td>0</td>\n",
       "      <td>73029</td>\n",
       "      <td>операции с недвижимостью</td>\n",
       "    </tr>\n",
       "    <tr>\n",
       "      <th>21518</th>\n",
       "      <td>0</td>\n",
       "      <td>373995.710838</td>\n",
       "      <td>59</td>\n",
       "      <td>СРЕДНЕЕ</td>\n",
       "      <td>1</td>\n",
       "      <td>женат / замужем</td>\n",
       "      <td>0</td>\n",
       "      <td>F</td>\n",
       "      <td>пенсионер</td>\n",
       "      <td>0</td>\n",
       "      <td>153864</td>\n",
       "      <td>сделка с автомобилем</td>\n",
       "    </tr>\n",
       "    <tr>\n",
       "      <th>21521</th>\n",
       "      <td>0</td>\n",
       "      <td>343937.404131</td>\n",
       "      <td>67</td>\n",
       "      <td>среднее</td>\n",
       "      <td>1</td>\n",
       "      <td>женат / замужем</td>\n",
       "      <td>0</td>\n",
       "      <td>F</td>\n",
       "      <td>пенсионер</td>\n",
       "      <td>0</td>\n",
       "      <td>155999</td>\n",
       "      <td>сделка с автомобилем</td>\n",
       "    </tr>\n",
       "  </tbody>\n",
       "</table>\n",
       "<p>3447 rows × 12 columns</p>\n",
       "</div>"
      ],
      "text/plain": [
       "       children  days_employed  dob_years education  education_id  \\\n",
       "4             0  340266.072047         53   среднее             1   \n",
       "18            0  400281.136913         53   среднее             1   \n",
       "24            1  338551.952911         57   среднее             1   \n",
       "25            0  363548.489348         67   среднее             1   \n",
       "30            1  335581.668515         62   среднее             1   \n",
       "...         ...            ...        ...       ...           ...   \n",
       "21505         0  338904.866406         53   среднее             1   \n",
       "21508         0  386497.714078         62   среднее             1   \n",
       "21509         0  362161.054124         59    высшее             0   \n",
       "21518         0  373995.710838         59   СРЕДНЕЕ             1   \n",
       "21521         0  343937.404131         67   среднее             1   \n",
       "\n",
       "               family_status  family_status_id gender income_type  debt  \\\n",
       "4           гражданский брак                 1      F   пенсионер     0   \n",
       "18            вдовец / вдова                 2      F   пенсионер     0   \n",
       "24     Не женат / не замужем                 4      F   пенсионер     0   \n",
       "25           женат / замужем                 0      M   пенсионер     0   \n",
       "30           женат / замужем                 0      F   пенсионер     0   \n",
       "...                      ...               ...    ...         ...   ...   \n",
       "21505       гражданский брак                 1      M   пенсионер     0   \n",
       "21508        женат / замужем                 0      M   пенсионер     0   \n",
       "21509        женат / замужем                 0      M   пенсионер     0   \n",
       "21518        женат / замужем                 0      F   пенсионер     0   \n",
       "21521        женат / замужем                 0      F   пенсионер     0   \n",
       "\n",
       "       total_income                                purpose  \n",
       "4            158616                        сыграть свадьбу  \n",
       "18            56823     на покупку подержанного автомобиля  \n",
       "24           290547  операции с коммерческой недвижимостью  \n",
       "25            55112                   покупка недвижимости  \n",
       "30           171456  операции с коммерческой недвижимостью  \n",
       "...             ...                                    ...  \n",
       "21505         75439                        сыграть свадьбу  \n",
       "21508         72638                           недвижимость  \n",
       "21509         73029               операции с недвижимостью  \n",
       "21518        153864                   сделка с автомобилем  \n",
       "21521        155999                   сделка с автомобилем  \n",
       "\n",
       "[3447 rows x 12 columns]"
      ]
     },
     "execution_count": 12,
     "metadata": {},
     "output_type": "execute_result"
    }
   ],
   "source": [
    "# look at abnormal values based on the assumption that the work experience does not exceed (65 - 18 years * 365 days)\n",
    "data[data['days_employed'] > 17500]"
   ]
  },
  {
   "cell_type": "code",
   "execution_count": 13,
   "metadata": {
    "scrolled": false
   },
   "outputs": [
    {
     "data": {
      "text/html": [
       "<div>\n",
       "<style scoped>\n",
       "    .dataframe tbody tr th:only-of-type {\n",
       "        vertical-align: middle;\n",
       "    }\n",
       "\n",
       "    .dataframe tbody tr th {\n",
       "        vertical-align: top;\n",
       "    }\n",
       "\n",
       "    .dataframe thead th {\n",
       "        text-align: right;\n",
       "    }\n",
       "</style>\n",
       "<table border=\"1\" class=\"dataframe\">\n",
       "  <thead>\n",
       "    <tr style=\"text-align: right;\">\n",
       "      <th></th>\n",
       "      <th>children</th>\n",
       "      <th>days_employed</th>\n",
       "      <th>dob_years</th>\n",
       "      <th>education</th>\n",
       "      <th>education_id</th>\n",
       "      <th>family_status</th>\n",
       "      <th>family_status_id</th>\n",
       "      <th>gender</th>\n",
       "      <th>income_type</th>\n",
       "      <th>debt</th>\n",
       "      <th>total_income</th>\n",
       "      <th>purpose</th>\n",
       "    </tr>\n",
       "  </thead>\n",
       "  <tbody>\n",
       "    <tr>\n",
       "      <th>4</th>\n",
       "      <td>0</td>\n",
       "      <td>340266.072047</td>\n",
       "      <td>53</td>\n",
       "      <td>среднее</td>\n",
       "      <td>1</td>\n",
       "      <td>гражданский брак</td>\n",
       "      <td>1</td>\n",
       "      <td>F</td>\n",
       "      <td>пенсионер</td>\n",
       "      <td>0</td>\n",
       "      <td>158616</td>\n",
       "      <td>сыграть свадьбу</td>\n",
       "    </tr>\n",
       "    <tr>\n",
       "      <th>18</th>\n",
       "      <td>0</td>\n",
       "      <td>400281.136913</td>\n",
       "      <td>53</td>\n",
       "      <td>среднее</td>\n",
       "      <td>1</td>\n",
       "      <td>вдовец / вдова</td>\n",
       "      <td>2</td>\n",
       "      <td>F</td>\n",
       "      <td>пенсионер</td>\n",
       "      <td>0</td>\n",
       "      <td>56823</td>\n",
       "      <td>на покупку подержанного автомобиля</td>\n",
       "    </tr>\n",
       "    <tr>\n",
       "      <th>24</th>\n",
       "      <td>1</td>\n",
       "      <td>338551.952911</td>\n",
       "      <td>57</td>\n",
       "      <td>среднее</td>\n",
       "      <td>1</td>\n",
       "      <td>Не женат / не замужем</td>\n",
       "      <td>4</td>\n",
       "      <td>F</td>\n",
       "      <td>пенсионер</td>\n",
       "      <td>0</td>\n",
       "      <td>290547</td>\n",
       "      <td>операции с коммерческой недвижимостью</td>\n",
       "    </tr>\n",
       "    <tr>\n",
       "      <th>25</th>\n",
       "      <td>0</td>\n",
       "      <td>363548.489348</td>\n",
       "      <td>67</td>\n",
       "      <td>среднее</td>\n",
       "      <td>1</td>\n",
       "      <td>женат / замужем</td>\n",
       "      <td>0</td>\n",
       "      <td>M</td>\n",
       "      <td>пенсионер</td>\n",
       "      <td>0</td>\n",
       "      <td>55112</td>\n",
       "      <td>покупка недвижимости</td>\n",
       "    </tr>\n",
       "    <tr>\n",
       "      <th>30</th>\n",
       "      <td>1</td>\n",
       "      <td>335581.668515</td>\n",
       "      <td>62</td>\n",
       "      <td>среднее</td>\n",
       "      <td>1</td>\n",
       "      <td>женат / замужем</td>\n",
       "      <td>0</td>\n",
       "      <td>F</td>\n",
       "      <td>пенсионер</td>\n",
       "      <td>0</td>\n",
       "      <td>171456</td>\n",
       "      <td>операции с коммерческой недвижимостью</td>\n",
       "    </tr>\n",
       "    <tr>\n",
       "      <th>...</th>\n",
       "      <td>...</td>\n",
       "      <td>...</td>\n",
       "      <td>...</td>\n",
       "      <td>...</td>\n",
       "      <td>...</td>\n",
       "      <td>...</td>\n",
       "      <td>...</td>\n",
       "      <td>...</td>\n",
       "      <td>...</td>\n",
       "      <td>...</td>\n",
       "      <td>...</td>\n",
       "      <td>...</td>\n",
       "    </tr>\n",
       "    <tr>\n",
       "      <th>21505</th>\n",
       "      <td>0</td>\n",
       "      <td>338904.866406</td>\n",
       "      <td>53</td>\n",
       "      <td>среднее</td>\n",
       "      <td>1</td>\n",
       "      <td>гражданский брак</td>\n",
       "      <td>1</td>\n",
       "      <td>M</td>\n",
       "      <td>пенсионер</td>\n",
       "      <td>0</td>\n",
       "      <td>75439</td>\n",
       "      <td>сыграть свадьбу</td>\n",
       "    </tr>\n",
       "    <tr>\n",
       "      <th>21508</th>\n",
       "      <td>0</td>\n",
       "      <td>386497.714078</td>\n",
       "      <td>62</td>\n",
       "      <td>среднее</td>\n",
       "      <td>1</td>\n",
       "      <td>женат / замужем</td>\n",
       "      <td>0</td>\n",
       "      <td>M</td>\n",
       "      <td>пенсионер</td>\n",
       "      <td>0</td>\n",
       "      <td>72638</td>\n",
       "      <td>недвижимость</td>\n",
       "    </tr>\n",
       "    <tr>\n",
       "      <th>21509</th>\n",
       "      <td>0</td>\n",
       "      <td>362161.054124</td>\n",
       "      <td>59</td>\n",
       "      <td>высшее</td>\n",
       "      <td>0</td>\n",
       "      <td>женат / замужем</td>\n",
       "      <td>0</td>\n",
       "      <td>M</td>\n",
       "      <td>пенсионер</td>\n",
       "      <td>0</td>\n",
       "      <td>73029</td>\n",
       "      <td>операции с недвижимостью</td>\n",
       "    </tr>\n",
       "    <tr>\n",
       "      <th>21518</th>\n",
       "      <td>0</td>\n",
       "      <td>373995.710838</td>\n",
       "      <td>59</td>\n",
       "      <td>СРЕДНЕЕ</td>\n",
       "      <td>1</td>\n",
       "      <td>женат / замужем</td>\n",
       "      <td>0</td>\n",
       "      <td>F</td>\n",
       "      <td>пенсионер</td>\n",
       "      <td>0</td>\n",
       "      <td>153864</td>\n",
       "      <td>сделка с автомобилем</td>\n",
       "    </tr>\n",
       "    <tr>\n",
       "      <th>21521</th>\n",
       "      <td>0</td>\n",
       "      <td>343937.404131</td>\n",
       "      <td>67</td>\n",
       "      <td>среднее</td>\n",
       "      <td>1</td>\n",
       "      <td>женат / замужем</td>\n",
       "      <td>0</td>\n",
       "      <td>F</td>\n",
       "      <td>пенсионер</td>\n",
       "      <td>0</td>\n",
       "      <td>155999</td>\n",
       "      <td>сделка с автомобилем</td>\n",
       "    </tr>\n",
       "  </tbody>\n",
       "</table>\n",
       "<p>3443 rows × 12 columns</p>\n",
       "</div>"
      ],
      "text/plain": [
       "       children  days_employed  dob_years education  education_id  \\\n",
       "4             0  340266.072047         53   среднее             1   \n",
       "18            0  400281.136913         53   среднее             1   \n",
       "24            1  338551.952911         57   среднее             1   \n",
       "25            0  363548.489348         67   среднее             1   \n",
       "30            1  335581.668515         62   среднее             1   \n",
       "...         ...            ...        ...       ...           ...   \n",
       "21505         0  338904.866406         53   среднее             1   \n",
       "21508         0  386497.714078         62   среднее             1   \n",
       "21509         0  362161.054124         59    высшее             0   \n",
       "21518         0  373995.710838         59   СРЕДНЕЕ             1   \n",
       "21521         0  343937.404131         67   среднее             1   \n",
       "\n",
       "               family_status  family_status_id gender income_type  debt  \\\n",
       "4           гражданский брак                 1      F   пенсионер     0   \n",
       "18            вдовец / вдова                 2      F   пенсионер     0   \n",
       "24     Не женат / не замужем                 4      F   пенсионер     0   \n",
       "25           женат / замужем                 0      M   пенсионер     0   \n",
       "30           женат / замужем                 0      F   пенсионер     0   \n",
       "...                      ...               ...    ...         ...   ...   \n",
       "21505       гражданский брак                 1      M   пенсионер     0   \n",
       "21508        женат / замужем                 0      M   пенсионер     0   \n",
       "21509        женат / замужем                 0      M   пенсионер     0   \n",
       "21518        женат / замужем                 0      F   пенсионер     0   \n",
       "21521        женат / замужем                 0      F   пенсионер     0   \n",
       "\n",
       "       total_income                                purpose  \n",
       "4            158616                        сыграть свадьбу  \n",
       "18            56823     на покупку подержанного автомобиля  \n",
       "24           290547  операции с коммерческой недвижимостью  \n",
       "25            55112                   покупка недвижимости  \n",
       "30           171456  операции с коммерческой недвижимостью  \n",
       "...             ...                                    ...  \n",
       "21505         75439                        сыграть свадьбу  \n",
       "21508         72638                           недвижимость  \n",
       "21509         73029               операции с недвижимостью  \n",
       "21518        153864                   сделка с автомобилем  \n",
       "21521        155999                   сделка с автомобилем  \n",
       "\n",
       "[3443 rows x 12 columns]"
      ]
     },
     "execution_count": 13,
     "metadata": {},
     "output_type": "execute_result"
    }
   ],
   "source": [
    "# Presumably all clients with incorrect seniority value are pensioners\n",
    "# Check it out\n",
    "data[(data['days_employed'] > 17500) & (data['income_type'] == 'пенсионер')]"
   ]
  },
  {
   "cell_type": "markdown",
   "metadata": {},
   "source": [
    "The assumption was justified, so you can replace these data with the maximum value for seniority.\n",
    "Or assume that this is the result of an error in the calculation of days, and the resulting values should be divided by 24 hours"
   ]
  },
  {
   "cell_type": "code",
   "execution_count": 14,
   "metadata": {},
   "outputs": [
    {
     "data": {
      "text/plain": [
       "array([   24.14163324,    24.24069479,    30.19533716, ...,\n",
       "       16738.15882287, 16739.80835314,            nan])"
      ]
     },
     "execution_count": 14,
     "metadata": {},
     "output_type": "execute_result"
    }
   ],
   "source": [
    "# Assume the second option and make changes\n",
    "rows = ((data['days_employed'] > 17500))\n",
    "data.loc[rows, 'days_employed'] = data['days_employed'] / (24)\n",
    "data['days_employed'].sort_values().unique()"
   ]
  },
  {
   "cell_type": "code",
   "execution_count": 15,
   "metadata": {},
   "outputs": [
    {
     "data": {
      "text/plain": [
       "17437       24.141633\n",
       "8336        24.240695\n",
       "6157        30.195337\n",
       "9683        33.520665\n",
       "2127        34.701045\n",
       "             ...     \n",
       "7794     16735.993752\n",
       "2156     16736.436110\n",
       "7664     16736.462226\n",
       "10006    16738.158823\n",
       "6954     16739.808353\n",
       "Name: days_employed, Length: 21525, dtype: float64"
      ]
     },
     "execution_count": 15,
     "metadata": {},
     "output_type": "execute_result"
    }
   ],
   "source": [
    "# now find the median value for the days of work experience and fill in the gaps with it\n",
    "days_median = data['days_employed'].median()\n",
    "data['days_employed'] = data['days_employed'].fillna(days_median)\n",
    "data['days_employed'].sort_values()"
   ]
  },
  {
   "cell_type": "code",
   "execution_count": 16,
   "metadata": {},
   "outputs": [
    {
     "name": "stdout",
     "output_type": "stream",
     "text": [
      "<class 'pandas.core.frame.DataFrame'>\n",
      "RangeIndex: 21525 entries, 0 to 21524\n",
      "Data columns (total 12 columns):\n",
      " #   Column            Non-Null Count  Dtype  \n",
      "---  ------            --------------  -----  \n",
      " 0   children          21525 non-null  int64  \n",
      " 1   days_employed     21525 non-null  float64\n",
      " 2   dob_years         21525 non-null  int64  \n",
      " 3   education         21525 non-null  object \n",
      " 4   education_id      21525 non-null  int64  \n",
      " 5   family_status     21525 non-null  object \n",
      " 6   family_status_id  21525 non-null  int64  \n",
      " 7   gender            21525 non-null  object \n",
      " 8   income_type       21525 non-null  object \n",
      " 9   debt              21525 non-null  int64  \n",
      " 10  total_income      21525 non-null  int32  \n",
      " 11  purpose           21525 non-null  object \n",
      "dtypes: float64(1), int32(1), int64(5), object(5)\n",
      "memory usage: 1.9+ MB\n"
     ]
    }
   ],
   "source": [
    "data.info()"
   ]
  },
  {
   "cell_type": "markdown",
   "metadata": {},
   "source": [
    "Thus, the anomalous values in the seniority column are accounted for."
   ]
  },
  {
   "cell_type": "code",
   "execution_count": 17,
   "metadata": {},
   "outputs": [
    {
     "data": {
      "text/plain": [
       "array([ 0, 19, 20, 21, 22, 23, 24, 25, 26, 27, 28, 29, 30, 31, 32, 33, 34,\n",
       "       35, 36, 37, 38, 39, 40, 41, 42, 43, 44, 45, 46, 47, 48, 49, 50, 51,\n",
       "       52, 53, 54, 55, 56, 57, 58, 59, 60, 61, 62, 63, 64, 65, 66, 67, 68,\n",
       "       69, 70, 71, 72, 73, 74, 75], dtype=int64)"
      ]
     },
     "execution_count": 17,
     "metadata": {},
     "output_type": "execute_result"
    }
   ],
   "source": [
    "# Check the values of the 'dob_years' column\n",
    "data['dob_years'].sort_values().unique()"
   ]
  },
  {
   "cell_type": "code",
   "execution_count": 18,
   "metadata": {},
   "outputs": [
    {
     "data": {
      "text/html": [
       "<div>\n",
       "<style scoped>\n",
       "    .dataframe tbody tr th:only-of-type {\n",
       "        vertical-align: middle;\n",
       "    }\n",
       "\n",
       "    .dataframe tbody tr th {\n",
       "        vertical-align: top;\n",
       "    }\n",
       "\n",
       "    .dataframe thead th {\n",
       "        text-align: right;\n",
       "    }\n",
       "</style>\n",
       "<table border=\"1\" class=\"dataframe\">\n",
       "  <thead>\n",
       "    <tr style=\"text-align: right;\">\n",
       "      <th></th>\n",
       "      <th>children</th>\n",
       "      <th>days_employed</th>\n",
       "      <th>dob_years</th>\n",
       "      <th>education</th>\n",
       "      <th>education_id</th>\n",
       "      <th>family_status</th>\n",
       "      <th>family_status_id</th>\n",
       "      <th>gender</th>\n",
       "      <th>income_type</th>\n",
       "      <th>debt</th>\n",
       "      <th>total_income</th>\n",
       "      <th>purpose</th>\n",
       "    </tr>\n",
       "  </thead>\n",
       "  <tbody>\n",
       "    <tr>\n",
       "      <th>99</th>\n",
       "      <td>0</td>\n",
       "      <td>14439.234121</td>\n",
       "      <td>0</td>\n",
       "      <td>Среднее</td>\n",
       "      <td>1</td>\n",
       "      <td>женат / замужем</td>\n",
       "      <td>0</td>\n",
       "      <td>F</td>\n",
       "      <td>пенсионер</td>\n",
       "      <td>0</td>\n",
       "      <td>71291</td>\n",
       "      <td>автомобиль</td>\n",
       "    </tr>\n",
       "    <tr>\n",
       "      <th>149</th>\n",
       "      <td>0</td>\n",
       "      <td>2664.273168</td>\n",
       "      <td>0</td>\n",
       "      <td>среднее</td>\n",
       "      <td>1</td>\n",
       "      <td>в разводе</td>\n",
       "      <td>3</td>\n",
       "      <td>F</td>\n",
       "      <td>сотрудник</td>\n",
       "      <td>0</td>\n",
       "      <td>70176</td>\n",
       "      <td>операции с жильем</td>\n",
       "    </tr>\n",
       "    <tr>\n",
       "      <th>270</th>\n",
       "      <td>3</td>\n",
       "      <td>1872.663186</td>\n",
       "      <td>0</td>\n",
       "      <td>среднее</td>\n",
       "      <td>1</td>\n",
       "      <td>женат / замужем</td>\n",
       "      <td>0</td>\n",
       "      <td>F</td>\n",
       "      <td>сотрудник</td>\n",
       "      <td>0</td>\n",
       "      <td>102166</td>\n",
       "      <td>ремонт жилью</td>\n",
       "    </tr>\n",
       "    <tr>\n",
       "      <th>578</th>\n",
       "      <td>0</td>\n",
       "      <td>16577.356876</td>\n",
       "      <td>0</td>\n",
       "      <td>среднее</td>\n",
       "      <td>1</td>\n",
       "      <td>женат / замужем</td>\n",
       "      <td>0</td>\n",
       "      <td>F</td>\n",
       "      <td>пенсионер</td>\n",
       "      <td>0</td>\n",
       "      <td>97620</td>\n",
       "      <td>строительство собственной недвижимости</td>\n",
       "    </tr>\n",
       "    <tr>\n",
       "      <th>1040</th>\n",
       "      <td>0</td>\n",
       "      <td>1158.029561</td>\n",
       "      <td>0</td>\n",
       "      <td>высшее</td>\n",
       "      <td>0</td>\n",
       "      <td>в разводе</td>\n",
       "      <td>3</td>\n",
       "      <td>F</td>\n",
       "      <td>компаньон</td>\n",
       "      <td>0</td>\n",
       "      <td>303994</td>\n",
       "      <td>свой автомобиль</td>\n",
       "    </tr>\n",
       "    <tr>\n",
       "      <th>...</th>\n",
       "      <td>...</td>\n",
       "      <td>...</td>\n",
       "      <td>...</td>\n",
       "      <td>...</td>\n",
       "      <td>...</td>\n",
       "      <td>...</td>\n",
       "      <td>...</td>\n",
       "      <td>...</td>\n",
       "      <td>...</td>\n",
       "      <td>...</td>\n",
       "      <td>...</td>\n",
       "      <td>...</td>\n",
       "    </tr>\n",
       "    <tr>\n",
       "      <th>19829</th>\n",
       "      <td>0</td>\n",
       "      <td>2194.207271</td>\n",
       "      <td>0</td>\n",
       "      <td>среднее</td>\n",
       "      <td>1</td>\n",
       "      <td>женат / замужем</td>\n",
       "      <td>0</td>\n",
       "      <td>F</td>\n",
       "      <td>сотрудник</td>\n",
       "      <td>0</td>\n",
       "      <td>145017</td>\n",
       "      <td>жилье</td>\n",
       "    </tr>\n",
       "    <tr>\n",
       "      <th>20462</th>\n",
       "      <td>0</td>\n",
       "      <td>14113.952856</td>\n",
       "      <td>0</td>\n",
       "      <td>среднее</td>\n",
       "      <td>1</td>\n",
       "      <td>женат / замужем</td>\n",
       "      <td>0</td>\n",
       "      <td>F</td>\n",
       "      <td>пенсионер</td>\n",
       "      <td>0</td>\n",
       "      <td>259193</td>\n",
       "      <td>покупка своего жилья</td>\n",
       "    </tr>\n",
       "    <tr>\n",
       "      <th>20577</th>\n",
       "      <td>0</td>\n",
       "      <td>13822.552977</td>\n",
       "      <td>0</td>\n",
       "      <td>среднее</td>\n",
       "      <td>1</td>\n",
       "      <td>Не женат / не замужем</td>\n",
       "      <td>4</td>\n",
       "      <td>F</td>\n",
       "      <td>пенсионер</td>\n",
       "      <td>0</td>\n",
       "      <td>129788</td>\n",
       "      <td>недвижимость</td>\n",
       "    </tr>\n",
       "    <tr>\n",
       "      <th>21179</th>\n",
       "      <td>2</td>\n",
       "      <td>108.967042</td>\n",
       "      <td>0</td>\n",
       "      <td>высшее</td>\n",
       "      <td>0</td>\n",
       "      <td>женат / замужем</td>\n",
       "      <td>0</td>\n",
       "      <td>M</td>\n",
       "      <td>компаньон</td>\n",
       "      <td>0</td>\n",
       "      <td>240702</td>\n",
       "      <td>строительство жилой недвижимости</td>\n",
       "    </tr>\n",
       "    <tr>\n",
       "      <th>21313</th>\n",
       "      <td>0</td>\n",
       "      <td>1268.487728</td>\n",
       "      <td>0</td>\n",
       "      <td>среднее</td>\n",
       "      <td>1</td>\n",
       "      <td>Не женат / не замужем</td>\n",
       "      <td>4</td>\n",
       "      <td>M</td>\n",
       "      <td>сотрудник</td>\n",
       "      <td>0</td>\n",
       "      <td>152419</td>\n",
       "      <td>операции с жильем</td>\n",
       "    </tr>\n",
       "  </tbody>\n",
       "</table>\n",
       "<p>101 rows × 12 columns</p>\n",
       "</div>"
      ],
      "text/plain": [
       "       children  days_employed  dob_years education  education_id  \\\n",
       "99            0   14439.234121          0   Среднее             1   \n",
       "149           0    2664.273168          0   среднее             1   \n",
       "270           3    1872.663186          0   среднее             1   \n",
       "578           0   16577.356876          0   среднее             1   \n",
       "1040          0    1158.029561          0    высшее             0   \n",
       "...         ...            ...        ...       ...           ...   \n",
       "19829         0    2194.207271          0   среднее             1   \n",
       "20462         0   14113.952856          0   среднее             1   \n",
       "20577         0   13822.552977          0   среднее             1   \n",
       "21179         2     108.967042          0    высшее             0   \n",
       "21313         0    1268.487728          0   среднее             1   \n",
       "\n",
       "               family_status  family_status_id gender income_type  debt  \\\n",
       "99           женат / замужем                 0      F   пенсионер     0   \n",
       "149                в разводе                 3      F   сотрудник     0   \n",
       "270          женат / замужем                 0      F   сотрудник     0   \n",
       "578          женат / замужем                 0      F   пенсионер     0   \n",
       "1040               в разводе                 3      F   компаньон     0   \n",
       "...                      ...               ...    ...         ...   ...   \n",
       "19829        женат / замужем                 0      F   сотрудник     0   \n",
       "20462        женат / замужем                 0      F   пенсионер     0   \n",
       "20577  Не женат / не замужем                 4      F   пенсионер     0   \n",
       "21179        женат / замужем                 0      M   компаньон     0   \n",
       "21313  Не женат / не замужем                 4      M   сотрудник     0   \n",
       "\n",
       "       total_income                                 purpose  \n",
       "99            71291                              автомобиль  \n",
       "149           70176                       операции с жильем  \n",
       "270          102166                            ремонт жилью  \n",
       "578           97620  строительство собственной недвижимости  \n",
       "1040         303994                         свой автомобиль  \n",
       "...             ...                                     ...  \n",
       "19829        145017                                   жилье  \n",
       "20462        259193                    покупка своего жилья  \n",
       "20577        129788                            недвижимость  \n",
       "21179        240702        строительство жилой недвижимости  \n",
       "21313        152419                       операции с жильем  \n",
       "\n",
       "[101 rows x 12 columns]"
      ]
     },
     "execution_count": 18,
     "metadata": {},
     "output_type": "execute_result"
    }
   ],
   "source": [
    "# Specify the number of 0 values\n",
    "data[data['dob_years'] == 0]"
   ]
  },
  {
   "cell_type": "code",
   "execution_count": 19,
   "metadata": {},
   "outputs": [
    {
     "data": {
      "text/plain": [
       "array([19, 20, 21, 22, 23, 24, 25, 26, 27, 28, 29, 30, 31, 32, 33, 34, 35,\n",
       "       36, 37, 38, 39, 40, 41, 42, 43, 44, 45, 46, 47, 48, 49, 50, 51, 52,\n",
       "       53, 54, 55, 56, 57, 58, 59, 60, 61, 62, 63, 64, 65, 66, 67, 68, 69,\n",
       "       70, 71, 72, 73, 74, 75], dtype=int64)"
      ]
     },
     "execution_count": 19,
     "metadata": {},
     "output_type": "execute_result"
    }
   ],
   "source": [
    "# Fill 0 values with the median\n",
    "days_median = data['dob_years'].median()\n",
    "rows = ((data['dob_years'] == 0))\n",
    "data.loc[rows, 'dob_years'] = days_median\n",
    "data['dob_years'].sort_values().unique()"
   ]
  },
  {
   "cell_type": "code",
   "execution_count": 20,
   "metadata": {},
   "outputs": [
    {
     "data": {
      "text/plain": [
       "array(['высшее', 'начальное', 'неоконченное высшее', 'среднее',\n",
       "       'ученая степень'], dtype=object)"
      ]
     },
     "execution_count": 20,
     "metadata": {},
     "output_type": "execute_result"
    }
   ],
   "source": [
    "# Check the values of the 'dob_years' column and get rid of duplicates\n",
    "data['education'] = data['education'].str.lower()\n",
    "data = data.drop_duplicates()\n",
    "data['education'].sort_values().unique()"
   ]
  },
  {
   "cell_type": "code",
   "execution_count": 21,
   "metadata": {},
   "outputs": [
    {
     "data": {
      "text/plain": [
       "array([0, 1, 2, 3, 4], dtype=int64)"
      ]
     },
     "execution_count": 21,
     "metadata": {},
     "output_type": "execute_result"
    }
   ],
   "source": [
    "# Checking the learning column\n",
    "data['education_id'].sort_values().unique()"
   ]
  },
  {
   "cell_type": "code",
   "execution_count": 22,
   "metadata": {},
   "outputs": [
    {
     "data": {
      "text/plain": [
       "array(['Не женат / не замужем', 'в разводе', 'вдовец / вдова',\n",
       "       'гражданский брак', 'женат / замужем'], dtype=object)"
      ]
     },
     "execution_count": 22,
     "metadata": {},
     "output_type": "execute_result"
    }
   ],
   "source": [
    "# Checking the 'family_status' column\n",
    "data['family_status'].sort_values().unique()"
   ]
  },
  {
   "cell_type": "code",
   "execution_count": 23,
   "metadata": {},
   "outputs": [
    {
     "data": {
      "text/plain": [
       "array([0, 1, 2, 3, 4], dtype=int64)"
      ]
     },
     "execution_count": 23,
     "metadata": {},
     "output_type": "execute_result"
    }
   ],
   "source": [
    "# Check column 'family_status_id'\n",
    "data['family_status_id'].sort_values().unique()"
   ]
  },
  {
   "cell_type": "code",
   "execution_count": 24,
   "metadata": {},
   "outputs": [
    {
     "data": {
      "text/plain": [
       "0          F\n",
       "12840      F\n",
       "12841      F\n",
       "12844      F\n",
       "12845      F\n",
       "        ... \n",
       "11053      M\n",
       "11054      M\n",
       "3841       M\n",
       "10743      M\n",
       "10701    XNA\n",
       "Name: gender, Length: 21453, dtype: object"
      ]
     },
     "execution_count": 24,
     "metadata": {},
     "output_type": "execute_result"
    }
   ],
   "source": [
    "# Checking the 'gender' column\n",
    "data['gender'].sort_values()"
   ]
  },
  {
   "cell_type": "code",
   "execution_count": 25,
   "metadata": {},
   "outputs": [
    {
     "data": {
      "text/plain": [
       "0        F\n",
       "12840    F\n",
       "12841    F\n",
       "12844    F\n",
       "12845    F\n",
       "        ..\n",
       "11054    M\n",
       "11055    M\n",
       "11056    M\n",
       "3831     M\n",
       "10743    M\n",
       "Name: gender, Length: 21452, dtype: object"
      ]
     },
     "execution_count": 25,
     "metadata": {},
     "output_type": "execute_result"
    }
   ],
   "source": [
    "data[data['gender'] == 'XNA']\n",
    "data = data.drop(labels = [10701],axis = 0)\n",
    "data['gender'].sort_values()"
   ]
  },
  {
   "cell_type": "code",
   "execution_count": 26,
   "metadata": {},
   "outputs": [
    {
     "data": {
      "text/plain": [
       "array(['безработный', 'в декрете', 'госслужащий', 'компаньон',\n",
       "       'пенсионер', 'предприниматель', 'сотрудник', 'студент'],\n",
       "      dtype=object)"
      ]
     },
     "execution_count": 26,
     "metadata": {},
     "output_type": "execute_result"
    }
   ],
   "source": [
    "# Check column 'income_type'\n",
    "data['income_type'].sort_values().unique()"
   ]
  },
  {
   "cell_type": "markdown",
   "metadata": {},
   "source": [
    "**Conclusion**\n",
    "\n",
    "Outliers and duplicates in various columns were processed.\n",
    "\n",
    "To handle implicit duplicates, a string reduction method was used.\n",
    "The median value was used to fill in zero age values.\n",
    "The value of XNA in gender remained unchanged, since it does not contribute much to the sample. Removing this line is irrational.\n",
    "\n",
    "The largest number of questions arose with the `days_employed` column. Most likely, there is an error in the algorithm for filling this variable"
   ]
  },
  {
   "cell_type": "markdown",
   "metadata": {},
   "source": [
    "### Lemmatization"
   ]
  },
  {
   "cell_type": "code",
   "execution_count": 27,
   "metadata": {},
   "outputs": [
    {
     "data": {
      "text/html": [
       "<div>\n",
       "<style scoped>\n",
       "    .dataframe tbody tr th:only-of-type {\n",
       "        vertical-align: middle;\n",
       "    }\n",
       "\n",
       "    .dataframe tbody tr th {\n",
       "        vertical-align: top;\n",
       "    }\n",
       "\n",
       "    .dataframe thead th {\n",
       "        text-align: right;\n",
       "    }\n",
       "</style>\n",
       "<table border=\"1\" class=\"dataframe\">\n",
       "  <thead>\n",
       "    <tr style=\"text-align: right;\">\n",
       "      <th></th>\n",
       "      <th>children</th>\n",
       "      <th>days_employed</th>\n",
       "      <th>dob_years</th>\n",
       "      <th>education</th>\n",
       "      <th>education_id</th>\n",
       "      <th>family_status</th>\n",
       "      <th>family_status_id</th>\n",
       "      <th>gender</th>\n",
       "      <th>income_type</th>\n",
       "      <th>debt</th>\n",
       "      <th>total_income</th>\n",
       "      <th>purpose</th>\n",
       "      <th>purpose_category</th>\n",
       "    </tr>\n",
       "  </thead>\n",
       "  <tbody>\n",
       "    <tr>\n",
       "      <th>0</th>\n",
       "      <td>1</td>\n",
       "      <td>8437.673028</td>\n",
       "      <td>42</td>\n",
       "      <td>высшее</td>\n",
       "      <td>0</td>\n",
       "      <td>женат / замужем</td>\n",
       "      <td>0</td>\n",
       "      <td>F</td>\n",
       "      <td>сотрудник</td>\n",
       "      <td>0</td>\n",
       "      <td>253875</td>\n",
       "      <td>покупка жилья</td>\n",
       "      <td>операции с недвижимостью</td>\n",
       "    </tr>\n",
       "    <tr>\n",
       "      <th>1</th>\n",
       "      <td>1</td>\n",
       "      <td>4024.803754</td>\n",
       "      <td>36</td>\n",
       "      <td>среднее</td>\n",
       "      <td>1</td>\n",
       "      <td>женат / замужем</td>\n",
       "      <td>0</td>\n",
       "      <td>F</td>\n",
       "      <td>сотрудник</td>\n",
       "      <td>0</td>\n",
       "      <td>112080</td>\n",
       "      <td>приобретение автомобиля</td>\n",
       "      <td>операции с автомобилем</td>\n",
       "    </tr>\n",
       "    <tr>\n",
       "      <th>2</th>\n",
       "      <td>0</td>\n",
       "      <td>5623.422610</td>\n",
       "      <td>33</td>\n",
       "      <td>среднее</td>\n",
       "      <td>1</td>\n",
       "      <td>женат / замужем</td>\n",
       "      <td>0</td>\n",
       "      <td>M</td>\n",
       "      <td>сотрудник</td>\n",
       "      <td>0</td>\n",
       "      <td>145885</td>\n",
       "      <td>покупка жилья</td>\n",
       "      <td>операции с недвижимостью</td>\n",
       "    </tr>\n",
       "    <tr>\n",
       "      <th>3</th>\n",
       "      <td>3</td>\n",
       "      <td>4124.747207</td>\n",
       "      <td>32</td>\n",
       "      <td>среднее</td>\n",
       "      <td>1</td>\n",
       "      <td>женат / замужем</td>\n",
       "      <td>0</td>\n",
       "      <td>M</td>\n",
       "      <td>сотрудник</td>\n",
       "      <td>0</td>\n",
       "      <td>267628</td>\n",
       "      <td>дополнительное образование</td>\n",
       "      <td>получение образования</td>\n",
       "    </tr>\n",
       "    <tr>\n",
       "      <th>4</th>\n",
       "      <td>0</td>\n",
       "      <td>14177.753002</td>\n",
       "      <td>53</td>\n",
       "      <td>среднее</td>\n",
       "      <td>1</td>\n",
       "      <td>гражданский брак</td>\n",
       "      <td>1</td>\n",
       "      <td>F</td>\n",
       "      <td>пенсионер</td>\n",
       "      <td>0</td>\n",
       "      <td>158616</td>\n",
       "      <td>сыграть свадьбу</td>\n",
       "      <td>проведение свадьбы</td>\n",
       "    </tr>\n",
       "    <tr>\n",
       "      <th>5</th>\n",
       "      <td>0</td>\n",
       "      <td>926.185831</td>\n",
       "      <td>27</td>\n",
       "      <td>высшее</td>\n",
       "      <td>0</td>\n",
       "      <td>гражданский брак</td>\n",
       "      <td>1</td>\n",
       "      <td>M</td>\n",
       "      <td>компаньон</td>\n",
       "      <td>0</td>\n",
       "      <td>255763</td>\n",
       "      <td>покупка жилья</td>\n",
       "      <td>операции с недвижимостью</td>\n",
       "    </tr>\n",
       "    <tr>\n",
       "      <th>6</th>\n",
       "      <td>0</td>\n",
       "      <td>2879.202052</td>\n",
       "      <td>43</td>\n",
       "      <td>высшее</td>\n",
       "      <td>0</td>\n",
       "      <td>женат / замужем</td>\n",
       "      <td>0</td>\n",
       "      <td>F</td>\n",
       "      <td>компаньон</td>\n",
       "      <td>0</td>\n",
       "      <td>240525</td>\n",
       "      <td>операции с жильем</td>\n",
       "      <td>операции с недвижимостью</td>\n",
       "    </tr>\n",
       "    <tr>\n",
       "      <th>7</th>\n",
       "      <td>0</td>\n",
       "      <td>152.779569</td>\n",
       "      <td>50</td>\n",
       "      <td>среднее</td>\n",
       "      <td>1</td>\n",
       "      <td>женат / замужем</td>\n",
       "      <td>0</td>\n",
       "      <td>M</td>\n",
       "      <td>сотрудник</td>\n",
       "      <td>0</td>\n",
       "      <td>135823</td>\n",
       "      <td>образование</td>\n",
       "      <td>получение образования</td>\n",
       "    </tr>\n",
       "    <tr>\n",
       "      <th>8</th>\n",
       "      <td>2</td>\n",
       "      <td>6929.865299</td>\n",
       "      <td>35</td>\n",
       "      <td>высшее</td>\n",
       "      <td>0</td>\n",
       "      <td>гражданский брак</td>\n",
       "      <td>1</td>\n",
       "      <td>F</td>\n",
       "      <td>сотрудник</td>\n",
       "      <td>0</td>\n",
       "      <td>95856</td>\n",
       "      <td>на проведение свадьбы</td>\n",
       "      <td>проведение свадьбы</td>\n",
       "    </tr>\n",
       "    <tr>\n",
       "      <th>9</th>\n",
       "      <td>0</td>\n",
       "      <td>2188.756445</td>\n",
       "      <td>41</td>\n",
       "      <td>среднее</td>\n",
       "      <td>1</td>\n",
       "      <td>женат / замужем</td>\n",
       "      <td>0</td>\n",
       "      <td>M</td>\n",
       "      <td>сотрудник</td>\n",
       "      <td>0</td>\n",
       "      <td>144425</td>\n",
       "      <td>покупка жилья для семьи</td>\n",
       "      <td>операции с недвижимостью</td>\n",
       "    </tr>\n",
       "    <tr>\n",
       "      <th>10</th>\n",
       "      <td>2</td>\n",
       "      <td>4171.483647</td>\n",
       "      <td>36</td>\n",
       "      <td>высшее</td>\n",
       "      <td>0</td>\n",
       "      <td>женат / замужем</td>\n",
       "      <td>0</td>\n",
       "      <td>M</td>\n",
       "      <td>компаньон</td>\n",
       "      <td>0</td>\n",
       "      <td>113943</td>\n",
       "      <td>покупка недвижимости</td>\n",
       "      <td>операции с недвижимостью</td>\n",
       "    </tr>\n",
       "    <tr>\n",
       "      <th>11</th>\n",
       "      <td>0</td>\n",
       "      <td>792.701887</td>\n",
       "      <td>40</td>\n",
       "      <td>среднее</td>\n",
       "      <td>1</td>\n",
       "      <td>женат / замужем</td>\n",
       "      <td>0</td>\n",
       "      <td>F</td>\n",
       "      <td>сотрудник</td>\n",
       "      <td>0</td>\n",
       "      <td>77069</td>\n",
       "      <td>покупка коммерческой недвижимости</td>\n",
       "      <td>операции с недвижимостью</td>\n",
       "    </tr>\n",
       "    <tr>\n",
       "      <th>12</th>\n",
       "      <td>0</td>\n",
       "      <td>2194.207271</td>\n",
       "      <td>65</td>\n",
       "      <td>среднее</td>\n",
       "      <td>1</td>\n",
       "      <td>гражданский брак</td>\n",
       "      <td>1</td>\n",
       "      <td>M</td>\n",
       "      <td>пенсионер</td>\n",
       "      <td>0</td>\n",
       "      <td>145017</td>\n",
       "      <td>сыграть свадьбу</td>\n",
       "      <td>проведение свадьбы</td>\n",
       "    </tr>\n",
       "    <tr>\n",
       "      <th>13</th>\n",
       "      <td>0</td>\n",
       "      <td>1846.641941</td>\n",
       "      <td>54</td>\n",
       "      <td>неоконченное высшее</td>\n",
       "      <td>2</td>\n",
       "      <td>женат / замужем</td>\n",
       "      <td>0</td>\n",
       "      <td>F</td>\n",
       "      <td>сотрудник</td>\n",
       "      <td>0</td>\n",
       "      <td>130458</td>\n",
       "      <td>приобретение автомобиля</td>\n",
       "      <td>операции с автомобилем</td>\n",
       "    </tr>\n",
       "    <tr>\n",
       "      <th>14</th>\n",
       "      <td>0</td>\n",
       "      <td>1844.956182</td>\n",
       "      <td>56</td>\n",
       "      <td>высшее</td>\n",
       "      <td>0</td>\n",
       "      <td>гражданский брак</td>\n",
       "      <td>1</td>\n",
       "      <td>F</td>\n",
       "      <td>компаньон</td>\n",
       "      <td>1</td>\n",
       "      <td>165127</td>\n",
       "      <td>покупка жилой недвижимости</td>\n",
       "      <td>операции с недвижимостью</td>\n",
       "    </tr>\n",
       "    <tr>\n",
       "      <th>15</th>\n",
       "      <td>1</td>\n",
       "      <td>972.364419</td>\n",
       "      <td>26</td>\n",
       "      <td>среднее</td>\n",
       "      <td>1</td>\n",
       "      <td>женат / замужем</td>\n",
       "      <td>0</td>\n",
       "      <td>F</td>\n",
       "      <td>сотрудник</td>\n",
       "      <td>0</td>\n",
       "      <td>116820</td>\n",
       "      <td>строительство собственной недвижимости</td>\n",
       "      <td>операции с недвижимостью</td>\n",
       "    </tr>\n",
       "    <tr>\n",
       "      <th>16</th>\n",
       "      <td>0</td>\n",
       "      <td>1719.934226</td>\n",
       "      <td>35</td>\n",
       "      <td>среднее</td>\n",
       "      <td>1</td>\n",
       "      <td>женат / замужем</td>\n",
       "      <td>0</td>\n",
       "      <td>F</td>\n",
       "      <td>сотрудник</td>\n",
       "      <td>0</td>\n",
       "      <td>289202</td>\n",
       "      <td>недвижимость</td>\n",
       "      <td>операции с недвижимостью</td>\n",
       "    </tr>\n",
       "    <tr>\n",
       "      <th>17</th>\n",
       "      <td>0</td>\n",
       "      <td>2369.999720</td>\n",
       "      <td>33</td>\n",
       "      <td>высшее</td>\n",
       "      <td>0</td>\n",
       "      <td>гражданский брак</td>\n",
       "      <td>1</td>\n",
       "      <td>M</td>\n",
       "      <td>сотрудник</td>\n",
       "      <td>0</td>\n",
       "      <td>90410</td>\n",
       "      <td>строительство недвижимости</td>\n",
       "      <td>операции с недвижимостью</td>\n",
       "    </tr>\n",
       "    <tr>\n",
       "      <th>18</th>\n",
       "      <td>0</td>\n",
       "      <td>16678.380705</td>\n",
       "      <td>53</td>\n",
       "      <td>среднее</td>\n",
       "      <td>1</td>\n",
       "      <td>вдовец / вдова</td>\n",
       "      <td>2</td>\n",
       "      <td>F</td>\n",
       "      <td>пенсионер</td>\n",
       "      <td>0</td>\n",
       "      <td>56823</td>\n",
       "      <td>на покупку подержанного автомобиля</td>\n",
       "      <td>операции с автомобилем</td>\n",
       "    </tr>\n",
       "    <tr>\n",
       "      <th>19</th>\n",
       "      <td>0</td>\n",
       "      <td>10038.818549</td>\n",
       "      <td>48</td>\n",
       "      <td>среднее</td>\n",
       "      <td>1</td>\n",
       "      <td>в разводе</td>\n",
       "      <td>3</td>\n",
       "      <td>F</td>\n",
       "      <td>сотрудник</td>\n",
       "      <td>0</td>\n",
       "      <td>242831</td>\n",
       "      <td>на покупку своего автомобиля</td>\n",
       "      <td>операции с автомобилем</td>\n",
       "    </tr>\n",
       "    <tr>\n",
       "      <th>20</th>\n",
       "      <td>1</td>\n",
       "      <td>1311.604166</td>\n",
       "      <td>36</td>\n",
       "      <td>среднее</td>\n",
       "      <td>1</td>\n",
       "      <td>женат / замужем</td>\n",
       "      <td>0</td>\n",
       "      <td>M</td>\n",
       "      <td>сотрудник</td>\n",
       "      <td>0</td>\n",
       "      <td>209552</td>\n",
       "      <td>недвижимость</td>\n",
       "      <td>операции с недвижимостью</td>\n",
       "    </tr>\n",
       "    <tr>\n",
       "      <th>21</th>\n",
       "      <td>1</td>\n",
       "      <td>253.685166</td>\n",
       "      <td>33</td>\n",
       "      <td>среднее</td>\n",
       "      <td>1</td>\n",
       "      <td>гражданский брак</td>\n",
       "      <td>1</td>\n",
       "      <td>F</td>\n",
       "      <td>сотрудник</td>\n",
       "      <td>0</td>\n",
       "      <td>131812</td>\n",
       "      <td>приобретение автомобиля</td>\n",
       "      <td>операции с автомобилем</td>\n",
       "    </tr>\n",
       "    <tr>\n",
       "      <th>22</th>\n",
       "      <td>1</td>\n",
       "      <td>1766.644138</td>\n",
       "      <td>24</td>\n",
       "      <td>среднее</td>\n",
       "      <td>1</td>\n",
       "      <td>гражданский брак</td>\n",
       "      <td>1</td>\n",
       "      <td>F</td>\n",
       "      <td>сотрудник</td>\n",
       "      <td>0</td>\n",
       "      <td>149681</td>\n",
       "      <td>на покупку подержанного автомобиля</td>\n",
       "      <td>операции с автомобилем</td>\n",
       "    </tr>\n",
       "    <tr>\n",
       "      <th>23</th>\n",
       "      <td>0</td>\n",
       "      <td>272.981385</td>\n",
       "      <td>21</td>\n",
       "      <td>высшее</td>\n",
       "      <td>0</td>\n",
       "      <td>гражданский брак</td>\n",
       "      <td>1</td>\n",
       "      <td>M</td>\n",
       "      <td>сотрудник</td>\n",
       "      <td>0</td>\n",
       "      <td>128265</td>\n",
       "      <td>сыграть свадьбу</td>\n",
       "      <td>проведение свадьбы</td>\n",
       "    </tr>\n",
       "    <tr>\n",
       "      <th>24</th>\n",
       "      <td>1</td>\n",
       "      <td>14106.331371</td>\n",
       "      <td>57</td>\n",
       "      <td>среднее</td>\n",
       "      <td>1</td>\n",
       "      <td>Не женат / не замужем</td>\n",
       "      <td>4</td>\n",
       "      <td>F</td>\n",
       "      <td>пенсионер</td>\n",
       "      <td>0</td>\n",
       "      <td>290547</td>\n",
       "      <td>операции с коммерческой недвижимостью</td>\n",
       "      <td>операции с недвижимостью</td>\n",
       "    </tr>\n",
       "    <tr>\n",
       "      <th>25</th>\n",
       "      <td>0</td>\n",
       "      <td>15147.853723</td>\n",
       "      <td>67</td>\n",
       "      <td>среднее</td>\n",
       "      <td>1</td>\n",
       "      <td>женат / замужем</td>\n",
       "      <td>0</td>\n",
       "      <td>M</td>\n",
       "      <td>пенсионер</td>\n",
       "      <td>0</td>\n",
       "      <td>55112</td>\n",
       "      <td>покупка недвижимости</td>\n",
       "      <td>операции с недвижимостью</td>\n",
       "    </tr>\n",
       "    <tr>\n",
       "      <th>26</th>\n",
       "      <td>0</td>\n",
       "      <td>2194.207271</td>\n",
       "      <td>41</td>\n",
       "      <td>среднее</td>\n",
       "      <td>1</td>\n",
       "      <td>женат / замужем</td>\n",
       "      <td>0</td>\n",
       "      <td>M</td>\n",
       "      <td>госслужащий</td>\n",
       "      <td>0</td>\n",
       "      <td>145017</td>\n",
       "      <td>образование</td>\n",
       "      <td>получение образования</td>\n",
       "    </tr>\n",
       "    <tr>\n",
       "      <th>27</th>\n",
       "      <td>0</td>\n",
       "      <td>529.191635</td>\n",
       "      <td>28</td>\n",
       "      <td>высшее</td>\n",
       "      <td>0</td>\n",
       "      <td>женат / замужем</td>\n",
       "      <td>0</td>\n",
       "      <td>M</td>\n",
       "      <td>сотрудник</td>\n",
       "      <td>0</td>\n",
       "      <td>308848</td>\n",
       "      <td>строительство собственной недвижимости</td>\n",
       "      <td>операции с недвижимостью</td>\n",
       "    </tr>\n",
       "    <tr>\n",
       "      <th>28</th>\n",
       "      <td>1</td>\n",
       "      <td>717.274324</td>\n",
       "      <td>26</td>\n",
       "      <td>высшее</td>\n",
       "      <td>0</td>\n",
       "      <td>женат / замужем</td>\n",
       "      <td>0</td>\n",
       "      <td>F</td>\n",
       "      <td>сотрудник</td>\n",
       "      <td>0</td>\n",
       "      <td>187863</td>\n",
       "      <td>строительство собственной недвижимости</td>\n",
       "      <td>операции с недвижимостью</td>\n",
       "    </tr>\n",
       "    <tr>\n",
       "      <th>29</th>\n",
       "      <td>0</td>\n",
       "      <td>2194.207271</td>\n",
       "      <td>63</td>\n",
       "      <td>среднее</td>\n",
       "      <td>1</td>\n",
       "      <td>Не женат / не замужем</td>\n",
       "      <td>4</td>\n",
       "      <td>F</td>\n",
       "      <td>пенсионер</td>\n",
       "      <td>0</td>\n",
       "      <td>145017</td>\n",
       "      <td>строительство жилой недвижимости</td>\n",
       "      <td>операции с недвижимостью</td>\n",
       "    </tr>\n",
       "    <tr>\n",
       "      <th>30</th>\n",
       "      <td>1</td>\n",
       "      <td>13982.569521</td>\n",
       "      <td>62</td>\n",
       "      <td>среднее</td>\n",
       "      <td>1</td>\n",
       "      <td>женат / замужем</td>\n",
       "      <td>0</td>\n",
       "      <td>F</td>\n",
       "      <td>пенсионер</td>\n",
       "      <td>0</td>\n",
       "      <td>171456</td>\n",
       "      <td>операции с коммерческой недвижимостью</td>\n",
       "      <td>операции с недвижимостью</td>\n",
       "    </tr>\n",
       "    <tr>\n",
       "      <th>31</th>\n",
       "      <td>0</td>\n",
       "      <td>1682.083438</td>\n",
       "      <td>47</td>\n",
       "      <td>начальное</td>\n",
       "      <td>3</td>\n",
       "      <td>женат / замужем</td>\n",
       "      <td>0</td>\n",
       "      <td>F</td>\n",
       "      <td>сотрудник</td>\n",
       "      <td>0</td>\n",
       "      <td>275485</td>\n",
       "      <td>жилье</td>\n",
       "      <td>операции с недвижимостью</td>\n",
       "    </tr>\n",
       "    <tr>\n",
       "      <th>32</th>\n",
       "      <td>0</td>\n",
       "      <td>4649.910832</td>\n",
       "      <td>34</td>\n",
       "      <td>среднее</td>\n",
       "      <td>1</td>\n",
       "      <td>гражданский брак</td>\n",
       "      <td>1</td>\n",
       "      <td>F</td>\n",
       "      <td>сотрудник</td>\n",
       "      <td>1</td>\n",
       "      <td>139057</td>\n",
       "      <td>на проведение свадьбы</td>\n",
       "      <td>проведение свадьбы</td>\n",
       "    </tr>\n",
       "    <tr>\n",
       "      <th>33</th>\n",
       "      <td>0</td>\n",
       "      <td>1548.637544</td>\n",
       "      <td>48</td>\n",
       "      <td>среднее</td>\n",
       "      <td>1</td>\n",
       "      <td>женат / замужем</td>\n",
       "      <td>0</td>\n",
       "      <td>F</td>\n",
       "      <td>компаньон</td>\n",
       "      <td>0</td>\n",
       "      <td>157245</td>\n",
       "      <td>покупка жилья</td>\n",
       "      <td>операции с недвижимостью</td>\n",
       "    </tr>\n",
       "    <tr>\n",
       "      <th>34</th>\n",
       "      <td>0</td>\n",
       "      <td>4488.067031</td>\n",
       "      <td>35</td>\n",
       "      <td>среднее</td>\n",
       "      <td>1</td>\n",
       "      <td>женат / замужем</td>\n",
       "      <td>0</td>\n",
       "      <td>F</td>\n",
       "      <td>сотрудник</td>\n",
       "      <td>0</td>\n",
       "      <td>104660</td>\n",
       "      <td>операции со своей недвижимостью</td>\n",
       "      <td>операции с недвижимостью</td>\n",
       "    </tr>\n",
       "    <tr>\n",
       "      <th>35</th>\n",
       "      <td>0</td>\n",
       "      <td>16417.544674</td>\n",
       "      <td>68</td>\n",
       "      <td>среднее</td>\n",
       "      <td>1</td>\n",
       "      <td>гражданский брак</td>\n",
       "      <td>1</td>\n",
       "      <td>M</td>\n",
       "      <td>пенсионер</td>\n",
       "      <td>0</td>\n",
       "      <td>77805</td>\n",
       "      <td>на проведение свадьбы</td>\n",
       "      <td>проведение свадьбы</td>\n",
       "    </tr>\n",
       "    <tr>\n",
       "      <th>36</th>\n",
       "      <td>0</td>\n",
       "      <td>176.216688</td>\n",
       "      <td>33</td>\n",
       "      <td>среднее</td>\n",
       "      <td>1</td>\n",
       "      <td>Не женат / не замужем</td>\n",
       "      <td>4</td>\n",
       "      <td>M</td>\n",
       "      <td>сотрудник</td>\n",
       "      <td>0</td>\n",
       "      <td>138830</td>\n",
       "      <td>автомобили</td>\n",
       "      <td>операции с автомобилем</td>\n",
       "    </tr>\n",
       "    <tr>\n",
       "      <th>37</th>\n",
       "      <td>0</td>\n",
       "      <td>6448.810860</td>\n",
       "      <td>43</td>\n",
       "      <td>высшее</td>\n",
       "      <td>0</td>\n",
       "      <td>гражданский брак</td>\n",
       "      <td>1</td>\n",
       "      <td>F</td>\n",
       "      <td>компаньон</td>\n",
       "      <td>0</td>\n",
       "      <td>154128</td>\n",
       "      <td>приобретение автомобиля</td>\n",
       "      <td>операции с автомобилем</td>\n",
       "    </tr>\n",
       "    <tr>\n",
       "      <th>38</th>\n",
       "      <td>0</td>\n",
       "      <td>597.881827</td>\n",
       "      <td>25</td>\n",
       "      <td>высшее</td>\n",
       "      <td>0</td>\n",
       "      <td>Не женат / не замужем</td>\n",
       "      <td>4</td>\n",
       "      <td>M</td>\n",
       "      <td>сотрудник</td>\n",
       "      <td>1</td>\n",
       "      <td>192247</td>\n",
       "      <td>образование</td>\n",
       "      <td>получение образования</td>\n",
       "    </tr>\n",
       "    <tr>\n",
       "      <th>39</th>\n",
       "      <td>0</td>\n",
       "      <td>650.587796</td>\n",
       "      <td>31</td>\n",
       "      <td>высшее</td>\n",
       "      <td>0</td>\n",
       "      <td>гражданский брак</td>\n",
       "      <td>1</td>\n",
       "      <td>F</td>\n",
       "      <td>компаньон</td>\n",
       "      <td>0</td>\n",
       "      <td>754240</td>\n",
       "      <td>заняться образованием</td>\n",
       "      <td>получение образования</td>\n",
       "    </tr>\n",
       "    <tr>\n",
       "      <th>40</th>\n",
       "      <td>0</td>\n",
       "      <td>1030.362606</td>\n",
       "      <td>30</td>\n",
       "      <td>среднее</td>\n",
       "      <td>1</td>\n",
       "      <td>Не женат / не замужем</td>\n",
       "      <td>4</td>\n",
       "      <td>M</td>\n",
       "      <td>компаньон</td>\n",
       "      <td>0</td>\n",
       "      <td>142865</td>\n",
       "      <td>покупка недвижимости</td>\n",
       "      <td>операции с недвижимостью</td>\n",
       "    </tr>\n",
       "    <tr>\n",
       "      <th>41</th>\n",
       "      <td>0</td>\n",
       "      <td>2194.207271</td>\n",
       "      <td>50</td>\n",
       "      <td>среднее</td>\n",
       "      <td>1</td>\n",
       "      <td>женат / замужем</td>\n",
       "      <td>0</td>\n",
       "      <td>F</td>\n",
       "      <td>госслужащий</td>\n",
       "      <td>0</td>\n",
       "      <td>145017</td>\n",
       "      <td>сделка с подержанным автомобилем</td>\n",
       "      <td>операции с автомобилем</td>\n",
       "    </tr>\n",
       "    <tr>\n",
       "      <th>42</th>\n",
       "      <td>0</td>\n",
       "      <td>1257.496190</td>\n",
       "      <td>20</td>\n",
       "      <td>неоконченное высшее</td>\n",
       "      <td>2</td>\n",
       "      <td>Не женат / не замужем</td>\n",
       "      <td>4</td>\n",
       "      <td>F</td>\n",
       "      <td>сотрудник</td>\n",
       "      <td>0</td>\n",
       "      <td>82065</td>\n",
       "      <td>получение образования</td>\n",
       "      <td>получение образования</td>\n",
       "    </tr>\n",
       "    <tr>\n",
       "      <th>43</th>\n",
       "      <td>0</td>\n",
       "      <td>4375.681384</td>\n",
       "      <td>43</td>\n",
       "      <td>неоконченное высшее</td>\n",
       "      <td>2</td>\n",
       "      <td>в разводе</td>\n",
       "      <td>3</td>\n",
       "      <td>F</td>\n",
       "      <td>компаньон</td>\n",
       "      <td>0</td>\n",
       "      <td>272957</td>\n",
       "      <td>приобретение автомобиля</td>\n",
       "      <td>операции с автомобилем</td>\n",
       "    </tr>\n",
       "    <tr>\n",
       "      <th>44</th>\n",
       "      <td>1</td>\n",
       "      <td>1362.041728</td>\n",
       "      <td>26</td>\n",
       "      <td>среднее</td>\n",
       "      <td>1</td>\n",
       "      <td>женат / замужем</td>\n",
       "      <td>0</td>\n",
       "      <td>F</td>\n",
       "      <td>сотрудник</td>\n",
       "      <td>0</td>\n",
       "      <td>100780</td>\n",
       "      <td>на покупку своего автомобиля</td>\n",
       "      <td>операции с автомобилем</td>\n",
       "    </tr>\n",
       "    <tr>\n",
       "      <th>45</th>\n",
       "      <td>1</td>\n",
       "      <td>1039.451741</td>\n",
       "      <td>49</td>\n",
       "      <td>среднее</td>\n",
       "      <td>1</td>\n",
       "      <td>Не женат / не замужем</td>\n",
       "      <td>4</td>\n",
       "      <td>F</td>\n",
       "      <td>сотрудник</td>\n",
       "      <td>0</td>\n",
       "      <td>106385</td>\n",
       "      <td>заняться образованием</td>\n",
       "      <td>получение образования</td>\n",
       "    </tr>\n",
       "    <tr>\n",
       "      <th>46</th>\n",
       "      <td>2</td>\n",
       "      <td>2262.712304</td>\n",
       "      <td>37</td>\n",
       "      <td>среднее</td>\n",
       "      <td>1</td>\n",
       "      <td>женат / замужем</td>\n",
       "      <td>0</td>\n",
       "      <td>F</td>\n",
       "      <td>компаньон</td>\n",
       "      <td>0</td>\n",
       "      <td>182682</td>\n",
       "      <td>сделка с подержанным автомобилем</td>\n",
       "      <td>операции с автомобилем</td>\n",
       "    </tr>\n",
       "    <tr>\n",
       "      <th>47</th>\n",
       "      <td>1</td>\n",
       "      <td>2689.137274</td>\n",
       "      <td>33</td>\n",
       "      <td>высшее</td>\n",
       "      <td>0</td>\n",
       "      <td>гражданский брак</td>\n",
       "      <td>1</td>\n",
       "      <td>M</td>\n",
       "      <td>госслужащий</td>\n",
       "      <td>0</td>\n",
       "      <td>356277</td>\n",
       "      <td>на проведение свадьбы</td>\n",
       "      <td>проведение свадьбы</td>\n",
       "    </tr>\n",
       "    <tr>\n",
       "      <th>48</th>\n",
       "      <td>0</td>\n",
       "      <td>3341.067886</td>\n",
       "      <td>45</td>\n",
       "      <td>среднее</td>\n",
       "      <td>1</td>\n",
       "      <td>женат / замужем</td>\n",
       "      <td>0</td>\n",
       "      <td>F</td>\n",
       "      <td>сотрудник</td>\n",
       "      <td>0</td>\n",
       "      <td>162065</td>\n",
       "      <td>строительство собственной недвижимости</td>\n",
       "      <td>операции с недвижимостью</td>\n",
       "    </tr>\n",
       "    <tr>\n",
       "      <th>49</th>\n",
       "      <td>0</td>\n",
       "      <td>1181.443228</td>\n",
       "      <td>54</td>\n",
       "      <td>среднее</td>\n",
       "      <td>1</td>\n",
       "      <td>женат / замужем</td>\n",
       "      <td>0</td>\n",
       "      <td>F</td>\n",
       "      <td>сотрудник</td>\n",
       "      <td>0</td>\n",
       "      <td>44591</td>\n",
       "      <td>автомобиль</td>\n",
       "      <td>операции с автомобилем</td>\n",
       "    </tr>\n",
       "  </tbody>\n",
       "</table>\n",
       "</div>"
      ],
      "text/plain": [
       "    children  days_employed  dob_years            education  education_id  \\\n",
       "0          1    8437.673028         42               высшее             0   \n",
       "1          1    4024.803754         36              среднее             1   \n",
       "2          0    5623.422610         33              среднее             1   \n",
       "3          3    4124.747207         32              среднее             1   \n",
       "4          0   14177.753002         53              среднее             1   \n",
       "5          0     926.185831         27               высшее             0   \n",
       "6          0    2879.202052         43               высшее             0   \n",
       "7          0     152.779569         50              среднее             1   \n",
       "8          2    6929.865299         35               высшее             0   \n",
       "9          0    2188.756445         41              среднее             1   \n",
       "10         2    4171.483647         36               высшее             0   \n",
       "11         0     792.701887         40              среднее             1   \n",
       "12         0    2194.207271         65              среднее             1   \n",
       "13         0    1846.641941         54  неоконченное высшее             2   \n",
       "14         0    1844.956182         56               высшее             0   \n",
       "15         1     972.364419         26              среднее             1   \n",
       "16         0    1719.934226         35              среднее             1   \n",
       "17         0    2369.999720         33               высшее             0   \n",
       "18         0   16678.380705         53              среднее             1   \n",
       "19         0   10038.818549         48              среднее             1   \n",
       "20         1    1311.604166         36              среднее             1   \n",
       "21         1     253.685166         33              среднее             1   \n",
       "22         1    1766.644138         24              среднее             1   \n",
       "23         0     272.981385         21               высшее             0   \n",
       "24         1   14106.331371         57              среднее             1   \n",
       "25         0   15147.853723         67              среднее             1   \n",
       "26         0    2194.207271         41              среднее             1   \n",
       "27         0     529.191635         28               высшее             0   \n",
       "28         1     717.274324         26               высшее             0   \n",
       "29         0    2194.207271         63              среднее             1   \n",
       "30         1   13982.569521         62              среднее             1   \n",
       "31         0    1682.083438         47            начальное             3   \n",
       "32         0    4649.910832         34              среднее             1   \n",
       "33         0    1548.637544         48              среднее             1   \n",
       "34         0    4488.067031         35              среднее             1   \n",
       "35         0   16417.544674         68              среднее             1   \n",
       "36         0     176.216688         33              среднее             1   \n",
       "37         0    6448.810860         43               высшее             0   \n",
       "38         0     597.881827         25               высшее             0   \n",
       "39         0     650.587796         31               высшее             0   \n",
       "40         0    1030.362606         30              среднее             1   \n",
       "41         0    2194.207271         50              среднее             1   \n",
       "42         0    1257.496190         20  неоконченное высшее             2   \n",
       "43         0    4375.681384         43  неоконченное высшее             2   \n",
       "44         1    1362.041728         26              среднее             1   \n",
       "45         1    1039.451741         49              среднее             1   \n",
       "46         2    2262.712304         37              среднее             1   \n",
       "47         1    2689.137274         33               высшее             0   \n",
       "48         0    3341.067886         45              среднее             1   \n",
       "49         0    1181.443228         54              среднее             1   \n",
       "\n",
       "            family_status  family_status_id gender  income_type  debt  \\\n",
       "0         женат / замужем                 0      F    сотрудник     0   \n",
       "1         женат / замужем                 0      F    сотрудник     0   \n",
       "2         женат / замужем                 0      M    сотрудник     0   \n",
       "3         женат / замужем                 0      M    сотрудник     0   \n",
       "4        гражданский брак                 1      F    пенсионер     0   \n",
       "5        гражданский брак                 1      M    компаньон     0   \n",
       "6         женат / замужем                 0      F    компаньон     0   \n",
       "7         женат / замужем                 0      M    сотрудник     0   \n",
       "8        гражданский брак                 1      F    сотрудник     0   \n",
       "9         женат / замужем                 0      M    сотрудник     0   \n",
       "10        женат / замужем                 0      M    компаньон     0   \n",
       "11        женат / замужем                 0      F    сотрудник     0   \n",
       "12       гражданский брак                 1      M    пенсионер     0   \n",
       "13        женат / замужем                 0      F    сотрудник     0   \n",
       "14       гражданский брак                 1      F    компаньон     1   \n",
       "15        женат / замужем                 0      F    сотрудник     0   \n",
       "16        женат / замужем                 0      F    сотрудник     0   \n",
       "17       гражданский брак                 1      M    сотрудник     0   \n",
       "18         вдовец / вдова                 2      F    пенсионер     0   \n",
       "19              в разводе                 3      F    сотрудник     0   \n",
       "20        женат / замужем                 0      M    сотрудник     0   \n",
       "21       гражданский брак                 1      F    сотрудник     0   \n",
       "22       гражданский брак                 1      F    сотрудник     0   \n",
       "23       гражданский брак                 1      M    сотрудник     0   \n",
       "24  Не женат / не замужем                 4      F    пенсионер     0   \n",
       "25        женат / замужем                 0      M    пенсионер     0   \n",
       "26        женат / замужем                 0      M  госслужащий     0   \n",
       "27        женат / замужем                 0      M    сотрудник     0   \n",
       "28        женат / замужем                 0      F    сотрудник     0   \n",
       "29  Не женат / не замужем                 4      F    пенсионер     0   \n",
       "30        женат / замужем                 0      F    пенсионер     0   \n",
       "31        женат / замужем                 0      F    сотрудник     0   \n",
       "32       гражданский брак                 1      F    сотрудник     1   \n",
       "33        женат / замужем                 0      F    компаньон     0   \n",
       "34        женат / замужем                 0      F    сотрудник     0   \n",
       "35       гражданский брак                 1      M    пенсионер     0   \n",
       "36  Не женат / не замужем                 4      M    сотрудник     0   \n",
       "37       гражданский брак                 1      F    компаньон     0   \n",
       "38  Не женат / не замужем                 4      M    сотрудник     1   \n",
       "39       гражданский брак                 1      F    компаньон     0   \n",
       "40  Не женат / не замужем                 4      M    компаньон     0   \n",
       "41        женат / замужем                 0      F  госслужащий     0   \n",
       "42  Не женат / не замужем                 4      F    сотрудник     0   \n",
       "43              в разводе                 3      F    компаньон     0   \n",
       "44        женат / замужем                 0      F    сотрудник     0   \n",
       "45  Не женат / не замужем                 4      F    сотрудник     0   \n",
       "46        женат / замужем                 0      F    компаньон     0   \n",
       "47       гражданский брак                 1      M  госслужащий     0   \n",
       "48        женат / замужем                 0      F    сотрудник     0   \n",
       "49        женат / замужем                 0      F    сотрудник     0   \n",
       "\n",
       "    total_income                                 purpose  \\\n",
       "0         253875                           покупка жилья   \n",
       "1         112080                 приобретение автомобиля   \n",
       "2         145885                           покупка жилья   \n",
       "3         267628              дополнительное образование   \n",
       "4         158616                         сыграть свадьбу   \n",
       "5         255763                           покупка жилья   \n",
       "6         240525                       операции с жильем   \n",
       "7         135823                             образование   \n",
       "8          95856                   на проведение свадьбы   \n",
       "9         144425                 покупка жилья для семьи   \n",
       "10        113943                    покупка недвижимости   \n",
       "11         77069       покупка коммерческой недвижимости   \n",
       "12        145017                         сыграть свадьбу   \n",
       "13        130458                 приобретение автомобиля   \n",
       "14        165127              покупка жилой недвижимости   \n",
       "15        116820  строительство собственной недвижимости   \n",
       "16        289202                            недвижимость   \n",
       "17         90410              строительство недвижимости   \n",
       "18         56823      на покупку подержанного автомобиля   \n",
       "19        242831            на покупку своего автомобиля   \n",
       "20        209552                            недвижимость   \n",
       "21        131812                 приобретение автомобиля   \n",
       "22        149681      на покупку подержанного автомобиля   \n",
       "23        128265                         сыграть свадьбу   \n",
       "24        290547   операции с коммерческой недвижимостью   \n",
       "25         55112                    покупка недвижимости   \n",
       "26        145017                             образование   \n",
       "27        308848  строительство собственной недвижимости   \n",
       "28        187863  строительство собственной недвижимости   \n",
       "29        145017        строительство жилой недвижимости   \n",
       "30        171456   операции с коммерческой недвижимостью   \n",
       "31        275485                                   жилье   \n",
       "32        139057                   на проведение свадьбы   \n",
       "33        157245                           покупка жилья   \n",
       "34        104660         операции со своей недвижимостью   \n",
       "35         77805                   на проведение свадьбы   \n",
       "36        138830                              автомобили   \n",
       "37        154128                 приобретение автомобиля   \n",
       "38        192247                             образование   \n",
       "39        754240                   заняться образованием   \n",
       "40        142865                    покупка недвижимости   \n",
       "41        145017        сделка с подержанным автомобилем   \n",
       "42         82065                   получение образования   \n",
       "43        272957                 приобретение автомобиля   \n",
       "44        100780            на покупку своего автомобиля   \n",
       "45        106385                   заняться образованием   \n",
       "46        182682        сделка с подержанным автомобилем   \n",
       "47        356277                   на проведение свадьбы   \n",
       "48        162065  строительство собственной недвижимости   \n",
       "49         44591                              автомобиль   \n",
       "\n",
       "            purpose_category  \n",
       "0   операции с недвижимостью  \n",
       "1     операции с автомобилем  \n",
       "2   операции с недвижимостью  \n",
       "3      получение образования  \n",
       "4         проведение свадьбы  \n",
       "5   операции с недвижимостью  \n",
       "6   операции с недвижимостью  \n",
       "7      получение образования  \n",
       "8         проведение свадьбы  \n",
       "9   операции с недвижимостью  \n",
       "10  операции с недвижимостью  \n",
       "11  операции с недвижимостью  \n",
       "12        проведение свадьбы  \n",
       "13    операции с автомобилем  \n",
       "14  операции с недвижимостью  \n",
       "15  операции с недвижимостью  \n",
       "16  операции с недвижимостью  \n",
       "17  операции с недвижимостью  \n",
       "18    операции с автомобилем  \n",
       "19    операции с автомобилем  \n",
       "20  операции с недвижимостью  \n",
       "21    операции с автомобилем  \n",
       "22    операции с автомобилем  \n",
       "23        проведение свадьбы  \n",
       "24  операции с недвижимостью  \n",
       "25  операции с недвижимостью  \n",
       "26     получение образования  \n",
       "27  операции с недвижимостью  \n",
       "28  операции с недвижимостью  \n",
       "29  операции с недвижимостью  \n",
       "30  операции с недвижимостью  \n",
       "31  операции с недвижимостью  \n",
       "32        проведение свадьбы  \n",
       "33  операции с недвижимостью  \n",
       "34  операции с недвижимостью  \n",
       "35        проведение свадьбы  \n",
       "36    операции с автомобилем  \n",
       "37    операции с автомобилем  \n",
       "38     получение образования  \n",
       "39     получение образования  \n",
       "40  операции с недвижимостью  \n",
       "41    операции с автомобилем  \n",
       "42     получение образования  \n",
       "43    операции с автомобилем  \n",
       "44    операции с автомобилем  \n",
       "45     получение образования  \n",
       "46    операции с автомобилем  \n",
       "47        проведение свадьбы  \n",
       "48  операции с недвижимостью  \n",
       "49    операции с автомобилем  "
      ]
     },
     "metadata": {},
     "output_type": "display_data"
    }
   ],
   "source": [
    "# Create a function to handle the 'purpose' column\n",
    "def rename_purpose(row):\n",
    "    purpose = row['purpose']\n",
    "    if 'авто' in purpose:\n",
    "        return 'операции с автомобилем'\n",
    "    if 'образов' in purpose:\n",
    "        return 'получение образования'\n",
    "    if 'недвиж' in purpose:\n",
    "        return 'операции с недвижимостью'\n",
    "    if 'жиль' in purpose:\n",
    "        return 'операции с недвижимостью'\n",
    "    if 'свадь' in purpose:\n",
    "        return 'проведение свадьбы'\n",
    "    if 'ремонт' in purpose:\n",
    "        return 'операции с недвижимостью'\n",
    "data['purpose_category'] = data.apply(rename_purpose, axis=1)\n",
    "display(data.head(50))"
   ]
  },
  {
   "cell_type": "code",
   "execution_count": 28,
   "metadata": {},
   "outputs": [
    {
     "data": {
      "text/html": [
       "<div>\n",
       "<style scoped>\n",
       "    .dataframe tbody tr th:only-of-type {\n",
       "        vertical-align: middle;\n",
       "    }\n",
       "\n",
       "    .dataframe tbody tr th {\n",
       "        vertical-align: top;\n",
       "    }\n",
       "\n",
       "    .dataframe thead th {\n",
       "        text-align: right;\n",
       "    }\n",
       "</style>\n",
       "<table border=\"1\" class=\"dataframe\">\n",
       "  <thead>\n",
       "    <tr style=\"text-align: right;\">\n",
       "      <th></th>\n",
       "      <th>education</th>\n",
       "      <th>education_ID</th>\n",
       "    </tr>\n",
       "  </thead>\n",
       "  <tbody>\n",
       "    <tr>\n",
       "      <th>0</th>\n",
       "      <td>высшее</td>\n",
       "      <td>0</td>\n",
       "    </tr>\n",
       "    <tr>\n",
       "      <th>1</th>\n",
       "      <td>начальное</td>\n",
       "      <td>1</td>\n",
       "    </tr>\n",
       "    <tr>\n",
       "      <th>2</th>\n",
       "      <td>неоконченное высшее</td>\n",
       "      <td>2</td>\n",
       "    </tr>\n",
       "    <tr>\n",
       "      <th>3</th>\n",
       "      <td>среднее</td>\n",
       "      <td>3</td>\n",
       "    </tr>\n",
       "    <tr>\n",
       "      <th>4</th>\n",
       "      <td>ученая степень</td>\n",
       "      <td>4</td>\n",
       "    </tr>\n",
       "  </tbody>\n",
       "</table>\n",
       "</div>"
      ],
      "text/plain": [
       "             education  education_ID\n",
       "0               высшее             0\n",
       "1            начальное             1\n",
       "2  неоконченное высшее             2\n",
       "3              среднее             3\n",
       "4       ученая степень             4"
      ]
     },
     "execution_count": 28,
     "metadata": {},
     "output_type": "execute_result"
    }
   ],
   "source": [
    "# Create a dataframe for unique learning IDs\n",
    "uniq_education_id = pd.DataFrame({'education' : ['высшее', 'начальное', 'неоконченное высшее', 'среднее',\n",
    "       'ученая степень'], 'education_ID' : [0, 1, 2, 3, 4]})\n",
    "uniq_education_id.head()"
   ]
  },
  {
   "cell_type": "code",
   "execution_count": 29,
   "metadata": {},
   "outputs": [
    {
     "data": {
      "text/html": [
       "<div>\n",
       "<style scoped>\n",
       "    .dataframe tbody tr th:only-of-type {\n",
       "        vertical-align: middle;\n",
       "    }\n",
       "\n",
       "    .dataframe tbody tr th {\n",
       "        vertical-align: top;\n",
       "    }\n",
       "\n",
       "    .dataframe thead th {\n",
       "        text-align: right;\n",
       "    }\n",
       "</style>\n",
       "<table border=\"1\" class=\"dataframe\">\n",
       "  <thead>\n",
       "    <tr style=\"text-align: right;\">\n",
       "      <th></th>\n",
       "      <th>family_status</th>\n",
       "      <th>family_ID</th>\n",
       "    </tr>\n",
       "  </thead>\n",
       "  <tbody>\n",
       "    <tr>\n",
       "      <th>0</th>\n",
       "      <td>Не женат / не замужем</td>\n",
       "      <td>0</td>\n",
       "    </tr>\n",
       "    <tr>\n",
       "      <th>1</th>\n",
       "      <td>в разводе</td>\n",
       "      <td>1</td>\n",
       "    </tr>\n",
       "    <tr>\n",
       "      <th>2</th>\n",
       "      <td>вдовец / вдова</td>\n",
       "      <td>2</td>\n",
       "    </tr>\n",
       "    <tr>\n",
       "      <th>3</th>\n",
       "      <td>гражданский брак</td>\n",
       "      <td>3</td>\n",
       "    </tr>\n",
       "    <tr>\n",
       "      <th>4</th>\n",
       "      <td>женат / замужем</td>\n",
       "      <td>4</td>\n",
       "    </tr>\n",
       "  </tbody>\n",
       "</table>\n",
       "</div>"
      ],
      "text/plain": [
       "           family_status  family_ID\n",
       "0  Не женат / не замужем          0\n",
       "1              в разводе          1\n",
       "2         вдовец / вдова          2\n",
       "3       гражданский брак          3\n",
       "4        женат / замужем          4"
      ]
     },
     "execution_count": 29,
     "metadata": {},
     "output_type": "execute_result"
    }
   ],
   "source": [
    "# Create a dataframe for unique marital status identifiers\n",
    "uniq_family_id = pd.DataFrame({'family_status' : ['Не женат / не замужем', 'в разводе', 'вдовец / вдова',\n",
    "       'гражданский брак', 'женат / замужем'], 'family_ID' : [0, 1, 2, 3, 4]})\n",
    "uniq_family_id.head()"
   ]
  },
  {
   "cell_type": "code",
   "execution_count": 30,
   "metadata": {},
   "outputs": [
    {
     "name": "stdout",
     "output_type": "stream",
     "text": [
      "<class 'pandas.core.frame.DataFrame'>\n",
      "Int64Index: 21452 entries, 0 to 21524\n",
      "Data columns (total 11 columns):\n",
      " #   Column            Non-Null Count  Dtype  \n",
      "---  ------            --------------  -----  \n",
      " 0   children          21452 non-null  int64  \n",
      " 1   days_employed     21452 non-null  float64\n",
      " 2   dob_years         21452 non-null  int64  \n",
      " 3   education_id      21452 non-null  int64  \n",
      " 4   family_status_id  21452 non-null  int64  \n",
      " 5   gender            21452 non-null  object \n",
      " 6   income_type       21452 non-null  object \n",
      " 7   debt              21452 non-null  int64  \n",
      " 8   total_income      21452 non-null  int32  \n",
      " 9   purpose           21452 non-null  object \n",
      " 10  purpose_category  21452 non-null  object \n",
      "dtypes: float64(1), int32(1), int64(5), object(4)\n",
      "memory usage: 1.9+ MB\n"
     ]
    }
   ],
   "source": [
    "# remove the row data from the original dataframe\n",
    "del data['education']\n",
    "del data['family_status']\n",
    "data.info()"
   ]
  },
  {
   "cell_type": "markdown",
   "metadata": {},
   "source": [
    "**Conclusion**\n",
    "\n",
    "The 'purpose' column has been lemmatized.\n",
    "\n",
    "Created for marital status and education dataframe containing unique identifiers."
   ]
  },
  {
   "cell_type": "markdown",
   "metadata": {},
   "source": [
    "### Data categorization"
   ]
  },
  {
   "cell_type": "code",
   "execution_count": 31,
   "metadata": {},
   "outputs": [
    {
     "data": {
      "text/html": [
       "<div>\n",
       "<style scoped>\n",
       "    .dataframe tbody tr th:only-of-type {\n",
       "        vertical-align: middle;\n",
       "    }\n",
       "\n",
       "    .dataframe tbody tr th {\n",
       "        vertical-align: top;\n",
       "    }\n",
       "\n",
       "    .dataframe thead th {\n",
       "        text-align: right;\n",
       "    }\n",
       "</style>\n",
       "<table border=\"1\" class=\"dataframe\">\n",
       "  <thead>\n",
       "    <tr style=\"text-align: right;\">\n",
       "      <th></th>\n",
       "      <th>children</th>\n",
       "      <th>days_employed</th>\n",
       "      <th>dob_years</th>\n",
       "      <th>education_id</th>\n",
       "      <th>family_status_id</th>\n",
       "      <th>gender</th>\n",
       "      <th>income_type</th>\n",
       "      <th>debt</th>\n",
       "      <th>total_income</th>\n",
       "      <th>purpose</th>\n",
       "      <th>purpose_category</th>\n",
       "      <th>total_income_category</th>\n",
       "    </tr>\n",
       "  </thead>\n",
       "  <tbody>\n",
       "    <tr>\n",
       "      <th>0</th>\n",
       "      <td>1</td>\n",
       "      <td>8437.673028</td>\n",
       "      <td>42</td>\n",
       "      <td>0</td>\n",
       "      <td>0</td>\n",
       "      <td>F</td>\n",
       "      <td>сотрудник</td>\n",
       "      <td>0</td>\n",
       "      <td>253875</td>\n",
       "      <td>покупка жилья</td>\n",
       "      <td>операции с недвижимостью</td>\n",
       "      <td>B</td>\n",
       "    </tr>\n",
       "    <tr>\n",
       "      <th>1</th>\n",
       "      <td>1</td>\n",
       "      <td>4024.803754</td>\n",
       "      <td>36</td>\n",
       "      <td>1</td>\n",
       "      <td>0</td>\n",
       "      <td>F</td>\n",
       "      <td>сотрудник</td>\n",
       "      <td>0</td>\n",
       "      <td>112080</td>\n",
       "      <td>приобретение автомобиля</td>\n",
       "      <td>операции с автомобилем</td>\n",
       "      <td>C</td>\n",
       "    </tr>\n",
       "    <tr>\n",
       "      <th>2</th>\n",
       "      <td>0</td>\n",
       "      <td>5623.422610</td>\n",
       "      <td>33</td>\n",
       "      <td>1</td>\n",
       "      <td>0</td>\n",
       "      <td>M</td>\n",
       "      <td>сотрудник</td>\n",
       "      <td>0</td>\n",
       "      <td>145885</td>\n",
       "      <td>покупка жилья</td>\n",
       "      <td>операции с недвижимостью</td>\n",
       "      <td>C</td>\n",
       "    </tr>\n",
       "    <tr>\n",
       "      <th>3</th>\n",
       "      <td>3</td>\n",
       "      <td>4124.747207</td>\n",
       "      <td>32</td>\n",
       "      <td>1</td>\n",
       "      <td>0</td>\n",
       "      <td>M</td>\n",
       "      <td>сотрудник</td>\n",
       "      <td>0</td>\n",
       "      <td>267628</td>\n",
       "      <td>дополнительное образование</td>\n",
       "      <td>получение образования</td>\n",
       "      <td>B</td>\n",
       "    </tr>\n",
       "    <tr>\n",
       "      <th>4</th>\n",
       "      <td>0</td>\n",
       "      <td>14177.753002</td>\n",
       "      <td>53</td>\n",
       "      <td>1</td>\n",
       "      <td>1</td>\n",
       "      <td>F</td>\n",
       "      <td>пенсионер</td>\n",
       "      <td>0</td>\n",
       "      <td>158616</td>\n",
       "      <td>сыграть свадьбу</td>\n",
       "      <td>проведение свадьбы</td>\n",
       "      <td>C</td>\n",
       "    </tr>\n",
       "    <tr>\n",
       "      <th>5</th>\n",
       "      <td>0</td>\n",
       "      <td>926.185831</td>\n",
       "      <td>27</td>\n",
       "      <td>0</td>\n",
       "      <td>1</td>\n",
       "      <td>M</td>\n",
       "      <td>компаньон</td>\n",
       "      <td>0</td>\n",
       "      <td>255763</td>\n",
       "      <td>покупка жилья</td>\n",
       "      <td>операции с недвижимостью</td>\n",
       "      <td>B</td>\n",
       "    </tr>\n",
       "    <tr>\n",
       "      <th>6</th>\n",
       "      <td>0</td>\n",
       "      <td>2879.202052</td>\n",
       "      <td>43</td>\n",
       "      <td>0</td>\n",
       "      <td>0</td>\n",
       "      <td>F</td>\n",
       "      <td>компаньон</td>\n",
       "      <td>0</td>\n",
       "      <td>240525</td>\n",
       "      <td>операции с жильем</td>\n",
       "      <td>операции с недвижимостью</td>\n",
       "      <td>B</td>\n",
       "    </tr>\n",
       "    <tr>\n",
       "      <th>7</th>\n",
       "      <td>0</td>\n",
       "      <td>152.779569</td>\n",
       "      <td>50</td>\n",
       "      <td>1</td>\n",
       "      <td>0</td>\n",
       "      <td>M</td>\n",
       "      <td>сотрудник</td>\n",
       "      <td>0</td>\n",
       "      <td>135823</td>\n",
       "      <td>образование</td>\n",
       "      <td>получение образования</td>\n",
       "      <td>C</td>\n",
       "    </tr>\n",
       "    <tr>\n",
       "      <th>8</th>\n",
       "      <td>2</td>\n",
       "      <td>6929.865299</td>\n",
       "      <td>35</td>\n",
       "      <td>0</td>\n",
       "      <td>1</td>\n",
       "      <td>F</td>\n",
       "      <td>сотрудник</td>\n",
       "      <td>0</td>\n",
       "      <td>95856</td>\n",
       "      <td>на проведение свадьбы</td>\n",
       "      <td>проведение свадьбы</td>\n",
       "      <td>C</td>\n",
       "    </tr>\n",
       "    <tr>\n",
       "      <th>9</th>\n",
       "      <td>0</td>\n",
       "      <td>2188.756445</td>\n",
       "      <td>41</td>\n",
       "      <td>1</td>\n",
       "      <td>0</td>\n",
       "      <td>M</td>\n",
       "      <td>сотрудник</td>\n",
       "      <td>0</td>\n",
       "      <td>144425</td>\n",
       "      <td>покупка жилья для семьи</td>\n",
       "      <td>операции с недвижимостью</td>\n",
       "      <td>C</td>\n",
       "    </tr>\n",
       "    <tr>\n",
       "      <th>10</th>\n",
       "      <td>2</td>\n",
       "      <td>4171.483647</td>\n",
       "      <td>36</td>\n",
       "      <td>0</td>\n",
       "      <td>0</td>\n",
       "      <td>M</td>\n",
       "      <td>компаньон</td>\n",
       "      <td>0</td>\n",
       "      <td>113943</td>\n",
       "      <td>покупка недвижимости</td>\n",
       "      <td>операции с недвижимостью</td>\n",
       "      <td>C</td>\n",
       "    </tr>\n",
       "    <tr>\n",
       "      <th>11</th>\n",
       "      <td>0</td>\n",
       "      <td>792.701887</td>\n",
       "      <td>40</td>\n",
       "      <td>1</td>\n",
       "      <td>0</td>\n",
       "      <td>F</td>\n",
       "      <td>сотрудник</td>\n",
       "      <td>0</td>\n",
       "      <td>77069</td>\n",
       "      <td>покупка коммерческой недвижимости</td>\n",
       "      <td>операции с недвижимостью</td>\n",
       "      <td>C</td>\n",
       "    </tr>\n",
       "    <tr>\n",
       "      <th>12</th>\n",
       "      <td>0</td>\n",
       "      <td>2194.207271</td>\n",
       "      <td>65</td>\n",
       "      <td>1</td>\n",
       "      <td>1</td>\n",
       "      <td>M</td>\n",
       "      <td>пенсионер</td>\n",
       "      <td>0</td>\n",
       "      <td>145017</td>\n",
       "      <td>сыграть свадьбу</td>\n",
       "      <td>проведение свадьбы</td>\n",
       "      <td>C</td>\n",
       "    </tr>\n",
       "    <tr>\n",
       "      <th>13</th>\n",
       "      <td>0</td>\n",
       "      <td>1846.641941</td>\n",
       "      <td>54</td>\n",
       "      <td>2</td>\n",
       "      <td>0</td>\n",
       "      <td>F</td>\n",
       "      <td>сотрудник</td>\n",
       "      <td>0</td>\n",
       "      <td>130458</td>\n",
       "      <td>приобретение автомобиля</td>\n",
       "      <td>операции с автомобилем</td>\n",
       "      <td>C</td>\n",
       "    </tr>\n",
       "    <tr>\n",
       "      <th>14</th>\n",
       "      <td>0</td>\n",
       "      <td>1844.956182</td>\n",
       "      <td>56</td>\n",
       "      <td>0</td>\n",
       "      <td>1</td>\n",
       "      <td>F</td>\n",
       "      <td>компаньон</td>\n",
       "      <td>1</td>\n",
       "      <td>165127</td>\n",
       "      <td>покупка жилой недвижимости</td>\n",
       "      <td>операции с недвижимостью</td>\n",
       "      <td>C</td>\n",
       "    </tr>\n",
       "    <tr>\n",
       "      <th>15</th>\n",
       "      <td>1</td>\n",
       "      <td>972.364419</td>\n",
       "      <td>26</td>\n",
       "      <td>1</td>\n",
       "      <td>0</td>\n",
       "      <td>F</td>\n",
       "      <td>сотрудник</td>\n",
       "      <td>0</td>\n",
       "      <td>116820</td>\n",
       "      <td>строительство собственной недвижимости</td>\n",
       "      <td>операции с недвижимостью</td>\n",
       "      <td>C</td>\n",
       "    </tr>\n",
       "    <tr>\n",
       "      <th>16</th>\n",
       "      <td>0</td>\n",
       "      <td>1719.934226</td>\n",
       "      <td>35</td>\n",
       "      <td>1</td>\n",
       "      <td>0</td>\n",
       "      <td>F</td>\n",
       "      <td>сотрудник</td>\n",
       "      <td>0</td>\n",
       "      <td>289202</td>\n",
       "      <td>недвижимость</td>\n",
       "      <td>операции с недвижимостью</td>\n",
       "      <td>B</td>\n",
       "    </tr>\n",
       "    <tr>\n",
       "      <th>17</th>\n",
       "      <td>0</td>\n",
       "      <td>2369.999720</td>\n",
       "      <td>33</td>\n",
       "      <td>0</td>\n",
       "      <td>1</td>\n",
       "      <td>M</td>\n",
       "      <td>сотрудник</td>\n",
       "      <td>0</td>\n",
       "      <td>90410</td>\n",
       "      <td>строительство недвижимости</td>\n",
       "      <td>операции с недвижимостью</td>\n",
       "      <td>C</td>\n",
       "    </tr>\n",
       "    <tr>\n",
       "      <th>18</th>\n",
       "      <td>0</td>\n",
       "      <td>16678.380705</td>\n",
       "      <td>53</td>\n",
       "      <td>1</td>\n",
       "      <td>2</td>\n",
       "      <td>F</td>\n",
       "      <td>пенсионер</td>\n",
       "      <td>0</td>\n",
       "      <td>56823</td>\n",
       "      <td>на покупку подержанного автомобиля</td>\n",
       "      <td>операции с автомобилем</td>\n",
       "      <td>C</td>\n",
       "    </tr>\n",
       "    <tr>\n",
       "      <th>19</th>\n",
       "      <td>0</td>\n",
       "      <td>10038.818549</td>\n",
       "      <td>48</td>\n",
       "      <td>1</td>\n",
       "      <td>3</td>\n",
       "      <td>F</td>\n",
       "      <td>сотрудник</td>\n",
       "      <td>0</td>\n",
       "      <td>242831</td>\n",
       "      <td>на покупку своего автомобиля</td>\n",
       "      <td>операции с автомобилем</td>\n",
       "      <td>B</td>\n",
       "    </tr>\n",
       "    <tr>\n",
       "      <th>20</th>\n",
       "      <td>1</td>\n",
       "      <td>1311.604166</td>\n",
       "      <td>36</td>\n",
       "      <td>1</td>\n",
       "      <td>0</td>\n",
       "      <td>M</td>\n",
       "      <td>сотрудник</td>\n",
       "      <td>0</td>\n",
       "      <td>209552</td>\n",
       "      <td>недвижимость</td>\n",
       "      <td>операции с недвижимостью</td>\n",
       "      <td>B</td>\n",
       "    </tr>\n",
       "    <tr>\n",
       "      <th>21</th>\n",
       "      <td>1</td>\n",
       "      <td>253.685166</td>\n",
       "      <td>33</td>\n",
       "      <td>1</td>\n",
       "      <td>1</td>\n",
       "      <td>F</td>\n",
       "      <td>сотрудник</td>\n",
       "      <td>0</td>\n",
       "      <td>131812</td>\n",
       "      <td>приобретение автомобиля</td>\n",
       "      <td>операции с автомобилем</td>\n",
       "      <td>C</td>\n",
       "    </tr>\n",
       "    <tr>\n",
       "      <th>22</th>\n",
       "      <td>1</td>\n",
       "      <td>1766.644138</td>\n",
       "      <td>24</td>\n",
       "      <td>1</td>\n",
       "      <td>1</td>\n",
       "      <td>F</td>\n",
       "      <td>сотрудник</td>\n",
       "      <td>0</td>\n",
       "      <td>149681</td>\n",
       "      <td>на покупку подержанного автомобиля</td>\n",
       "      <td>операции с автомобилем</td>\n",
       "      <td>C</td>\n",
       "    </tr>\n",
       "    <tr>\n",
       "      <th>23</th>\n",
       "      <td>0</td>\n",
       "      <td>272.981385</td>\n",
       "      <td>21</td>\n",
       "      <td>0</td>\n",
       "      <td>1</td>\n",
       "      <td>M</td>\n",
       "      <td>сотрудник</td>\n",
       "      <td>0</td>\n",
       "      <td>128265</td>\n",
       "      <td>сыграть свадьбу</td>\n",
       "      <td>проведение свадьбы</td>\n",
       "      <td>C</td>\n",
       "    </tr>\n",
       "    <tr>\n",
       "      <th>24</th>\n",
       "      <td>1</td>\n",
       "      <td>14106.331371</td>\n",
       "      <td>57</td>\n",
       "      <td>1</td>\n",
       "      <td>4</td>\n",
       "      <td>F</td>\n",
       "      <td>пенсионер</td>\n",
       "      <td>0</td>\n",
       "      <td>290547</td>\n",
       "      <td>операции с коммерческой недвижимостью</td>\n",
       "      <td>операции с недвижимостью</td>\n",
       "      <td>B</td>\n",
       "    </tr>\n",
       "    <tr>\n",
       "      <th>25</th>\n",
       "      <td>0</td>\n",
       "      <td>15147.853723</td>\n",
       "      <td>67</td>\n",
       "      <td>1</td>\n",
       "      <td>0</td>\n",
       "      <td>M</td>\n",
       "      <td>пенсионер</td>\n",
       "      <td>0</td>\n",
       "      <td>55112</td>\n",
       "      <td>покупка недвижимости</td>\n",
       "      <td>операции с недвижимостью</td>\n",
       "      <td>C</td>\n",
       "    </tr>\n",
       "    <tr>\n",
       "      <th>26</th>\n",
       "      <td>0</td>\n",
       "      <td>2194.207271</td>\n",
       "      <td>41</td>\n",
       "      <td>1</td>\n",
       "      <td>0</td>\n",
       "      <td>M</td>\n",
       "      <td>госслужащий</td>\n",
       "      <td>0</td>\n",
       "      <td>145017</td>\n",
       "      <td>образование</td>\n",
       "      <td>получение образования</td>\n",
       "      <td>C</td>\n",
       "    </tr>\n",
       "    <tr>\n",
       "      <th>27</th>\n",
       "      <td>0</td>\n",
       "      <td>529.191635</td>\n",
       "      <td>28</td>\n",
       "      <td>0</td>\n",
       "      <td>0</td>\n",
       "      <td>M</td>\n",
       "      <td>сотрудник</td>\n",
       "      <td>0</td>\n",
       "      <td>308848</td>\n",
       "      <td>строительство собственной недвижимости</td>\n",
       "      <td>операции с недвижимостью</td>\n",
       "      <td>B</td>\n",
       "    </tr>\n",
       "    <tr>\n",
       "      <th>28</th>\n",
       "      <td>1</td>\n",
       "      <td>717.274324</td>\n",
       "      <td>26</td>\n",
       "      <td>0</td>\n",
       "      <td>0</td>\n",
       "      <td>F</td>\n",
       "      <td>сотрудник</td>\n",
       "      <td>0</td>\n",
       "      <td>187863</td>\n",
       "      <td>строительство собственной недвижимости</td>\n",
       "      <td>операции с недвижимостью</td>\n",
       "      <td>C</td>\n",
       "    </tr>\n",
       "    <tr>\n",
       "      <th>29</th>\n",
       "      <td>0</td>\n",
       "      <td>2194.207271</td>\n",
       "      <td>63</td>\n",
       "      <td>1</td>\n",
       "      <td>4</td>\n",
       "      <td>F</td>\n",
       "      <td>пенсионер</td>\n",
       "      <td>0</td>\n",
       "      <td>145017</td>\n",
       "      <td>строительство жилой недвижимости</td>\n",
       "      <td>операции с недвижимостью</td>\n",
       "      <td>C</td>\n",
       "    </tr>\n",
       "    <tr>\n",
       "      <th>30</th>\n",
       "      <td>1</td>\n",
       "      <td>13982.569521</td>\n",
       "      <td>62</td>\n",
       "      <td>1</td>\n",
       "      <td>0</td>\n",
       "      <td>F</td>\n",
       "      <td>пенсионер</td>\n",
       "      <td>0</td>\n",
       "      <td>171456</td>\n",
       "      <td>операции с коммерческой недвижимостью</td>\n",
       "      <td>операции с недвижимостью</td>\n",
       "      <td>C</td>\n",
       "    </tr>\n",
       "    <tr>\n",
       "      <th>31</th>\n",
       "      <td>0</td>\n",
       "      <td>1682.083438</td>\n",
       "      <td>47</td>\n",
       "      <td>3</td>\n",
       "      <td>0</td>\n",
       "      <td>F</td>\n",
       "      <td>сотрудник</td>\n",
       "      <td>0</td>\n",
       "      <td>275485</td>\n",
       "      <td>жилье</td>\n",
       "      <td>операции с недвижимостью</td>\n",
       "      <td>B</td>\n",
       "    </tr>\n",
       "    <tr>\n",
       "      <th>32</th>\n",
       "      <td>0</td>\n",
       "      <td>4649.910832</td>\n",
       "      <td>34</td>\n",
       "      <td>1</td>\n",
       "      <td>1</td>\n",
       "      <td>F</td>\n",
       "      <td>сотрудник</td>\n",
       "      <td>1</td>\n",
       "      <td>139057</td>\n",
       "      <td>на проведение свадьбы</td>\n",
       "      <td>проведение свадьбы</td>\n",
       "      <td>C</td>\n",
       "    </tr>\n",
       "    <tr>\n",
       "      <th>33</th>\n",
       "      <td>0</td>\n",
       "      <td>1548.637544</td>\n",
       "      <td>48</td>\n",
       "      <td>1</td>\n",
       "      <td>0</td>\n",
       "      <td>F</td>\n",
       "      <td>компаньон</td>\n",
       "      <td>0</td>\n",
       "      <td>157245</td>\n",
       "      <td>покупка жилья</td>\n",
       "      <td>операции с недвижимостью</td>\n",
       "      <td>C</td>\n",
       "    </tr>\n",
       "    <tr>\n",
       "      <th>34</th>\n",
       "      <td>0</td>\n",
       "      <td>4488.067031</td>\n",
       "      <td>35</td>\n",
       "      <td>1</td>\n",
       "      <td>0</td>\n",
       "      <td>F</td>\n",
       "      <td>сотрудник</td>\n",
       "      <td>0</td>\n",
       "      <td>104660</td>\n",
       "      <td>операции со своей недвижимостью</td>\n",
       "      <td>операции с недвижимостью</td>\n",
       "      <td>C</td>\n",
       "    </tr>\n",
       "    <tr>\n",
       "      <th>35</th>\n",
       "      <td>0</td>\n",
       "      <td>16417.544674</td>\n",
       "      <td>68</td>\n",
       "      <td>1</td>\n",
       "      <td>1</td>\n",
       "      <td>M</td>\n",
       "      <td>пенсионер</td>\n",
       "      <td>0</td>\n",
       "      <td>77805</td>\n",
       "      <td>на проведение свадьбы</td>\n",
       "      <td>проведение свадьбы</td>\n",
       "      <td>C</td>\n",
       "    </tr>\n",
       "    <tr>\n",
       "      <th>36</th>\n",
       "      <td>0</td>\n",
       "      <td>176.216688</td>\n",
       "      <td>33</td>\n",
       "      <td>1</td>\n",
       "      <td>4</td>\n",
       "      <td>M</td>\n",
       "      <td>сотрудник</td>\n",
       "      <td>0</td>\n",
       "      <td>138830</td>\n",
       "      <td>автомобили</td>\n",
       "      <td>операции с автомобилем</td>\n",
       "      <td>C</td>\n",
       "    </tr>\n",
       "    <tr>\n",
       "      <th>37</th>\n",
       "      <td>0</td>\n",
       "      <td>6448.810860</td>\n",
       "      <td>43</td>\n",
       "      <td>0</td>\n",
       "      <td>1</td>\n",
       "      <td>F</td>\n",
       "      <td>компаньон</td>\n",
       "      <td>0</td>\n",
       "      <td>154128</td>\n",
       "      <td>приобретение автомобиля</td>\n",
       "      <td>операции с автомобилем</td>\n",
       "      <td>C</td>\n",
       "    </tr>\n",
       "    <tr>\n",
       "      <th>38</th>\n",
       "      <td>0</td>\n",
       "      <td>597.881827</td>\n",
       "      <td>25</td>\n",
       "      <td>0</td>\n",
       "      <td>4</td>\n",
       "      <td>M</td>\n",
       "      <td>сотрудник</td>\n",
       "      <td>1</td>\n",
       "      <td>192247</td>\n",
       "      <td>образование</td>\n",
       "      <td>получение образования</td>\n",
       "      <td>C</td>\n",
       "    </tr>\n",
       "    <tr>\n",
       "      <th>39</th>\n",
       "      <td>0</td>\n",
       "      <td>650.587796</td>\n",
       "      <td>31</td>\n",
       "      <td>0</td>\n",
       "      <td>1</td>\n",
       "      <td>F</td>\n",
       "      <td>компаньон</td>\n",
       "      <td>0</td>\n",
       "      <td>754240</td>\n",
       "      <td>заняться образованием</td>\n",
       "      <td>получение образования</td>\n",
       "      <td>B</td>\n",
       "    </tr>\n",
       "    <tr>\n",
       "      <th>40</th>\n",
       "      <td>0</td>\n",
       "      <td>1030.362606</td>\n",
       "      <td>30</td>\n",
       "      <td>1</td>\n",
       "      <td>4</td>\n",
       "      <td>M</td>\n",
       "      <td>компаньон</td>\n",
       "      <td>0</td>\n",
       "      <td>142865</td>\n",
       "      <td>покупка недвижимости</td>\n",
       "      <td>операции с недвижимостью</td>\n",
       "      <td>C</td>\n",
       "    </tr>\n",
       "    <tr>\n",
       "      <th>41</th>\n",
       "      <td>0</td>\n",
       "      <td>2194.207271</td>\n",
       "      <td>50</td>\n",
       "      <td>1</td>\n",
       "      <td>0</td>\n",
       "      <td>F</td>\n",
       "      <td>госслужащий</td>\n",
       "      <td>0</td>\n",
       "      <td>145017</td>\n",
       "      <td>сделка с подержанным автомобилем</td>\n",
       "      <td>операции с автомобилем</td>\n",
       "      <td>C</td>\n",
       "    </tr>\n",
       "    <tr>\n",
       "      <th>42</th>\n",
       "      <td>0</td>\n",
       "      <td>1257.496190</td>\n",
       "      <td>20</td>\n",
       "      <td>2</td>\n",
       "      <td>4</td>\n",
       "      <td>F</td>\n",
       "      <td>сотрудник</td>\n",
       "      <td>0</td>\n",
       "      <td>82065</td>\n",
       "      <td>получение образования</td>\n",
       "      <td>получение образования</td>\n",
       "      <td>C</td>\n",
       "    </tr>\n",
       "    <tr>\n",
       "      <th>43</th>\n",
       "      <td>0</td>\n",
       "      <td>4375.681384</td>\n",
       "      <td>43</td>\n",
       "      <td>2</td>\n",
       "      <td>3</td>\n",
       "      <td>F</td>\n",
       "      <td>компаньон</td>\n",
       "      <td>0</td>\n",
       "      <td>272957</td>\n",
       "      <td>приобретение автомобиля</td>\n",
       "      <td>операции с автомобилем</td>\n",
       "      <td>B</td>\n",
       "    </tr>\n",
       "    <tr>\n",
       "      <th>44</th>\n",
       "      <td>1</td>\n",
       "      <td>1362.041728</td>\n",
       "      <td>26</td>\n",
       "      <td>1</td>\n",
       "      <td>0</td>\n",
       "      <td>F</td>\n",
       "      <td>сотрудник</td>\n",
       "      <td>0</td>\n",
       "      <td>100780</td>\n",
       "      <td>на покупку своего автомобиля</td>\n",
       "      <td>операции с автомобилем</td>\n",
       "      <td>C</td>\n",
       "    </tr>\n",
       "    <tr>\n",
       "      <th>45</th>\n",
       "      <td>1</td>\n",
       "      <td>1039.451741</td>\n",
       "      <td>49</td>\n",
       "      <td>1</td>\n",
       "      <td>4</td>\n",
       "      <td>F</td>\n",
       "      <td>сотрудник</td>\n",
       "      <td>0</td>\n",
       "      <td>106385</td>\n",
       "      <td>заняться образованием</td>\n",
       "      <td>получение образования</td>\n",
       "      <td>C</td>\n",
       "    </tr>\n",
       "    <tr>\n",
       "      <th>46</th>\n",
       "      <td>2</td>\n",
       "      <td>2262.712304</td>\n",
       "      <td>37</td>\n",
       "      <td>1</td>\n",
       "      <td>0</td>\n",
       "      <td>F</td>\n",
       "      <td>компаньон</td>\n",
       "      <td>0</td>\n",
       "      <td>182682</td>\n",
       "      <td>сделка с подержанным автомобилем</td>\n",
       "      <td>операции с автомобилем</td>\n",
       "      <td>C</td>\n",
       "    </tr>\n",
       "    <tr>\n",
       "      <th>47</th>\n",
       "      <td>1</td>\n",
       "      <td>2689.137274</td>\n",
       "      <td>33</td>\n",
       "      <td>0</td>\n",
       "      <td>1</td>\n",
       "      <td>M</td>\n",
       "      <td>госслужащий</td>\n",
       "      <td>0</td>\n",
       "      <td>356277</td>\n",
       "      <td>на проведение свадьбы</td>\n",
       "      <td>проведение свадьбы</td>\n",
       "      <td>B</td>\n",
       "    </tr>\n",
       "    <tr>\n",
       "      <th>48</th>\n",
       "      <td>0</td>\n",
       "      <td>3341.067886</td>\n",
       "      <td>45</td>\n",
       "      <td>1</td>\n",
       "      <td>0</td>\n",
       "      <td>F</td>\n",
       "      <td>сотрудник</td>\n",
       "      <td>0</td>\n",
       "      <td>162065</td>\n",
       "      <td>строительство собственной недвижимости</td>\n",
       "      <td>операции с недвижимостью</td>\n",
       "      <td>C</td>\n",
       "    </tr>\n",
       "    <tr>\n",
       "      <th>49</th>\n",
       "      <td>0</td>\n",
       "      <td>1181.443228</td>\n",
       "      <td>54</td>\n",
       "      <td>1</td>\n",
       "      <td>0</td>\n",
       "      <td>F</td>\n",
       "      <td>сотрудник</td>\n",
       "      <td>0</td>\n",
       "      <td>44591</td>\n",
       "      <td>автомобиль</td>\n",
       "      <td>операции с автомобилем</td>\n",
       "      <td>D</td>\n",
       "    </tr>\n",
       "  </tbody>\n",
       "</table>\n",
       "</div>"
      ],
      "text/plain": [
       "    children  days_employed  dob_years  education_id  family_status_id gender  \\\n",
       "0          1    8437.673028         42             0                 0      F   \n",
       "1          1    4024.803754         36             1                 0      F   \n",
       "2          0    5623.422610         33             1                 0      M   \n",
       "3          3    4124.747207         32             1                 0      M   \n",
       "4          0   14177.753002         53             1                 1      F   \n",
       "5          0     926.185831         27             0                 1      M   \n",
       "6          0    2879.202052         43             0                 0      F   \n",
       "7          0     152.779569         50             1                 0      M   \n",
       "8          2    6929.865299         35             0                 1      F   \n",
       "9          0    2188.756445         41             1                 0      M   \n",
       "10         2    4171.483647         36             0                 0      M   \n",
       "11         0     792.701887         40             1                 0      F   \n",
       "12         0    2194.207271         65             1                 1      M   \n",
       "13         0    1846.641941         54             2                 0      F   \n",
       "14         0    1844.956182         56             0                 1      F   \n",
       "15         1     972.364419         26             1                 0      F   \n",
       "16         0    1719.934226         35             1                 0      F   \n",
       "17         0    2369.999720         33             0                 1      M   \n",
       "18         0   16678.380705         53             1                 2      F   \n",
       "19         0   10038.818549         48             1                 3      F   \n",
       "20         1    1311.604166         36             1                 0      M   \n",
       "21         1     253.685166         33             1                 1      F   \n",
       "22         1    1766.644138         24             1                 1      F   \n",
       "23         0     272.981385         21             0                 1      M   \n",
       "24         1   14106.331371         57             1                 4      F   \n",
       "25         0   15147.853723         67             1                 0      M   \n",
       "26         0    2194.207271         41             1                 0      M   \n",
       "27         0     529.191635         28             0                 0      M   \n",
       "28         1     717.274324         26             0                 0      F   \n",
       "29         0    2194.207271         63             1                 4      F   \n",
       "30         1   13982.569521         62             1                 0      F   \n",
       "31         0    1682.083438         47             3                 0      F   \n",
       "32         0    4649.910832         34             1                 1      F   \n",
       "33         0    1548.637544         48             1                 0      F   \n",
       "34         0    4488.067031         35             1                 0      F   \n",
       "35         0   16417.544674         68             1                 1      M   \n",
       "36         0     176.216688         33             1                 4      M   \n",
       "37         0    6448.810860         43             0                 1      F   \n",
       "38         0     597.881827         25             0                 4      M   \n",
       "39         0     650.587796         31             0                 1      F   \n",
       "40         0    1030.362606         30             1                 4      M   \n",
       "41         0    2194.207271         50             1                 0      F   \n",
       "42         0    1257.496190         20             2                 4      F   \n",
       "43         0    4375.681384         43             2                 3      F   \n",
       "44         1    1362.041728         26             1                 0      F   \n",
       "45         1    1039.451741         49             1                 4      F   \n",
       "46         2    2262.712304         37             1                 0      F   \n",
       "47         1    2689.137274         33             0                 1      M   \n",
       "48         0    3341.067886         45             1                 0      F   \n",
       "49         0    1181.443228         54             1                 0      F   \n",
       "\n",
       "    income_type  debt  total_income                                 purpose  \\\n",
       "0     сотрудник     0        253875                           покупка жилья   \n",
       "1     сотрудник     0        112080                 приобретение автомобиля   \n",
       "2     сотрудник     0        145885                           покупка жилья   \n",
       "3     сотрудник     0        267628              дополнительное образование   \n",
       "4     пенсионер     0        158616                         сыграть свадьбу   \n",
       "5     компаньон     0        255763                           покупка жилья   \n",
       "6     компаньон     0        240525                       операции с жильем   \n",
       "7     сотрудник     0        135823                             образование   \n",
       "8     сотрудник     0         95856                   на проведение свадьбы   \n",
       "9     сотрудник     0        144425                 покупка жилья для семьи   \n",
       "10    компаньон     0        113943                    покупка недвижимости   \n",
       "11    сотрудник     0         77069       покупка коммерческой недвижимости   \n",
       "12    пенсионер     0        145017                         сыграть свадьбу   \n",
       "13    сотрудник     0        130458                 приобретение автомобиля   \n",
       "14    компаньон     1        165127              покупка жилой недвижимости   \n",
       "15    сотрудник     0        116820  строительство собственной недвижимости   \n",
       "16    сотрудник     0        289202                            недвижимость   \n",
       "17    сотрудник     0         90410              строительство недвижимости   \n",
       "18    пенсионер     0         56823      на покупку подержанного автомобиля   \n",
       "19    сотрудник     0        242831            на покупку своего автомобиля   \n",
       "20    сотрудник     0        209552                            недвижимость   \n",
       "21    сотрудник     0        131812                 приобретение автомобиля   \n",
       "22    сотрудник     0        149681      на покупку подержанного автомобиля   \n",
       "23    сотрудник     0        128265                         сыграть свадьбу   \n",
       "24    пенсионер     0        290547   операции с коммерческой недвижимостью   \n",
       "25    пенсионер     0         55112                    покупка недвижимости   \n",
       "26  госслужащий     0        145017                             образование   \n",
       "27    сотрудник     0        308848  строительство собственной недвижимости   \n",
       "28    сотрудник     0        187863  строительство собственной недвижимости   \n",
       "29    пенсионер     0        145017        строительство жилой недвижимости   \n",
       "30    пенсионер     0        171456   операции с коммерческой недвижимостью   \n",
       "31    сотрудник     0        275485                                   жилье   \n",
       "32    сотрудник     1        139057                   на проведение свадьбы   \n",
       "33    компаньон     0        157245                           покупка жилья   \n",
       "34    сотрудник     0        104660         операции со своей недвижимостью   \n",
       "35    пенсионер     0         77805                   на проведение свадьбы   \n",
       "36    сотрудник     0        138830                              автомобили   \n",
       "37    компаньон     0        154128                 приобретение автомобиля   \n",
       "38    сотрудник     1        192247                             образование   \n",
       "39    компаньон     0        754240                   заняться образованием   \n",
       "40    компаньон     0        142865                    покупка недвижимости   \n",
       "41  госслужащий     0        145017        сделка с подержанным автомобилем   \n",
       "42    сотрудник     0         82065                   получение образования   \n",
       "43    компаньон     0        272957                 приобретение автомобиля   \n",
       "44    сотрудник     0        100780            на покупку своего автомобиля   \n",
       "45    сотрудник     0        106385                   заняться образованием   \n",
       "46    компаньон     0        182682        сделка с подержанным автомобилем   \n",
       "47  госслужащий     0        356277                   на проведение свадьбы   \n",
       "48    сотрудник     0        162065  строительство собственной недвижимости   \n",
       "49    сотрудник     0         44591                              автомобиль   \n",
       "\n",
       "            purpose_category total_income_category  \n",
       "0   операции с недвижимостью                     B  \n",
       "1     операции с автомобилем                     C  \n",
       "2   операции с недвижимостью                     C  \n",
       "3      получение образования                     B  \n",
       "4         проведение свадьбы                     C  \n",
       "5   операции с недвижимостью                     B  \n",
       "6   операции с недвижимостью                     B  \n",
       "7      получение образования                     C  \n",
       "8         проведение свадьбы                     C  \n",
       "9   операции с недвижимостью                     C  \n",
       "10  операции с недвижимостью                     C  \n",
       "11  операции с недвижимостью                     C  \n",
       "12        проведение свадьбы                     C  \n",
       "13    операции с автомобилем                     C  \n",
       "14  операции с недвижимостью                     C  \n",
       "15  операции с недвижимостью                     C  \n",
       "16  операции с недвижимостью                     B  \n",
       "17  операции с недвижимостью                     C  \n",
       "18    операции с автомобилем                     C  \n",
       "19    операции с автомобилем                     B  \n",
       "20  операции с недвижимостью                     B  \n",
       "21    операции с автомобилем                     C  \n",
       "22    операции с автомобилем                     C  \n",
       "23        проведение свадьбы                     C  \n",
       "24  операции с недвижимостью                     B  \n",
       "25  операции с недвижимостью                     C  \n",
       "26     получение образования                     C  \n",
       "27  операции с недвижимостью                     B  \n",
       "28  операции с недвижимостью                     C  \n",
       "29  операции с недвижимостью                     C  \n",
       "30  операции с недвижимостью                     C  \n",
       "31  операции с недвижимостью                     B  \n",
       "32        проведение свадьбы                     C  \n",
       "33  операции с недвижимостью                     C  \n",
       "34  операции с недвижимостью                     C  \n",
       "35        проведение свадьбы                     C  \n",
       "36    операции с автомобилем                     C  \n",
       "37    операции с автомобилем                     C  \n",
       "38     получение образования                     C  \n",
       "39     получение образования                     B  \n",
       "40  операции с недвижимостью                     C  \n",
       "41    операции с автомобилем                     C  \n",
       "42     получение образования                     C  \n",
       "43    операции с автомобилем                     B  \n",
       "44    операции с автомобилем                     C  \n",
       "45     получение образования                     C  \n",
       "46    операции с автомобилем                     C  \n",
       "47        проведение свадьбы                     B  \n",
       "48  операции с недвижимостью                     C  \n",
       "49    операции с автомобилем                     D  "
      ]
     },
     "metadata": {},
     "output_type": "display_data"
    }
   ],
   "source": [
    "# Create a function to categorize income\n",
    "def rename_purpose(row):\n",
    "    purpose = row['total_income']\n",
    "    if purpose > 1000001:\n",
    "        return 'A'\n",
    "    if 200001 <= purpose <= 1000000:\n",
    "        return 'B'\n",
    "    if 50001 <= purpose <= 200000:\n",
    "        return 'C'\n",
    "    if 30001 <= purpose <= 50000:\n",
    "        return 'D'\n",
    "    if purpose <= 30000:\n",
    "        return 'E'\n",
    "data['total_income_category'] = data.apply(rename_purpose, axis=1)\n",
    "display(data.head(50))"
   ]
  },
  {
   "cell_type": "markdown",
   "metadata": {},
   "source": [
    "Income data is categorized "
   ]
  },
  {
   "cell_type": "markdown",
   "metadata": {},
   "source": [
    "## Answers on questions"
   ]
  },
  {
   "cell_type": "markdown",
   "metadata": {},
   "source": [
    "- Is there a relationship between having children and repaying the loan on time?"
   ]
  },
  {
   "cell_type": "code",
   "execution_count": 32,
   "metadata": {},
   "outputs": [
    {
     "data": {
      "text/html": [
       "<div>\n",
       "<style scoped>\n",
       "    .dataframe tbody tr th:only-of-type {\n",
       "        vertical-align: middle;\n",
       "    }\n",
       "\n",
       "    .dataframe tbody tr th {\n",
       "        vertical-align: top;\n",
       "    }\n",
       "\n",
       "    .dataframe thead th {\n",
       "        text-align: right;\n",
       "    }\n",
       "</style>\n",
       "<table border=\"1\" class=\"dataframe\">\n",
       "  <thead>\n",
       "    <tr style=\"text-align: right;\">\n",
       "      <th>children</th>\n",
       "      <th>0</th>\n",
       "      <th>1</th>\n",
       "      <th>2</th>\n",
       "      <th>3</th>\n",
       "      <th>4</th>\n",
       "      <th>5</th>\n",
       "    </tr>\n",
       "    <tr>\n",
       "      <th>purpose_category</th>\n",
       "      <th></th>\n",
       "      <th></th>\n",
       "      <th></th>\n",
       "      <th></th>\n",
       "      <th></th>\n",
       "      <th></th>\n",
       "    </tr>\n",
       "  </thead>\n",
       "  <tbody>\n",
       "    <tr>\n",
       "      <th>операции с автомобилем</th>\n",
       "      <td>243</td>\n",
       "      <td>104</td>\n",
       "      <td>50</td>\n",
       "      <td>5</td>\n",
       "      <td>1</td>\n",
       "      <td>0</td>\n",
       "    </tr>\n",
       "    <tr>\n",
       "      <th>операции с недвижимостью</th>\n",
       "      <td>476</td>\n",
       "      <td>200</td>\n",
       "      <td>90</td>\n",
       "      <td>13</td>\n",
       "      <td>3</td>\n",
       "      <td>0</td>\n",
       "    </tr>\n",
       "    <tr>\n",
       "      <th>получение образования</th>\n",
       "      <td>229</td>\n",
       "      <td>90</td>\n",
       "      <td>47</td>\n",
       "      <td>4</td>\n",
       "      <td>0</td>\n",
       "      <td>0</td>\n",
       "    </tr>\n",
       "    <tr>\n",
       "      <th>проведение свадьбы</th>\n",
       "      <td>115</td>\n",
       "      <td>51</td>\n",
       "      <td>15</td>\n",
       "      <td>5</td>\n",
       "      <td>0</td>\n",
       "      <td>0</td>\n",
       "    </tr>\n",
       "  </tbody>\n",
       "</table>\n",
       "</div>"
      ],
      "text/plain": [
       "children                    0    1   2   3  4  5\n",
       "purpose_category                                \n",
       "операции с автомобилем    243  104  50   5  1  0\n",
       "операции с недвижимостью  476  200  90  13  3  0\n",
       "получение образования     229   90  47   4  0  0\n",
       "проведение свадьбы        115   51  15   5  0  0"
      ]
     },
     "execution_count": 32,
     "metadata": {},
     "output_type": "execute_result"
    }
   ],
   "source": [
    "# use a pivot table to answer the question\n",
    "data_pivot_child = data.pivot_table(index='purpose_category', columns='children', values='debt', aggfunc='sum')\n",
    "data_pivot_child = data_pivot_child.fillna(value=0)\n",
    "data_pivot_child"
   ]
  },
  {
   "cell_type": "code",
   "execution_count": 33,
   "metadata": {},
   "outputs": [
    {
     "data": {
      "text/html": [
       "<div>\n",
       "<style scoped>\n",
       "    .dataframe tbody tr th:only-of-type {\n",
       "        vertical-align: middle;\n",
       "    }\n",
       "\n",
       "    .dataframe tbody tr th {\n",
       "        vertical-align: top;\n",
       "    }\n",
       "\n",
       "    .dataframe thead th {\n",
       "        text-align: right;\n",
       "    }\n",
       "</style>\n",
       "<table border=\"1\" class=\"dataframe\">\n",
       "  <thead>\n",
       "    <tr style=\"text-align: right;\">\n",
       "      <th></th>\n",
       "      <th>ratio_success %</th>\n",
       "      <th>children</th>\n",
       "      <th>all_debtors</th>\n",
       "    </tr>\n",
       "  </thead>\n",
       "  <tbody>\n",
       "    <tr>\n",
       "      <th>0</th>\n",
       "      <td>92</td>\n",
       "      <td>0</td>\n",
       "      <td>14089</td>\n",
       "    </tr>\n",
       "    <tr>\n",
       "      <th>1</th>\n",
       "      <td>90</td>\n",
       "      <td>1</td>\n",
       "      <td>4855</td>\n",
       "    </tr>\n",
       "    <tr>\n",
       "      <th>2</th>\n",
       "      <td>90</td>\n",
       "      <td>2</td>\n",
       "      <td>2128</td>\n",
       "    </tr>\n",
       "    <tr>\n",
       "      <th>3</th>\n",
       "      <td>91</td>\n",
       "      <td>3</td>\n",
       "      <td>330</td>\n",
       "    </tr>\n",
       "    <tr>\n",
       "      <th>4</th>\n",
       "      <td>90</td>\n",
       "      <td>4</td>\n",
       "      <td>41</td>\n",
       "    </tr>\n",
       "    <tr>\n",
       "      <th>5</th>\n",
       "      <td>100</td>\n",
       "      <td>5</td>\n",
       "      <td>9</td>\n",
       "    </tr>\n",
       "  </tbody>\n",
       "</table>\n",
       "</div>"
      ],
      "text/plain": [
       "   ratio_success %  children  all_debtors\n",
       "0               92         0        14089\n",
       "1               90         1         4855\n",
       "2               90         2         2128\n",
       "3               91         3          330\n",
       "4               90         4           41\n",
       "5              100         5            9"
      ]
     },
     "execution_count": 33,
     "metadata": {},
     "output_type": "execute_result"
    }
   ],
   "source": [
    "# Find the conversion\n",
    "age = (data['children'].sort_values().unique())\n",
    "debt = [0, 1]\n",
    "ratio = []\n",
    "\n",
    "# Calculation of the ratio of successful loan repayments to the total number of debtors by the number of children\n",
    "for age_value in age:\n",
    "        norm = (data.loc[(data['children'] == age_value) & (data['debt'] == 0)])\n",
    "        all = data.loc[(data['children'] == age_value)]\n",
    "        try:\n",
    "            ratio.append(int(norm['debt'].count() / all['debt'].count()*100))\n",
    "        except:\n",
    "            print(\"Division by zero! Check data!\")\n",
    "\n",
    "ratio_purpose = pd.DataFrame({'ratio_success %': ratio, 'children': age, 'all_debtors' : data['children'].value_counts()})\n",
    "ratio_purpose"
   ]
  },
  {
   "cell_type": "markdown",
   "metadata": {},
   "source": [
    "Based on the data obtained, the following conclusion can be drawn:\n",
    "\n",
    "People with fewer children are more likely to be in arrears. The largest number of delinquencies relates to real estate transactions, followed by car transactions."
   ]
  },
  {
   "cell_type": "markdown",
   "metadata": {},
   "source": [
    "- Is there a relationship between marital status and loan repayment on time?"
   ]
  },
  {
   "cell_type": "code",
   "execution_count": 34,
   "metadata": {},
   "outputs": [
    {
     "data": {
      "text/html": [
       "<div>\n",
       "<style scoped>\n",
       "    .dataframe tbody tr th:only-of-type {\n",
       "        vertical-align: middle;\n",
       "    }\n",
       "\n",
       "    .dataframe tbody tr th {\n",
       "        vertical-align: top;\n",
       "    }\n",
       "\n",
       "    .dataframe thead th {\n",
       "        text-align: right;\n",
       "    }\n",
       "</style>\n",
       "<table border=\"1\" class=\"dataframe\">\n",
       "  <thead>\n",
       "    <tr style=\"text-align: right;\">\n",
       "      <th>family_status_id</th>\n",
       "      <th>0</th>\n",
       "      <th>1</th>\n",
       "      <th>2</th>\n",
       "      <th>3</th>\n",
       "      <th>4</th>\n",
       "    </tr>\n",
       "    <tr>\n",
       "      <th>purpose_category</th>\n",
       "      <th></th>\n",
       "      <th></th>\n",
       "      <th></th>\n",
       "      <th></th>\n",
       "      <th></th>\n",
       "    </tr>\n",
       "  </thead>\n",
       "  <tbody>\n",
       "    <tr>\n",
       "      <th>операции с автомобилем</th>\n",
       "      <td>229.0</td>\n",
       "      <td>51.0</td>\n",
       "      <td>20.0</td>\n",
       "      <td>21.0</td>\n",
       "      <td>82.0</td>\n",
       "    </tr>\n",
       "    <tr>\n",
       "      <th>операции с недвижимостью</th>\n",
       "      <td>486.0</td>\n",
       "      <td>91.0</td>\n",
       "      <td>28.0</td>\n",
       "      <td>47.0</td>\n",
       "      <td>130.0</td>\n",
       "    </tr>\n",
       "    <tr>\n",
       "      <th>получение образования</th>\n",
       "      <td>216.0</td>\n",
       "      <td>60.0</td>\n",
       "      <td>15.0</td>\n",
       "      <td>17.0</td>\n",
       "      <td>62.0</td>\n",
       "    </tr>\n",
       "    <tr>\n",
       "      <th>проведение свадьбы</th>\n",
       "      <td>0.0</td>\n",
       "      <td>186.0</td>\n",
       "      <td>0.0</td>\n",
       "      <td>0.0</td>\n",
       "      <td>0.0</td>\n",
       "    </tr>\n",
       "  </tbody>\n",
       "</table>\n",
       "</div>"
      ],
      "text/plain": [
       "family_status_id              0      1     2     3      4\n",
       "purpose_category                                         \n",
       "операции с автомобилем    229.0   51.0  20.0  21.0   82.0\n",
       "операции с недвижимостью  486.0   91.0  28.0  47.0  130.0\n",
       "получение образования     216.0   60.0  15.0  17.0   62.0\n",
       "проведение свадьбы          0.0  186.0   0.0   0.0    0.0"
      ]
     },
     "execution_count": 34,
     "metadata": {},
     "output_type": "execute_result"
    }
   ],
   "source": [
    "data_pivot_family = data.pivot_table(index='purpose_category', columns='family_status_id', values='debt', aggfunc='sum')\n",
    "data_pivot_family = data_pivot_family.fillna(value=0)\n",
    "data_pivot_family"
   ]
  },
  {
   "cell_type": "code",
   "execution_count": 35,
   "metadata": {},
   "outputs": [
    {
     "data": {
      "text/html": [
       "<div>\n",
       "<style scoped>\n",
       "    .dataframe tbody tr th:only-of-type {\n",
       "        vertical-align: middle;\n",
       "    }\n",
       "\n",
       "    .dataframe tbody tr th {\n",
       "        vertical-align: top;\n",
       "    }\n",
       "\n",
       "    .dataframe thead th {\n",
       "        text-align: right;\n",
       "    }\n",
       "</style>\n",
       "<table border=\"1\" class=\"dataframe\">\n",
       "  <thead>\n",
       "    <tr style=\"text-align: right;\">\n",
       "      <th></th>\n",
       "      <th>ratio_success %</th>\n",
       "      <th>family_status_id</th>\n",
       "      <th>all_debtors</th>\n",
       "    </tr>\n",
       "  </thead>\n",
       "  <tbody>\n",
       "    <tr>\n",
       "      <th>0</th>\n",
       "      <td>92</td>\n",
       "      <td>0</td>\n",
       "      <td>12339</td>\n",
       "    </tr>\n",
       "    <tr>\n",
       "      <th>1</th>\n",
       "      <td>90</td>\n",
       "      <td>1</td>\n",
       "      <td>4149</td>\n",
       "    </tr>\n",
       "    <tr>\n",
       "      <th>4</th>\n",
       "      <td>93</td>\n",
       "      <td>2</td>\n",
       "      <td>2810</td>\n",
       "    </tr>\n",
       "    <tr>\n",
       "      <th>3</th>\n",
       "      <td>92</td>\n",
       "      <td>3</td>\n",
       "      <td>1195</td>\n",
       "    </tr>\n",
       "    <tr>\n",
       "      <th>2</th>\n",
       "      <td>90</td>\n",
       "      <td>4</td>\n",
       "      <td>959</td>\n",
       "    </tr>\n",
       "  </tbody>\n",
       "</table>\n",
       "</div>"
      ],
      "text/plain": [
       "   ratio_success %  family_status_id  all_debtors\n",
       "0               92                 0        12339\n",
       "1               90                 1         4149\n",
       "4               93                 2         2810\n",
       "3               92                 3         1195\n",
       "2               90                 4          959"
      ]
     },
     "execution_count": 35,
     "metadata": {},
     "output_type": "execute_result"
    }
   ],
   "source": [
    "# Find the conversion\n",
    "family = (data['family_status_id'].sort_values().unique())\n",
    "debt = [0, 1]\n",
    "ratio = []\n",
    "\n",
    "# Calculation of the ratio of successful loan repayments to the total number of debtors by marital status\n",
    "for family_value in family:\n",
    "        norm = (data.loc[(data['family_status_id'] == family_value) & (data['debt'] == 0)])\n",
    "        all = data.loc[(data['family_status_id'] == family_value)]\n",
    "        try:\n",
    "            ratio.append(int(norm['debt'].count() / all['debt'].count()*100))\n",
    "        except:\n",
    "            print(\"Division by zero! Check data!\")\n",
    "\n",
    "ratio_purpose = pd.DataFrame({'ratio_success %': ratio, 'family_status_id': family, 'all_debtors' : data['family_status_id'].value_counts()})\n",
    "ratio_purpose"
   ]
  },
  {
   "cell_type": "markdown",
   "metadata": {},
   "source": [
    "Based on the data obtained, the following conclusion can be drawn:\n",
    "\n",
    "The most prone to delay are people who are in registered or civil marriages. The least prone to non-payment are people who are divorced and have lost their loved ones. Again, housing debt gets the most delinquency.\n",
    "\n",
    "For obvious reasons, only those who are in common-law unions can be behind on \"wedding arrangements\" payments."
   ]
  },
  {
   "cell_type": "markdown",
   "metadata": {},
   "source": [
    "- Is there a relationship between the level of income and repayment of the loan on time?"
   ]
  },
  {
   "cell_type": "code",
   "execution_count": 36,
   "metadata": {},
   "outputs": [
    {
     "data": {
      "text/html": [
       "<div>\n",
       "<style scoped>\n",
       "    .dataframe tbody tr th:only-of-type {\n",
       "        vertical-align: middle;\n",
       "    }\n",
       "\n",
       "    .dataframe tbody tr th {\n",
       "        vertical-align: top;\n",
       "    }\n",
       "\n",
       "    .dataframe thead th {\n",
       "        text-align: right;\n",
       "    }\n",
       "</style>\n",
       "<table border=\"1\" class=\"dataframe\">\n",
       "  <thead>\n",
       "    <tr style=\"text-align: right;\">\n",
       "      <th>total_income_category</th>\n",
       "      <th>A</th>\n",
       "      <th>B</th>\n",
       "      <th>C</th>\n",
       "      <th>D</th>\n",
       "      <th>E</th>\n",
       "    </tr>\n",
       "    <tr>\n",
       "      <th>purpose_category</th>\n",
       "      <th></th>\n",
       "      <th></th>\n",
       "      <th></th>\n",
       "      <th></th>\n",
       "      <th></th>\n",
       "    </tr>\n",
       "  </thead>\n",
       "  <tbody>\n",
       "    <tr>\n",
       "      <th>операции с автомобилем</th>\n",
       "      <td>0</td>\n",
       "      <td>86</td>\n",
       "      <td>307</td>\n",
       "      <td>10</td>\n",
       "      <td>0</td>\n",
       "    </tr>\n",
       "    <tr>\n",
       "      <th>операции с недвижимостью</th>\n",
       "      <td>1</td>\n",
       "      <td>172</td>\n",
       "      <td>601</td>\n",
       "      <td>6</td>\n",
       "      <td>2</td>\n",
       "    </tr>\n",
       "    <tr>\n",
       "      <th>получение образования</th>\n",
       "      <td>1</td>\n",
       "      <td>70</td>\n",
       "      <td>297</td>\n",
       "      <td>2</td>\n",
       "      <td>0</td>\n",
       "    </tr>\n",
       "    <tr>\n",
       "      <th>проведение свадьбы</th>\n",
       "      <td>0</td>\n",
       "      <td>28</td>\n",
       "      <td>155</td>\n",
       "      <td>3</td>\n",
       "      <td>0</td>\n",
       "    </tr>\n",
       "  </tbody>\n",
       "</table>\n",
       "</div>"
      ],
      "text/plain": [
       "total_income_category     A    B    C   D  E\n",
       "purpose_category                            \n",
       "операции с автомобилем    0   86  307  10  0\n",
       "операции с недвижимостью  1  172  601   6  2\n",
       "получение образования     1   70  297   2  0\n",
       "проведение свадьбы        0   28  155   3  0"
      ]
     },
     "execution_count": 36,
     "metadata": {},
     "output_type": "execute_result"
    }
   ],
   "source": [
    "data_pivot_incom = data.pivot_table(index='purpose_category', columns='total_income_category', values='debt', aggfunc='sum')\n",
    "data_pivot_incom = data_pivot_incom.fillna(value=0)\n",
    "data_pivot_incom"
   ]
  },
  {
   "cell_type": "code",
   "execution_count": 37,
   "metadata": {},
   "outputs": [
    {
     "data": {
      "text/html": [
       "<div>\n",
       "<style scoped>\n",
       "    .dataframe tbody tr th:only-of-type {\n",
       "        vertical-align: middle;\n",
       "    }\n",
       "\n",
       "    .dataframe tbody tr th {\n",
       "        vertical-align: top;\n",
       "    }\n",
       "\n",
       "    .dataframe thead th {\n",
       "        text-align: right;\n",
       "    }\n",
       "</style>\n",
       "<table border=\"1\" class=\"dataframe\">\n",
       "  <thead>\n",
       "    <tr style=\"text-align: right;\">\n",
       "      <th></th>\n",
       "      <th>ratio_success %</th>\n",
       "      <th>total_income_category</th>\n",
       "      <th>all_debtors</th>\n",
       "    </tr>\n",
       "  </thead>\n",
       "  <tbody>\n",
       "    <tr>\n",
       "      <th>C</th>\n",
       "      <td>92</td>\n",
       "      <td>A</td>\n",
       "      <td>16015</td>\n",
       "    </tr>\n",
       "    <tr>\n",
       "      <th>B</th>\n",
       "      <td>92</td>\n",
       "      <td>B</td>\n",
       "      <td>5040</td>\n",
       "    </tr>\n",
       "    <tr>\n",
       "      <th>D</th>\n",
       "      <td>91</td>\n",
       "      <td>C</td>\n",
       "      <td>350</td>\n",
       "    </tr>\n",
       "    <tr>\n",
       "      <th>A</th>\n",
       "      <td>94</td>\n",
       "      <td>D</td>\n",
       "      <td>25</td>\n",
       "    </tr>\n",
       "    <tr>\n",
       "      <th>E</th>\n",
       "      <td>90</td>\n",
       "      <td>E</td>\n",
       "      <td>22</td>\n",
       "    </tr>\n",
       "  </tbody>\n",
       "</table>\n",
       "</div>"
      ],
      "text/plain": [
       "   ratio_success % total_income_category  all_debtors\n",
       "C               92                     A        16015\n",
       "B               92                     B         5040\n",
       "D               91                     C          350\n",
       "A               94                     D           25\n",
       "E               90                     E           22"
      ]
     },
     "execution_count": 37,
     "metadata": {},
     "output_type": "execute_result"
    }
   ],
   "source": [
    "# Find the conversion\n",
    "incom = (data['total_income_category'].sort_values().unique())\n",
    "debt = [0, 1]\n",
    "ratio = []\n",
    "\n",
    "# Calculation of the ratio of successful loan repayments to the total number of debtors by goals for the loan\n",
    "for incom_value in incom:\n",
    "        norm = (data.loc[(data['total_income_category'] == incom_value) & (data['debt'] == 0)])\n",
    "        all = data.loc[(data['total_income_category'] == incom_value)]\n",
    "        try:\n",
    "            ratio.append(int(norm['debt'].count() / all['debt'].count()*100))\n",
    "        except:\n",
    "            print(\"Division by zero! Check data!\")\n",
    "\n",
    "ratio_purpose = pd.DataFrame({'ratio_success %': ratio, 'total_income_category': incom, 'all_debtors' : data['total_income_category'].value_counts()})\n",
    "ratio_purpose"
   ]
  },
  {
   "cell_type": "markdown",
   "metadata": {},
   "source": [
    "Based on the data obtained, the following conclusion can be drawn:\n",
    "\n",
    "People with income category A have single delays, as do people with income category E. The largest number of delays relate to income categories B and C."
   ]
  },
  {
   "cell_type": "markdown",
   "metadata": {},
   "source": [
    "- How do different purposes of the loan affect its repayment on time?"
   ]
  },
  {
   "cell_type": "code",
   "execution_count": 38,
   "metadata": {},
   "outputs": [
    {
     "data": {
      "text/html": [
       "<div>\n",
       "<style scoped>\n",
       "    .dataframe tbody tr th:only-of-type {\n",
       "        vertical-align: middle;\n",
       "    }\n",
       "\n",
       "    .dataframe tbody tr th {\n",
       "        vertical-align: top;\n",
       "    }\n",
       "\n",
       "    .dataframe thead th {\n",
       "        text-align: right;\n",
       "    }\n",
       "</style>\n",
       "<table border=\"1\" class=\"dataframe\">\n",
       "  <thead>\n",
       "    <tr style=\"text-align: right;\">\n",
       "      <th>purpose_category</th>\n",
       "      <th>операции с автомобилем</th>\n",
       "      <th>операции с недвижимостью</th>\n",
       "      <th>получение образования</th>\n",
       "      <th>проведение свадьбы</th>\n",
       "    </tr>\n",
       "  </thead>\n",
       "  <tbody>\n",
       "    <tr>\n",
       "      <th>debt</th>\n",
       "      <td>403</td>\n",
       "      <td>782</td>\n",
       "      <td>370</td>\n",
       "      <td>186</td>\n",
       "    </tr>\n",
       "  </tbody>\n",
       "</table>\n",
       "</div>"
      ],
      "text/plain": [
       "purpose_category  операции с автомобилем  операции с недвижимостью  \\\n",
       "debt                                 403                       782   \n",
       "\n",
       "purpose_category  получение образования  проведение свадьбы  \n",
       "debt                                370                 186  "
      ]
     },
     "execution_count": 38,
     "metadata": {},
     "output_type": "execute_result"
    }
   ],
   "source": [
    "data_pivot_purpose = data.pivot_table(columns='purpose_category', values='debt', aggfunc='sum')\n",
    "data_pivot_purpose = data_pivot_purpose.fillna(value=0)\n",
    "data_pivot_purpose"
   ]
  },
  {
   "cell_type": "code",
   "execution_count": 39,
   "metadata": {},
   "outputs": [
    {
     "data": {
      "text/html": [
       "<div>\n",
       "<style scoped>\n",
       "    .dataframe tbody tr th:only-of-type {\n",
       "        vertical-align: middle;\n",
       "    }\n",
       "\n",
       "    .dataframe tbody tr th {\n",
       "        vertical-align: top;\n",
       "    }\n",
       "\n",
       "    .dataframe thead th {\n",
       "        text-align: right;\n",
       "    }\n",
       "</style>\n",
       "<table border=\"1\" class=\"dataframe\">\n",
       "  <thead>\n",
       "    <tr style=\"text-align: right;\">\n",
       "      <th></th>\n",
       "      <th>ratio_success %</th>\n",
       "      <th>purpose_category</th>\n",
       "      <th>all_debtors</th>\n",
       "    </tr>\n",
       "  </thead>\n",
       "  <tbody>\n",
       "    <tr>\n",
       "      <th>операции с недвижимостью</th>\n",
       "      <td>90</td>\n",
       "      <td>операции с автомобилем</td>\n",
       "      <td>10810</td>\n",
       "    </tr>\n",
       "    <tr>\n",
       "      <th>операции с автомобилем</th>\n",
       "      <td>92</td>\n",
       "      <td>операции с недвижимостью</td>\n",
       "      <td>4306</td>\n",
       "    </tr>\n",
       "    <tr>\n",
       "      <th>получение образования</th>\n",
       "      <td>90</td>\n",
       "      <td>получение образования</td>\n",
       "      <td>4013</td>\n",
       "    </tr>\n",
       "    <tr>\n",
       "      <th>проведение свадьбы</th>\n",
       "      <td>91</td>\n",
       "      <td>проведение свадьбы</td>\n",
       "      <td>2323</td>\n",
       "    </tr>\n",
       "  </tbody>\n",
       "</table>\n",
       "</div>"
      ],
      "text/plain": [
       "                          ratio_success %          purpose_category  \\\n",
       "операции с недвижимостью               90    операции с автомобилем   \n",
       "операции с автомобилем                 92  операции с недвижимостью   \n",
       "получение образования                  90     получение образования   \n",
       "проведение свадьбы                     91        проведение свадьбы   \n",
       "\n",
       "                          all_debtors  \n",
       "операции с недвижимостью        10810  \n",
       "операции с автомобилем           4306  \n",
       "получение образования            4013  \n",
       "проведение свадьбы               2323  "
      ]
     },
     "execution_count": 39,
     "metadata": {},
     "output_type": "execute_result"
    }
   ],
   "source": [
    "# Find the conversion\n",
    "credit_purpose = (data['purpose_category'].sort_values().unique())\n",
    "debt = [0, 1]\n",
    "ratio = []\n",
    "\n",
    "# Calculation of the ratio of successful loan repayments to the total number of debtors by goals for the loan\n",
    "for purpose_value in credit_purpose:\n",
    "        norm = (data.loc[(data['purpose_category'] == purpose_value) & (data['debt'] == 0)])\n",
    "        all = data.loc[(data['purpose_category'] == purpose_value)]\n",
    "        try:\n",
    "            ratio.append(int(norm['debt'].count() / all['debt'].count()*100))\n",
    "        except:\n",
    "            print(\"Division by zero! Check data!\")\n",
    "\n",
    "ratio_purpose = pd.DataFrame({'ratio_success %': ratio, 'purpose_category': credit_purpose, 'all_debtors' : data['purpose_category'].value_counts()})\n",
    "ratio_purpose"
   ]
  },
  {
   "cell_type": "markdown",
   "metadata": {},
   "source": [
    "Based on the data obtained, the following conclusion can be drawn:\n",
    "\n",
    "Real estate transactions contain the largest number of delinquencies. Transactions with a car and education have an average value for delinquencies"
   ]
  },
  {
   "cell_type": "markdown",
   "metadata": {},
   "source": [
    "## General conclusion"
   ]
  },
  {
   "cell_type": "markdown",
   "metadata": {},
   "source": [
    "In this work, 4 hypotheses were tested on the repayment of the debt on time, depending on some data of the borrowers.\n",
    "\n",
    "Data preprocessing, lemmatization and categorization were performed.\n",
    "\n",
    "Relative and absolute indicators are determined, goals with the largest number of delays are determined.\n",
    "\n",
    "The results for some values have little statistics - as a result, the result is less reliable."
   ]
  }
 ],
 "metadata": {
  "ExecuteTimeLog": [
   {
    "duration": 2104,
    "start_time": "2022-04-10T18:06:51.657Z"
   },
   {
    "duration": 1606,
    "start_time": "2022-04-10T18:06:58.382Z"
   },
   {
    "duration": 91,
    "start_time": "2022-04-10T18:07:15.008Z"
   },
   {
    "duration": 110,
    "start_time": "2022-04-10T18:10:07.205Z"
   },
   {
    "duration": 14,
    "start_time": "2022-04-10T18:17:39.890Z"
   },
   {
    "duration": 106,
    "start_time": "2022-04-10T18:18:19.133Z"
   },
   {
    "duration": 1634,
    "start_time": "2022-04-10T18:18:31.804Z"
   },
   {
    "duration": 1994,
    "start_time": "2022-04-10T18:18:45.468Z"
   },
   {
    "duration": 1666,
    "start_time": "2022-04-10T18:19:05.307Z"
   },
   {
    "duration": 14,
    "start_time": "2022-04-10T18:19:15.797Z"
   },
   {
    "duration": 12,
    "start_time": "2022-04-10T18:19:34.247Z"
   },
   {
    "duration": 1677,
    "start_time": "2022-04-10T18:19:40.877Z"
   },
   {
    "duration": 16,
    "start_time": "2022-04-10T18:19:42.557Z"
   },
   {
    "duration": 14,
    "start_time": "2022-04-10T18:19:55.604Z"
   },
   {
    "duration": 6,
    "start_time": "2022-04-10T18:20:02.728Z"
   },
   {
    "duration": 11,
    "start_time": "2022-04-10T18:22:30.708Z"
   },
   {
    "duration": 11,
    "start_time": "2022-04-10T18:22:37.584Z"
   },
   {
    "duration": 11,
    "start_time": "2022-04-10T18:22:43.385Z"
   },
   {
    "duration": 11,
    "start_time": "2022-04-10T18:22:47.824Z"
   },
   {
    "duration": 16,
    "start_time": "2022-04-10T18:26:51.959Z"
   },
   {
    "duration": 13,
    "start_time": "2022-04-10T18:29:06.372Z"
   },
   {
    "duration": 10,
    "start_time": "2022-04-10T18:29:56.788Z"
   },
   {
    "duration": 11,
    "start_time": "2022-04-10T18:30:16.673Z"
   },
   {
    "duration": 7,
    "start_time": "2022-04-10T18:30:19.338Z"
   },
   {
    "duration": 9,
    "start_time": "2022-04-10T18:30:30.019Z"
   },
   {
    "duration": 141,
    "start_time": "2022-04-10T18:30:31.517Z"
   },
   {
    "duration": 21,
    "start_time": "2022-04-10T18:30:42.075Z"
   },
   {
    "duration": 14,
    "start_time": "2022-04-10T18:30:47.821Z"
   },
   {
    "duration": 14,
    "start_time": "2022-04-10T18:30:54.940Z"
   },
   {
    "duration": 5,
    "start_time": "2022-04-10T18:34:42.452Z"
   },
   {
    "duration": 5,
    "start_time": "2022-04-10T18:34:44.235Z"
   },
   {
    "duration": 13,
    "start_time": "2022-04-10T18:34:52.345Z"
   },
   {
    "duration": 16,
    "start_time": "2022-04-10T18:34:54.444Z"
   },
   {
    "duration": 6,
    "start_time": "2022-04-10T18:35:14.663Z"
   },
   {
    "duration": 9,
    "start_time": "2022-04-10T18:35:19.694Z"
   },
   {
    "duration": 8,
    "start_time": "2022-04-10T18:35:32.381Z"
   },
   {
    "duration": 1564,
    "start_time": "2022-04-10T18:35:44.657Z"
   },
   {
    "duration": 14,
    "start_time": "2022-04-10T18:35:46.224Z"
   },
   {
    "duration": 30,
    "start_time": "2022-04-10T18:35:46.241Z"
   },
   {
    "duration": 10,
    "start_time": "2022-04-10T18:35:57.764Z"
   },
   {
    "duration": 9,
    "start_time": "2022-04-10T18:37:08.530Z"
   },
   {
    "duration": 8,
    "start_time": "2022-04-10T18:37:38.941Z"
   },
   {
    "duration": 7,
    "start_time": "2022-04-10T18:37:50.247Z"
   },
   {
    "duration": 5,
    "start_time": "2022-04-10T18:38:40.279Z"
   },
   {
    "duration": 22,
    "start_time": "2022-04-10T18:39:15.640Z"
   },
   {
    "duration": 5,
    "start_time": "2022-04-10T19:03:52.488Z"
   },
   {
    "duration": 22,
    "start_time": "2022-04-10T19:04:09.940Z"
   },
   {
    "duration": 115,
    "start_time": "2022-04-10T19:49:48.300Z"
   },
   {
    "duration": 8,
    "start_time": "2022-04-10T19:56:53.529Z"
   },
   {
    "duration": 15,
    "start_time": "2022-04-10T19:59:43.118Z"
   },
   {
    "duration": 11,
    "start_time": "2022-04-10T20:00:09.156Z"
   },
   {
    "duration": 1429,
    "start_time": "2022-04-11T06:29:31.827Z"
   },
   {
    "duration": 10,
    "start_time": "2022-04-11T06:29:33.258Z"
   },
   {
    "duration": 13,
    "start_time": "2022-04-11T06:29:33.269Z"
   },
   {
    "duration": 5,
    "start_time": "2022-04-11T06:29:33.284Z"
   },
   {
    "duration": 12,
    "start_time": "2022-04-11T06:29:33.291Z"
   },
   {
    "duration": 14,
    "start_time": "2022-04-11T06:29:33.305Z"
   },
   {
    "duration": 5,
    "start_time": "2022-04-11T06:29:33.320Z"
   },
   {
    "duration": 8,
    "start_time": "2022-04-11T06:29:33.326Z"
   },
   {
    "duration": 47,
    "start_time": "2022-04-11T06:29:33.335Z"
   },
   {
    "duration": 10,
    "start_time": "2022-04-11T06:35:05.503Z"
   },
   {
    "duration": 10,
    "start_time": "2022-04-11T06:35:30.074Z"
   },
   {
    "duration": 19,
    "start_time": "2022-04-11T06:37:56.927Z"
   },
   {
    "duration": 4,
    "start_time": "2022-04-11T06:44:45.958Z"
   },
   {
    "duration": 99,
    "start_time": "2022-04-11T06:44:53.850Z"
   },
   {
    "duration": 10,
    "start_time": "2022-04-11T06:45:06.941Z"
   },
   {
    "duration": 3,
    "start_time": "2022-04-11T06:45:15.440Z"
   },
   {
    "duration": 3,
    "start_time": "2022-04-11T06:45:26.160Z"
   },
   {
    "duration": 5,
    "start_time": "2022-04-11T06:45:40.782Z"
   },
   {
    "duration": 4,
    "start_time": "2022-04-11T06:46:04.285Z"
   },
   {
    "duration": 26,
    "start_time": "2022-04-11T06:46:14.180Z"
   },
   {
    "duration": 23,
    "start_time": "2022-04-11T06:58:51.222Z"
   },
   {
    "duration": 11,
    "start_time": "2022-04-11T06:59:14.146Z"
   },
   {
    "duration": 10,
    "start_time": "2022-04-11T06:59:39.043Z"
   },
   {
    "duration": 8,
    "start_time": "2022-04-11T07:01:00.635Z"
   },
   {
    "duration": 10,
    "start_time": "2022-04-11T07:01:20.039Z"
   },
   {
    "duration": 9,
    "start_time": "2022-04-11T07:01:23.228Z"
   },
   {
    "duration": 1282,
    "start_time": "2022-04-11T07:02:16.816Z"
   },
   {
    "duration": 10,
    "start_time": "2022-04-11T07:02:18.100Z"
   },
   {
    "duration": 7,
    "start_time": "2022-04-11T07:02:18.112Z"
   },
   {
    "duration": 5,
    "start_time": "2022-04-11T07:02:18.120Z"
   },
   {
    "duration": 11,
    "start_time": "2022-04-11T07:02:18.126Z"
   },
   {
    "duration": 14,
    "start_time": "2022-04-11T07:02:18.138Z"
   },
   {
    "duration": 4,
    "start_time": "2022-04-11T07:02:18.153Z"
   },
   {
    "duration": 16,
    "start_time": "2022-04-11T07:02:18.182Z"
   },
   {
    "duration": 9,
    "start_time": "2022-04-11T07:02:18.199Z"
   },
   {
    "duration": 8,
    "start_time": "2022-04-11T07:02:18.210Z"
   },
   {
    "duration": 18,
    "start_time": "2022-04-11T07:02:18.219Z"
   },
   {
    "duration": 45,
    "start_time": "2022-04-11T07:02:18.238Z"
   },
   {
    "duration": 14,
    "start_time": "2022-04-11T07:02:18.288Z"
   },
   {
    "duration": 8,
    "start_time": "2022-04-11T07:02:18.304Z"
   },
   {
    "duration": 10,
    "start_time": "2022-04-11T07:06:17.754Z"
   },
   {
    "duration": 14,
    "start_time": "2022-04-11T07:06:44.005Z"
   },
   {
    "duration": 6,
    "start_time": "2022-04-11T07:08:00.752Z"
   },
   {
    "duration": 12,
    "start_time": "2022-04-11T07:08:19.887Z"
   },
   {
    "duration": 6,
    "start_time": "2022-04-11T07:09:02.895Z"
   },
   {
    "duration": 22,
    "start_time": "2022-04-11T07:15:38.478Z"
   },
   {
    "duration": 7,
    "start_time": "2022-04-11T07:17:08.309Z"
   },
   {
    "duration": 9,
    "start_time": "2022-04-11T07:18:25.883Z"
   },
   {
    "duration": 9,
    "start_time": "2022-04-11T07:18:56.227Z"
   },
   {
    "duration": 8,
    "start_time": "2022-04-11T07:19:05.098Z"
   },
   {
    "duration": 13,
    "start_time": "2022-04-11T07:19:26.568Z"
   },
   {
    "duration": 37,
    "start_time": "2022-04-11T07:21:04.923Z"
   },
   {
    "duration": 41,
    "start_time": "2022-04-11T07:21:10.465Z"
   },
   {
    "duration": 58,
    "start_time": "2022-04-11T07:21:18.141Z"
   },
   {
    "duration": 43,
    "start_time": "2022-04-11T07:21:28.098Z"
   },
   {
    "duration": 5,
    "start_time": "2022-04-11T07:22:00.438Z"
   },
   {
    "duration": 5,
    "start_time": "2022-04-11T07:22:48.899Z"
   },
   {
    "duration": 14,
    "start_time": "2022-04-11T07:23:56.039Z"
   },
   {
    "duration": 5,
    "start_time": "2022-04-11T07:24:18.821Z"
   },
   {
    "duration": 23,
    "start_time": "2022-04-11T07:24:38.962Z"
   },
   {
    "duration": 15,
    "start_time": "2022-04-11T07:24:45.079Z"
   },
   {
    "duration": 14,
    "start_time": "2022-04-11T07:25:22.291Z"
   },
   {
    "duration": 15,
    "start_time": "2022-04-11T07:25:37.696Z"
   },
   {
    "duration": 14,
    "start_time": "2022-04-11T07:26:24.119Z"
   },
   {
    "duration": 208,
    "start_time": "2022-04-11T07:34:56.038Z"
   },
   {
    "duration": 93,
    "start_time": "2022-04-11T08:56:52.828Z"
   },
   {
    "duration": 136,
    "start_time": "2022-04-11T08:57:18.610Z"
   },
   {
    "duration": 168,
    "start_time": "2022-04-11T09:10:48.932Z"
   },
   {
    "duration": 159,
    "start_time": "2022-04-11T09:11:08.123Z"
   },
   {
    "duration": 236,
    "start_time": "2022-04-11T09:23:21.109Z"
   },
   {
    "duration": 32,
    "start_time": "2022-04-11T10:23:11.167Z"
   },
   {
    "duration": 19,
    "start_time": "2022-04-11T10:24:37.540Z"
   },
   {
    "duration": 22,
    "start_time": "2022-04-11T10:26:14.595Z"
   },
   {
    "duration": 1327,
    "start_time": "2022-04-11T10:26:55.103Z"
   },
   {
    "duration": 8,
    "start_time": "2022-04-11T10:26:56.432Z"
   },
   {
    "duration": 5,
    "start_time": "2022-04-11T10:26:56.442Z"
   },
   {
    "duration": 36,
    "start_time": "2022-04-11T10:26:56.449Z"
   },
   {
    "duration": 17,
    "start_time": "2022-04-11T10:26:56.493Z"
   },
   {
    "duration": 23,
    "start_time": "2022-04-11T10:26:56.512Z"
   },
   {
    "duration": 4,
    "start_time": "2022-04-11T10:26:56.537Z"
   },
   {
    "duration": 11,
    "start_time": "2022-04-11T10:26:56.543Z"
   },
   {
    "duration": 7,
    "start_time": "2022-04-11T10:26:56.556Z"
   },
   {
    "duration": 36,
    "start_time": "2022-04-11T10:26:56.565Z"
   },
   {
    "duration": 39,
    "start_time": "2022-04-11T10:26:56.606Z"
   },
   {
    "duration": 19,
    "start_time": "2022-04-11T10:26:56.646Z"
   },
   {
    "duration": 8,
    "start_time": "2022-04-11T10:26:56.667Z"
   },
   {
    "duration": 32,
    "start_time": "2022-04-11T10:26:56.677Z"
   },
   {
    "duration": 16,
    "start_time": "2022-04-11T10:26:56.711Z"
   },
   {
    "duration": 7,
    "start_time": "2022-04-11T10:26:56.729Z"
   },
   {
    "duration": 20,
    "start_time": "2022-04-11T10:26:56.737Z"
   },
   {
    "duration": 9,
    "start_time": "2022-04-11T10:26:56.759Z"
   },
   {
    "duration": 65,
    "start_time": "2022-04-11T10:26:56.769Z"
   },
   {
    "duration": 5,
    "start_time": "2022-04-11T10:26:56.835Z"
   },
   {
    "duration": 44,
    "start_time": "2022-04-11T10:26:56.842Z"
   },
   {
    "duration": 9,
    "start_time": "2022-04-11T10:26:56.888Z"
   },
   {
    "duration": 28,
    "start_time": "2022-04-11T10:26:56.900Z"
   },
   {
    "duration": 23,
    "start_time": "2022-04-11T10:26:56.930Z"
   },
   {
    "duration": 259,
    "start_time": "2022-04-11T10:26:56.955Z"
   },
   {
    "duration": 247,
    "start_time": "2022-04-11T10:26:57.216Z"
   },
   {
    "duration": 124,
    "start_time": "2022-04-11T10:26:57.464Z"
   },
   {
    "duration": 0,
    "start_time": "2022-04-11T10:26:57.590Z"
   },
   {
    "duration": 19,
    "start_time": "2022-04-11T10:27:13.941Z"
   },
   {
    "duration": 19,
    "start_time": "2022-04-11T10:27:45.306Z"
   },
   {
    "duration": 26,
    "start_time": "2022-04-11T10:27:50.284Z"
   },
   {
    "duration": 21,
    "start_time": "2022-04-11T11:02:32.488Z"
   },
   {
    "duration": 14,
    "start_time": "2022-04-11T11:03:24.564Z"
   },
   {
    "duration": 15,
    "start_time": "2022-04-11T11:03:46.661Z"
   },
   {
    "duration": 21,
    "start_time": "2022-04-11T12:09:59.449Z"
   },
   {
    "duration": 21,
    "start_time": "2022-04-11T12:10:28.232Z"
   },
   {
    "duration": 23,
    "start_time": "2022-04-11T12:11:16.003Z"
   },
   {
    "duration": 45,
    "start_time": "2022-04-11T12:11:32.271Z"
   },
   {
    "duration": 1242,
    "start_time": "2022-04-11T12:11:39.205Z"
   },
   {
    "duration": 10,
    "start_time": "2022-04-11T12:11:40.449Z"
   },
   {
    "duration": 6,
    "start_time": "2022-04-11T12:11:40.460Z"
   },
   {
    "duration": 5,
    "start_time": "2022-04-11T12:11:40.467Z"
   },
   {
    "duration": 10,
    "start_time": "2022-04-11T12:11:40.482Z"
   },
   {
    "duration": 16,
    "start_time": "2022-04-11T12:11:40.493Z"
   },
   {
    "duration": 5,
    "start_time": "2022-04-11T12:11:40.511Z"
   },
   {
    "duration": 8,
    "start_time": "2022-04-11T12:11:40.517Z"
   },
   {
    "duration": 7,
    "start_time": "2022-04-11T12:11:40.527Z"
   },
   {
    "duration": 49,
    "start_time": "2022-04-11T12:11:40.535Z"
   },
   {
    "duration": 19,
    "start_time": "2022-04-11T12:11:40.585Z"
   },
   {
    "duration": 18,
    "start_time": "2022-04-11T12:11:40.605Z"
   },
   {
    "duration": 11,
    "start_time": "2022-04-11T12:11:40.624Z"
   },
   {
    "duration": 11,
    "start_time": "2022-04-11T12:11:40.638Z"
   },
   {
    "duration": 22,
    "start_time": "2022-04-11T12:11:40.681Z"
   },
   {
    "duration": 5,
    "start_time": "2022-04-11T12:11:40.705Z"
   },
   {
    "duration": 17,
    "start_time": "2022-04-11T12:11:40.711Z"
   },
   {
    "duration": 9,
    "start_time": "2022-04-11T12:11:40.729Z"
   },
   {
    "duration": 73,
    "start_time": "2022-04-11T12:11:40.739Z"
   },
   {
    "duration": 5,
    "start_time": "2022-04-11T12:11:40.814Z"
   },
   {
    "duration": 16,
    "start_time": "2022-04-11T12:11:40.820Z"
   },
   {
    "duration": 6,
    "start_time": "2022-04-11T12:11:40.838Z"
   },
   {
    "duration": 49,
    "start_time": "2022-04-11T12:11:40.845Z"
   },
   {
    "duration": 15,
    "start_time": "2022-04-11T12:11:40.896Z"
   },
   {
    "duration": 163,
    "start_time": "2022-04-11T12:11:40.913Z"
   },
   {
    "duration": 154,
    "start_time": "2022-04-11T12:11:41.077Z"
   },
   {
    "duration": 51,
    "start_time": "2022-04-11T12:11:41.233Z"
   },
   {
    "duration": 19,
    "start_time": "2022-04-11T12:11:41.285Z"
   },
   {
    "duration": 18,
    "start_time": "2022-04-11T12:11:41.305Z"
   },
   {
    "duration": 13,
    "start_time": "2022-04-11T12:11:41.324Z"
   },
   {
    "duration": 63,
    "start_time": "2022-04-11T12:12:43.365Z"
   },
   {
    "duration": 52,
    "start_time": "2022-04-11T12:18:31.232Z"
   },
   {
    "duration": 23,
    "start_time": "2022-04-11T12:22:39.707Z"
   },
   {
    "duration": 17,
    "start_time": "2022-04-11T12:29:39.385Z"
   },
   {
    "duration": 98,
    "start_time": "2022-04-11T12:30:23.361Z"
   },
   {
    "duration": 26,
    "start_time": "2022-04-11T12:30:49.943Z"
   },
   {
    "duration": 24,
    "start_time": "2022-04-11T12:30:54.064Z"
   },
   {
    "duration": 23,
    "start_time": "2022-04-11T12:31:39.633Z"
   },
   {
    "duration": 53,
    "start_time": "2022-04-11T12:34:51.910Z"
   },
   {
    "duration": 42,
    "start_time": "2022-04-11T12:38:02.648Z"
   },
   {
    "duration": 41,
    "start_time": "2022-04-11T12:38:34.274Z"
   },
   {
    "duration": 49,
    "start_time": "2022-04-11T12:39:30.362Z"
   },
   {
    "duration": 15,
    "start_time": "2022-04-11T12:43:09.380Z"
   },
   {
    "duration": 14,
    "start_time": "2022-04-11T12:43:22.436Z"
   },
   {
    "duration": 0,
    "start_time": "2022-04-11T12:43:46.801Z"
   },
   {
    "duration": 3,
    "start_time": "2022-04-11T12:43:53.440Z"
   },
   {
    "duration": 13,
    "start_time": "2022-04-11T12:44:02.286Z"
   },
   {
    "duration": 1191,
    "start_time": "2022-04-11T12:44:37.747Z"
   },
   {
    "duration": 10,
    "start_time": "2022-04-11T12:44:38.941Z"
   },
   {
    "duration": 7,
    "start_time": "2022-04-11T12:44:38.953Z"
   },
   {
    "duration": 5,
    "start_time": "2022-04-11T12:44:38.981Z"
   },
   {
    "duration": 11,
    "start_time": "2022-04-11T12:44:38.989Z"
   },
   {
    "duration": 14,
    "start_time": "2022-04-11T12:44:39.002Z"
   },
   {
    "duration": 4,
    "start_time": "2022-04-11T12:44:39.018Z"
   },
   {
    "duration": 12,
    "start_time": "2022-04-11T12:44:39.024Z"
   },
   {
    "duration": 8,
    "start_time": "2022-04-11T12:44:39.037Z"
   },
   {
    "duration": 9,
    "start_time": "2022-04-11T12:44:39.081Z"
   },
   {
    "duration": 18,
    "start_time": "2022-04-11T12:44:39.091Z"
   },
   {
    "duration": 18,
    "start_time": "2022-04-11T12:44:39.111Z"
   },
   {
    "duration": 8,
    "start_time": "2022-04-11T12:44:39.130Z"
   },
   {
    "duration": 7,
    "start_time": "2022-04-11T12:44:39.140Z"
   },
   {
    "duration": 46,
    "start_time": "2022-04-11T12:44:39.149Z"
   },
   {
    "duration": 7,
    "start_time": "2022-04-11T12:44:39.196Z"
   },
   {
    "duration": 18,
    "start_time": "2022-04-11T12:44:39.205Z"
   },
   {
    "duration": 8,
    "start_time": "2022-04-11T12:44:39.225Z"
   },
   {
    "duration": 70,
    "start_time": "2022-04-11T12:44:39.234Z"
   },
   {
    "duration": 4,
    "start_time": "2022-04-11T12:44:39.306Z"
   },
   {
    "duration": 17,
    "start_time": "2022-04-11T12:44:39.312Z"
   },
   {
    "duration": 5,
    "start_time": "2022-04-11T12:44:39.330Z"
   },
   {
    "duration": 13,
    "start_time": "2022-04-11T12:44:39.336Z"
   },
   {
    "duration": 37,
    "start_time": "2022-04-11T12:44:39.350Z"
   },
   {
    "duration": 154,
    "start_time": "2022-04-11T12:44:39.389Z"
   },
   {
    "duration": 154,
    "start_time": "2022-04-11T12:44:39.545Z"
   },
   {
    "duration": 19,
    "start_time": "2022-04-11T12:44:39.701Z"
   },
   {
    "duration": 24,
    "start_time": "2022-04-11T12:44:39.721Z"
   },
   {
    "duration": 42,
    "start_time": "2022-04-11T12:44:39.746Z"
   },
   {
    "duration": 20,
    "start_time": "2022-04-11T12:44:39.790Z"
   },
   {
    "duration": 19,
    "start_time": "2022-04-11T12:44:39.811Z"
   },
   {
    "duration": 14,
    "start_time": "2022-04-11T12:44:39.831Z"
   },
   {
    "duration": 42,
    "start_time": "2022-04-11T12:44:39.846Z"
   },
   {
    "duration": 42,
    "start_time": "2022-04-11T12:44:39.889Z"
   },
   {
    "duration": 16,
    "start_time": "2022-04-11T12:45:03.955Z"
   },
   {
    "duration": 5,
    "start_time": "2022-04-11T12:45:16.654Z"
   },
   {
    "duration": 9,
    "start_time": "2022-04-11T12:45:42.966Z"
   },
   {
    "duration": 11,
    "start_time": "2022-04-11T12:45:47.909Z"
   },
   {
    "duration": 6,
    "start_time": "2022-04-11T12:45:55.919Z"
   },
   {
    "duration": 7,
    "start_time": "2022-04-11T12:46:05.279Z"
   },
   {
    "duration": 7,
    "start_time": "2022-04-11T12:46:08.813Z"
   },
   {
    "duration": 6,
    "start_time": "2022-04-11T12:46:13.294Z"
   },
   {
    "duration": 6,
    "start_time": "2022-04-11T12:46:29.661Z"
   },
   {
    "duration": 246,
    "start_time": "2022-04-11T12:47:27.991Z"
   },
   {
    "duration": 145,
    "start_time": "2022-04-11T12:47:43.243Z"
   },
   {
    "duration": 1406,
    "start_time": "2022-04-11T12:47:51.854Z"
   },
   {
    "duration": 10,
    "start_time": "2022-04-11T12:47:53.261Z"
   },
   {
    "duration": 8,
    "start_time": "2022-04-11T12:47:53.273Z"
   },
   {
    "duration": 5,
    "start_time": "2022-04-11T12:47:53.283Z"
   },
   {
    "duration": 12,
    "start_time": "2022-04-11T12:47:53.289Z"
   },
   {
    "duration": 14,
    "start_time": "2022-04-11T12:47:53.303Z"
   },
   {
    "duration": 5,
    "start_time": "2022-04-11T12:47:53.319Z"
   },
   {
    "duration": 10,
    "start_time": "2022-04-11T12:47:53.325Z"
   },
   {
    "duration": 7,
    "start_time": "2022-04-11T12:47:53.336Z"
   },
   {
    "duration": 42,
    "start_time": "2022-04-11T12:47:53.346Z"
   },
   {
    "duration": 19,
    "start_time": "2022-04-11T12:47:53.389Z"
   },
   {
    "duration": 19,
    "start_time": "2022-04-11T12:47:53.410Z"
   },
   {
    "duration": 8,
    "start_time": "2022-04-11T12:47:53.431Z"
   },
   {
    "duration": 45,
    "start_time": "2022-04-11T12:47:53.440Z"
   },
   {
    "duration": 14,
    "start_time": "2022-04-11T12:47:53.486Z"
   },
   {
    "duration": 13,
    "start_time": "2022-04-11T12:47:53.502Z"
   },
   {
    "duration": 22,
    "start_time": "2022-04-11T12:47:53.517Z"
   },
   {
    "duration": 11,
    "start_time": "2022-04-11T12:47:53.541Z"
   },
   {
    "duration": 59,
    "start_time": "2022-04-11T12:47:53.554Z"
   },
   {
    "duration": 7,
    "start_time": "2022-04-11T12:47:53.615Z"
   },
   {
    "duration": 14,
    "start_time": "2022-04-11T12:47:53.623Z"
   },
   {
    "duration": 4,
    "start_time": "2022-04-11T12:47:53.639Z"
   },
   {
    "duration": 40,
    "start_time": "2022-04-11T12:47:53.645Z"
   },
   {
    "duration": 19,
    "start_time": "2022-04-11T12:47:53.686Z"
   },
   {
    "duration": 169,
    "start_time": "2022-04-11T12:47:53.708Z"
   },
   {
    "duration": 163,
    "start_time": "2022-04-11T12:47:53.880Z"
   },
   {
    "duration": 21,
    "start_time": "2022-04-11T12:47:54.044Z"
   },
   {
    "duration": 33,
    "start_time": "2022-04-11T12:47:54.068Z"
   },
   {
    "duration": 20,
    "start_time": "2022-04-11T12:47:54.102Z"
   },
   {
    "duration": 23,
    "start_time": "2022-04-11T12:47:54.124Z"
   },
   {
    "duration": 47,
    "start_time": "2022-04-11T12:47:54.148Z"
   },
   {
    "duration": 4,
    "start_time": "2022-04-11T12:47:54.197Z"
   },
   {
    "duration": 28,
    "start_time": "2022-04-11T12:47:54.203Z"
   },
   {
    "duration": 51,
    "start_time": "2022-04-11T12:47:54.233Z"
   },
   {
    "duration": 5,
    "start_time": "2022-04-11T12:48:03.385Z"
   },
   {
    "duration": 4,
    "start_time": "2022-04-11T12:48:19.762Z"
   },
   {
    "duration": 5,
    "start_time": "2022-04-11T12:48:31.525Z"
   },
   {
    "duration": 15,
    "start_time": "2022-04-11T12:48:54.982Z"
   },
   {
    "duration": 17,
    "start_time": "2022-04-11T12:49:52.589Z"
   },
   {
    "duration": 1423,
    "start_time": "2022-04-11T12:49:59.559Z"
   },
   {
    "duration": 9,
    "start_time": "2022-04-11T12:50:00.984Z"
   },
   {
    "duration": 12,
    "start_time": "2022-04-11T12:50:00.994Z"
   },
   {
    "duration": 12,
    "start_time": "2022-04-11T12:50:01.008Z"
   },
   {
    "duration": 15,
    "start_time": "2022-04-11T12:50:01.022Z"
   },
   {
    "duration": 26,
    "start_time": "2022-04-11T12:50:01.038Z"
   },
   {
    "duration": 5,
    "start_time": "2022-04-11T12:50:01.065Z"
   },
   {
    "duration": 16,
    "start_time": "2022-04-11T12:50:01.071Z"
   },
   {
    "duration": 8,
    "start_time": "2022-04-11T12:50:01.088Z"
   },
   {
    "duration": 19,
    "start_time": "2022-04-11T12:50:01.099Z"
   },
   {
    "duration": 28,
    "start_time": "2022-04-11T12:50:01.119Z"
   },
   {
    "duration": 20,
    "start_time": "2022-04-11T12:50:01.149Z"
   },
   {
    "duration": 17,
    "start_time": "2022-04-11T12:50:01.170Z"
   },
   {
    "duration": 16,
    "start_time": "2022-04-11T12:50:01.189Z"
   },
   {
    "duration": 25,
    "start_time": "2022-04-11T12:50:01.207Z"
   },
   {
    "duration": 11,
    "start_time": "2022-04-11T12:50:01.234Z"
   },
   {
    "duration": 36,
    "start_time": "2022-04-11T12:50:01.247Z"
   },
   {
    "duration": 39,
    "start_time": "2022-04-11T12:50:01.285Z"
   },
   {
    "duration": 52,
    "start_time": "2022-04-11T12:50:01.326Z"
   },
   {
    "duration": 5,
    "start_time": "2022-04-11T12:50:01.379Z"
   },
   {
    "duration": 38,
    "start_time": "2022-04-11T12:50:01.386Z"
   },
   {
    "duration": 6,
    "start_time": "2022-04-11T12:50:01.426Z"
   },
   {
    "duration": 21,
    "start_time": "2022-04-11T12:50:01.433Z"
   },
   {
    "duration": 16,
    "start_time": "2022-04-11T12:50:01.456Z"
   },
   {
    "duration": 153,
    "start_time": "2022-04-11T12:50:01.474Z"
   },
   {
    "duration": 165,
    "start_time": "2022-04-11T12:50:01.629Z"
   },
   {
    "duration": 20,
    "start_time": "2022-04-11T12:50:01.796Z"
   },
   {
    "duration": 24,
    "start_time": "2022-04-11T12:50:01.820Z"
   },
   {
    "duration": 47,
    "start_time": "2022-04-11T12:50:01.846Z"
   },
   {
    "duration": 25,
    "start_time": "2022-04-11T12:50:01.895Z"
   },
   {
    "duration": 20,
    "start_time": "2022-04-11T12:50:01.922Z"
   },
   {
    "duration": 41,
    "start_time": "2022-04-11T12:50:01.943Z"
   },
   {
    "duration": 16,
    "start_time": "2022-04-11T12:50:01.986Z"
   },
   {
    "duration": 40,
    "start_time": "2022-04-11T12:50:02.003Z"
   },
   {
    "duration": 16,
    "start_time": "2022-04-11T12:51:30.195Z"
   },
   {
    "duration": 1501,
    "start_time": "2022-04-11T12:53:32.628Z"
   },
   {
    "duration": 9,
    "start_time": "2022-04-11T12:53:34.131Z"
   },
   {
    "duration": 8,
    "start_time": "2022-04-11T12:53:34.141Z"
   },
   {
    "duration": 8,
    "start_time": "2022-04-11T12:53:34.151Z"
   },
   {
    "duration": 27,
    "start_time": "2022-04-11T12:53:34.161Z"
   },
   {
    "duration": 13,
    "start_time": "2022-04-11T12:53:34.190Z"
   },
   {
    "duration": 4,
    "start_time": "2022-04-11T12:53:34.205Z"
   },
   {
    "duration": 13,
    "start_time": "2022-04-11T12:53:34.210Z"
   },
   {
    "duration": 6,
    "start_time": "2022-04-11T12:53:34.225Z"
   },
   {
    "duration": 9,
    "start_time": "2022-04-11T12:53:34.233Z"
   },
   {
    "duration": 52,
    "start_time": "2022-04-11T12:53:34.244Z"
   },
   {
    "duration": 18,
    "start_time": "2022-04-11T12:53:34.298Z"
   },
   {
    "duration": 9,
    "start_time": "2022-04-11T12:53:34.317Z"
   },
   {
    "duration": 8,
    "start_time": "2022-04-11T12:53:34.327Z"
   },
   {
    "duration": 12,
    "start_time": "2022-04-11T12:53:34.337Z"
   },
   {
    "duration": 6,
    "start_time": "2022-04-11T12:53:34.381Z"
   },
   {
    "duration": 17,
    "start_time": "2022-04-11T12:53:34.388Z"
   },
   {
    "duration": 8,
    "start_time": "2022-04-11T12:53:34.407Z"
   },
   {
    "duration": 40,
    "start_time": "2022-04-11T12:53:34.417Z"
   },
   {
    "duration": 5,
    "start_time": "2022-04-11T12:53:34.481Z"
   },
   {
    "duration": 15,
    "start_time": "2022-04-11T12:53:34.488Z"
   },
   {
    "duration": 5,
    "start_time": "2022-04-11T12:53:34.505Z"
   },
   {
    "duration": 15,
    "start_time": "2022-04-11T12:53:34.512Z"
   },
   {
    "duration": 17,
    "start_time": "2022-04-11T12:53:34.529Z"
   },
   {
    "duration": 192,
    "start_time": "2022-04-11T12:53:34.547Z"
   },
   {
    "duration": 153,
    "start_time": "2022-04-11T12:53:34.740Z"
   },
   {
    "duration": 20,
    "start_time": "2022-04-11T12:53:34.895Z"
   },
   {
    "duration": 24,
    "start_time": "2022-04-11T12:53:34.918Z"
   },
   {
    "duration": 41,
    "start_time": "2022-04-11T12:53:34.943Z"
   },
   {
    "duration": 22,
    "start_time": "2022-04-11T12:53:34.986Z"
   },
   {
    "duration": 20,
    "start_time": "2022-04-11T12:53:35.009Z"
   },
   {
    "duration": 14,
    "start_time": "2022-04-11T12:53:35.030Z"
   },
   {
    "duration": 64,
    "start_time": "2022-04-11T12:53:35.045Z"
   },
   {
    "duration": 23,
    "start_time": "2022-04-11T12:53:55.698Z"
   },
   {
    "duration": 42,
    "start_time": "2022-04-11T12:54:59.286Z"
   },
   {
    "duration": 1490,
    "start_time": "2022-04-11T13:04:13.375Z"
   },
   {
    "duration": 10,
    "start_time": "2022-04-11T13:04:14.867Z"
   },
   {
    "duration": 10,
    "start_time": "2022-04-11T13:04:14.878Z"
   },
   {
    "duration": 5,
    "start_time": "2022-04-11T13:04:14.889Z"
   },
   {
    "duration": 14,
    "start_time": "2022-04-11T13:04:14.897Z"
   },
   {
    "duration": 15,
    "start_time": "2022-04-11T13:04:14.912Z"
   },
   {
    "duration": 5,
    "start_time": "2022-04-11T13:04:14.928Z"
   },
   {
    "duration": 12,
    "start_time": "2022-04-11T13:04:14.935Z"
   },
   {
    "duration": 34,
    "start_time": "2022-04-11T13:04:14.948Z"
   },
   {
    "duration": 10,
    "start_time": "2022-04-11T13:04:14.983Z"
   },
   {
    "duration": 20,
    "start_time": "2022-04-11T13:04:14.994Z"
   },
   {
    "duration": 22,
    "start_time": "2022-04-11T13:04:15.015Z"
   },
   {
    "duration": 43,
    "start_time": "2022-04-11T13:04:15.039Z"
   },
   {
    "duration": 10,
    "start_time": "2022-04-11T13:04:15.086Z"
   },
   {
    "duration": 15,
    "start_time": "2022-04-11T13:04:15.098Z"
   },
   {
    "duration": 7,
    "start_time": "2022-04-11T13:04:15.115Z"
   },
   {
    "duration": 18,
    "start_time": "2022-04-11T13:04:15.123Z"
   },
   {
    "duration": 42,
    "start_time": "2022-04-11T13:04:15.143Z"
   },
   {
    "duration": 44,
    "start_time": "2022-04-11T13:04:15.187Z"
   },
   {
    "duration": 6,
    "start_time": "2022-04-11T13:04:15.233Z"
   },
   {
    "duration": 45,
    "start_time": "2022-04-11T13:04:15.240Z"
   },
   {
    "duration": 5,
    "start_time": "2022-04-11T13:04:15.286Z"
   },
   {
    "duration": 16,
    "start_time": "2022-04-11T13:04:15.293Z"
   },
   {
    "duration": 14,
    "start_time": "2022-04-11T13:04:15.311Z"
   },
   {
    "duration": 165,
    "start_time": "2022-04-11T13:04:15.326Z"
   },
   {
    "duration": 156,
    "start_time": "2022-04-11T13:04:15.492Z"
   },
   {
    "duration": 33,
    "start_time": "2022-04-11T13:04:15.649Z"
   },
   {
    "duration": 25,
    "start_time": "2022-04-11T13:04:15.683Z"
   },
   {
    "duration": 20,
    "start_time": "2022-04-11T13:04:15.709Z"
   },
   {
    "duration": 24,
    "start_time": "2022-04-11T13:04:15.731Z"
   },
   {
    "duration": 42,
    "start_time": "2022-04-11T13:04:15.756Z"
   },
   {
    "duration": 46,
    "start_time": "2022-04-11T13:04:15.800Z"
   },
   {
    "duration": 36,
    "start_time": "2022-04-11T13:04:15.847Z"
   },
   {
    "duration": 42,
    "start_time": "2022-04-11T13:04:15.884Z"
   },
   {
    "duration": 113,
    "start_time": "2022-04-11T15:52:37.469Z"
   },
   {
    "duration": 1777,
    "start_time": "2022-04-11T17:23:42.804Z"
   },
   {
    "duration": 120,
    "start_time": "2022-04-11T17:23:44.862Z"
   },
   {
    "duration": 24,
    "start_time": "2022-04-11T17:26:09.065Z"
   },
   {
    "duration": 1597,
    "start_time": "2022-04-11T17:26:19.242Z"
   },
   {
    "duration": 118,
    "start_time": "2022-04-11T17:26:20.842Z"
   },
   {
    "duration": 22,
    "start_time": "2022-04-11T17:26:20.963Z"
   },
   {
    "duration": 20,
    "start_time": "2022-04-11T17:26:20.989Z"
   },
   {
    "duration": 9,
    "start_time": "2022-04-11T17:26:21.012Z"
   },
   {
    "duration": 24,
    "start_time": "2022-04-11T17:26:21.023Z"
   },
   {
    "duration": 54,
    "start_time": "2022-04-11T17:26:21.049Z"
   },
   {
    "duration": 8,
    "start_time": "2022-04-11T17:26:21.106Z"
   },
   {
    "duration": 15,
    "start_time": "2022-04-11T17:26:21.117Z"
   },
   {
    "duration": 43,
    "start_time": "2022-04-11T17:26:21.137Z"
   },
   {
    "duration": 18,
    "start_time": "2022-04-11T17:26:21.185Z"
   },
   {
    "duration": 36,
    "start_time": "2022-04-11T17:26:21.205Z"
   },
   {
    "duration": 41,
    "start_time": "2022-04-11T17:26:21.277Z"
   },
   {
    "duration": 18,
    "start_time": "2022-04-11T17:26:21.321Z"
   },
   {
    "duration": 44,
    "start_time": "2022-04-11T17:26:21.341Z"
   },
   {
    "duration": 26,
    "start_time": "2022-04-11T17:26:21.391Z"
   },
   {
    "duration": 11,
    "start_time": "2022-04-11T17:26:21.420Z"
   },
   {
    "duration": 80,
    "start_time": "2022-04-11T17:26:21.434Z"
   },
   {
    "duration": 16,
    "start_time": "2022-04-11T17:26:21.518Z"
   },
   {
    "duration": 118,
    "start_time": "2022-04-11T17:26:21.538Z"
   },
   {
    "duration": 20,
    "start_time": "2022-04-11T17:26:21.659Z"
   },
   {
    "duration": 30,
    "start_time": "2022-04-11T17:26:21.682Z"
   },
   {
    "duration": 8,
    "start_time": "2022-04-11T17:26:21.714Z"
   },
   {
    "duration": 58,
    "start_time": "2022-04-11T17:26:21.724Z"
   },
   {
    "duration": 28,
    "start_time": "2022-04-11T17:26:21.786Z"
   },
   {
    "duration": 328,
    "start_time": "2022-04-11T17:26:21.818Z"
   },
   {
    "duration": 604,
    "start_time": "2022-04-11T17:26:22.149Z"
   },
   {
    "duration": 58,
    "start_time": "2022-04-11T17:26:22.758Z"
   },
   {
    "duration": 66,
    "start_time": "2022-04-11T17:26:22.819Z"
   },
   {
    "duration": 34,
    "start_time": "2022-04-11T17:26:22.891Z"
   },
   {
    "duration": 69,
    "start_time": "2022-04-11T17:26:22.928Z"
   },
   {
    "duration": 33,
    "start_time": "2022-04-11T17:26:23.000Z"
   },
   {
    "duration": 100,
    "start_time": "2022-04-11T17:26:23.036Z"
   },
   {
    "duration": 41,
    "start_time": "2022-04-11T17:26:23.139Z"
   },
   {
    "duration": 69,
    "start_time": "2022-04-11T17:26:23.183Z"
   },
   {
    "duration": 16,
    "start_time": "2022-04-11T17:26:54.509Z"
   },
   {
    "duration": 26,
    "start_time": "2022-04-11T17:27:28.044Z"
   },
   {
    "duration": 95,
    "start_time": "2022-04-11T17:27:45.812Z"
   },
   {
    "duration": 95,
    "start_time": "2022-04-11T17:28:52.654Z"
   },
   {
    "duration": 67,
    "start_time": "2022-04-12T06:23:37.182Z"
   },
   {
    "duration": 7,
    "start_time": "2022-04-12T06:23:46.513Z"
   },
   {
    "duration": 1786,
    "start_time": "2022-04-12T06:23:53.103Z"
   },
   {
    "duration": 124,
    "start_time": "2022-04-12T06:23:55.281Z"
   },
   {
    "duration": 14,
    "start_time": "2022-04-12T06:23:58.388Z"
   },
   {
    "duration": 13,
    "start_time": "2022-04-12T06:24:12.894Z"
   },
   {
    "duration": 113,
    "start_time": "2022-04-12T06:24:41.105Z"
   },
   {
    "duration": 1522,
    "start_time": "2022-04-12T06:26:51.445Z"
   },
   {
    "duration": 111,
    "start_time": "2022-04-12T06:26:52.970Z"
   },
   {
    "duration": 13,
    "start_time": "2022-04-12T06:26:53.084Z"
   },
   {
    "duration": 10,
    "start_time": "2022-04-12T06:26:53.100Z"
   },
   {
    "duration": 7,
    "start_time": "2022-04-12T06:26:53.112Z"
   },
   {
    "duration": 53,
    "start_time": "2022-04-12T06:26:53.121Z"
   },
   {
    "duration": 174,
    "start_time": "2022-04-12T06:26:53.176Z"
   },
   {
    "duration": 0,
    "start_time": "2022-04-12T06:26:53.354Z"
   },
   {
    "duration": 0,
    "start_time": "2022-04-12T06:26:53.356Z"
   },
   {
    "duration": 0,
    "start_time": "2022-04-12T06:26:53.358Z"
   },
   {
    "duration": 0,
    "start_time": "2022-04-12T06:26:53.359Z"
   },
   {
    "duration": 0,
    "start_time": "2022-04-12T06:26:53.368Z"
   },
   {
    "duration": 0,
    "start_time": "2022-04-12T06:26:53.371Z"
   },
   {
    "duration": 0,
    "start_time": "2022-04-12T06:26:53.373Z"
   },
   {
    "duration": 0,
    "start_time": "2022-04-12T06:26:53.375Z"
   },
   {
    "duration": 0,
    "start_time": "2022-04-12T06:26:53.377Z"
   },
   {
    "duration": 0,
    "start_time": "2022-04-12T06:26:53.380Z"
   },
   {
    "duration": 0,
    "start_time": "2022-04-12T06:26:53.383Z"
   },
   {
    "duration": 0,
    "start_time": "2022-04-12T06:26:53.385Z"
   },
   {
    "duration": 0,
    "start_time": "2022-04-12T06:26:53.387Z"
   },
   {
    "duration": 0,
    "start_time": "2022-04-12T06:26:53.389Z"
   },
   {
    "duration": 0,
    "start_time": "2022-04-12T06:26:53.392Z"
   },
   {
    "duration": 0,
    "start_time": "2022-04-12T06:26:53.394Z"
   },
   {
    "duration": 0,
    "start_time": "2022-04-12T06:26:53.396Z"
   },
   {
    "duration": 1,
    "start_time": "2022-04-12T06:26:53.398Z"
   },
   {
    "duration": 0,
    "start_time": "2022-04-12T06:26:53.401Z"
   },
   {
    "duration": 0,
    "start_time": "2022-04-12T06:26:53.403Z"
   },
   {
    "duration": 0,
    "start_time": "2022-04-12T06:26:53.468Z"
   },
   {
    "duration": 1,
    "start_time": "2022-04-12T06:26:53.470Z"
   },
   {
    "duration": 0,
    "start_time": "2022-04-12T06:26:53.473Z"
   },
   {
    "duration": 0,
    "start_time": "2022-04-12T06:26:53.475Z"
   },
   {
    "duration": 0,
    "start_time": "2022-04-12T06:26:53.477Z"
   },
   {
    "duration": 0,
    "start_time": "2022-04-12T06:26:53.479Z"
   },
   {
    "duration": 0,
    "start_time": "2022-04-12T06:26:53.481Z"
   },
   {
    "duration": 0,
    "start_time": "2022-04-12T06:26:53.482Z"
   },
   {
    "duration": 0,
    "start_time": "2022-04-12T06:26:53.484Z"
   },
   {
    "duration": 22,
    "start_time": "2022-04-12T06:27:22.916Z"
   },
   {
    "duration": 1556,
    "start_time": "2022-04-12T06:29:04.236Z"
   },
   {
    "duration": 112,
    "start_time": "2022-04-12T06:29:05.795Z"
   },
   {
    "duration": 16,
    "start_time": "2022-04-12T06:29:05.910Z"
   },
   {
    "duration": 39,
    "start_time": "2022-04-12T06:29:05.929Z"
   },
   {
    "duration": 7,
    "start_time": "2022-04-12T06:29:05.972Z"
   },
   {
    "duration": 24,
    "start_time": "2022-04-12T06:29:05.981Z"
   },
   {
    "duration": 24,
    "start_time": "2022-04-12T06:29:06.007Z"
   },
   {
    "duration": 35,
    "start_time": "2022-04-12T06:29:06.034Z"
   },
   {
    "duration": 15,
    "start_time": "2022-04-12T06:29:06.071Z"
   },
   {
    "duration": 12,
    "start_time": "2022-04-12T06:29:06.088Z"
   },
   {
    "duration": 14,
    "start_time": "2022-04-12T06:29:06.102Z"
   },
   {
    "duration": 72,
    "start_time": "2022-04-12T06:29:06.118Z"
   },
   {
    "duration": 34,
    "start_time": "2022-04-12T06:29:06.192Z"
   },
   {
    "duration": 42,
    "start_time": "2022-04-12T06:29:06.231Z"
   },
   {
    "duration": 13,
    "start_time": "2022-04-12T06:29:06.275Z"
   },
   {
    "duration": 19,
    "start_time": "2022-04-12T06:29:06.290Z"
   },
   {
    "duration": 8,
    "start_time": "2022-04-12T06:29:06.311Z"
   },
   {
    "duration": 69,
    "start_time": "2022-04-12T06:29:06.321Z"
   },
   {
    "duration": 14,
    "start_time": "2022-04-12T06:29:06.393Z"
   },
   {
    "duration": 89,
    "start_time": "2022-04-12T06:29:06.410Z"
   },
   {
    "duration": 9,
    "start_time": "2022-04-12T06:29:06.501Z"
   },
   {
    "duration": 19,
    "start_time": "2022-04-12T06:29:06.512Z"
   },
   {
    "duration": 38,
    "start_time": "2022-04-12T06:29:06.533Z"
   },
   {
    "duration": 17,
    "start_time": "2022-04-12T06:29:06.574Z"
   },
   {
    "duration": 22,
    "start_time": "2022-04-12T06:29:06.594Z"
   },
   {
    "duration": 49,
    "start_time": "2022-04-12T06:29:06.618Z"
   },
   {
    "duration": 274,
    "start_time": "2022-04-12T06:29:06.669Z"
   },
   {
    "duration": 282,
    "start_time": "2022-04-12T06:29:06.945Z"
   },
   {
    "duration": 44,
    "start_time": "2022-04-12T06:29:07.229Z"
   },
   {
    "duration": 38,
    "start_time": "2022-04-12T06:29:07.276Z"
   },
   {
    "duration": 57,
    "start_time": "2022-04-12T06:29:07.316Z"
   },
   {
    "duration": 36,
    "start_time": "2022-04-12T06:29:07.376Z"
   },
   {
    "duration": 54,
    "start_time": "2022-04-12T06:29:07.414Z"
   },
   {
    "duration": 67,
    "start_time": "2022-04-12T06:29:07.471Z"
   },
   {
    "duration": 44,
    "start_time": "2022-04-12T06:29:07.541Z"
   },
   {
    "duration": 109,
    "start_time": "2022-04-12T06:29:07.588Z"
   },
   {
    "duration": 34,
    "start_time": "2022-04-12T06:29:16.492Z"
   },
   {
    "duration": 23,
    "start_time": "2022-04-12T06:29:27.299Z"
   },
   {
    "duration": 19,
    "start_time": "2022-04-12T06:32:48.962Z"
   },
   {
    "duration": 1520,
    "start_time": "2022-04-12T06:32:56.447Z"
   },
   {
    "duration": 108,
    "start_time": "2022-04-12T06:32:57.970Z"
   },
   {
    "duration": 13,
    "start_time": "2022-04-12T06:32:58.080Z"
   },
   {
    "duration": 8,
    "start_time": "2022-04-12T06:32:58.095Z"
   },
   {
    "duration": 7,
    "start_time": "2022-04-12T06:32:58.107Z"
   },
   {
    "duration": 51,
    "start_time": "2022-04-12T06:32:58.116Z"
   },
   {
    "duration": 22,
    "start_time": "2022-04-12T06:32:58.170Z"
   },
   {
    "duration": 7,
    "start_time": "2022-04-12T06:32:58.195Z"
   },
   {
    "duration": 11,
    "start_time": "2022-04-12T06:32:58.204Z"
   },
   {
    "duration": 10,
    "start_time": "2022-04-12T06:32:58.217Z"
   },
   {
    "duration": 15,
    "start_time": "2022-04-12T06:32:58.267Z"
   },
   {
    "duration": 32,
    "start_time": "2022-04-12T06:32:58.285Z"
   },
   {
    "duration": 70,
    "start_time": "2022-04-12T06:32:58.320Z"
   },
   {
    "duration": 13,
    "start_time": "2022-04-12T06:32:58.395Z"
   },
   {
    "duration": 12,
    "start_time": "2022-04-12T06:32:58.410Z"
   },
   {
    "duration": 48,
    "start_time": "2022-04-12T06:32:58.424Z"
   },
   {
    "duration": 8,
    "start_time": "2022-04-12T06:32:58.474Z"
   },
   {
    "duration": 31,
    "start_time": "2022-04-12T06:32:58.484Z"
   },
   {
    "duration": 13,
    "start_time": "2022-04-12T06:32:58.517Z"
   },
   {
    "duration": 95,
    "start_time": "2022-04-12T06:32:58.532Z"
   },
   {
    "duration": 7,
    "start_time": "2022-04-12T06:32:58.630Z"
   },
   {
    "duration": 45,
    "start_time": "2022-04-12T06:32:58.639Z"
   },
   {
    "duration": 8,
    "start_time": "2022-04-12T06:32:58.686Z"
   },
   {
    "duration": 18,
    "start_time": "2022-04-12T06:32:58.696Z"
   },
   {
    "duration": 4,
    "start_time": "2022-04-12T06:32:58.716Z"
   },
   {
    "duration": 57,
    "start_time": "2022-04-12T06:32:58.722Z"
   },
   {
    "duration": 103,
    "start_time": "2022-04-12T06:32:58.782Z"
   },
   {
    "duration": 0,
    "start_time": "2022-04-12T06:32:58.888Z"
   },
   {
    "duration": 0,
    "start_time": "2022-04-12T06:32:58.889Z"
   },
   {
    "duration": 0,
    "start_time": "2022-04-12T06:32:58.891Z"
   },
   {
    "duration": 0,
    "start_time": "2022-04-12T06:32:58.893Z"
   },
   {
    "duration": 0,
    "start_time": "2022-04-12T06:32:58.894Z"
   },
   {
    "duration": 0,
    "start_time": "2022-04-12T06:32:58.896Z"
   },
   {
    "duration": 0,
    "start_time": "2022-04-12T06:32:58.897Z"
   },
   {
    "duration": 0,
    "start_time": "2022-04-12T06:32:58.898Z"
   },
   {
    "duration": 0,
    "start_time": "2022-04-12T06:32:58.900Z"
   },
   {
    "duration": 0,
    "start_time": "2022-04-12T06:32:58.901Z"
   },
   {
    "duration": 197,
    "start_time": "2022-04-12T06:37:16.581Z"
   },
   {
    "duration": 17,
    "start_time": "2022-04-12T06:37:38.538Z"
   },
   {
    "duration": 28,
    "start_time": "2022-04-12T06:49:33.729Z"
   },
   {
    "duration": 23,
    "start_time": "2022-04-12T06:51:01.823Z"
   },
   {
    "duration": 1471,
    "start_time": "2022-04-12T06:51:07.683Z"
   },
   {
    "duration": 111,
    "start_time": "2022-04-12T06:51:09.157Z"
   },
   {
    "duration": 15,
    "start_time": "2022-04-12T06:51:09.271Z"
   },
   {
    "duration": 9,
    "start_time": "2022-04-12T06:51:09.289Z"
   },
   {
    "duration": 11,
    "start_time": "2022-04-12T06:51:09.300Z"
   },
   {
    "duration": 53,
    "start_time": "2022-04-12T06:51:09.313Z"
   },
   {
    "duration": 21,
    "start_time": "2022-04-12T06:51:09.368Z"
   },
   {
    "duration": 7,
    "start_time": "2022-04-12T06:51:09.390Z"
   },
   {
    "duration": 12,
    "start_time": "2022-04-12T06:51:09.399Z"
   },
   {
    "duration": 10,
    "start_time": "2022-04-12T06:51:09.413Z"
   },
   {
    "duration": 14,
    "start_time": "2022-04-12T06:51:09.468Z"
   },
   {
    "duration": 30,
    "start_time": "2022-04-12T06:51:09.484Z"
   },
   {
    "duration": 58,
    "start_time": "2022-04-12T06:51:09.516Z"
   },
   {
    "duration": 14,
    "start_time": "2022-04-12T06:51:09.578Z"
   },
   {
    "duration": 12,
    "start_time": "2022-04-12T06:51:09.594Z"
   },
   {
    "duration": 20,
    "start_time": "2022-04-12T06:51:09.609Z"
   },
   {
    "duration": 9,
    "start_time": "2022-04-12T06:51:09.668Z"
   },
   {
    "duration": 30,
    "start_time": "2022-04-12T06:51:09.679Z"
   },
   {
    "duration": 14,
    "start_time": "2022-04-12T06:51:09.711Z"
   },
   {
    "duration": 94,
    "start_time": "2022-04-12T06:51:09.728Z"
   },
   {
    "duration": 7,
    "start_time": "2022-04-12T06:51:09.824Z"
   },
   {
    "duration": 41,
    "start_time": "2022-04-12T06:51:09.833Z"
   },
   {
    "duration": 7,
    "start_time": "2022-04-12T06:51:09.876Z"
   },
   {
    "duration": 18,
    "start_time": "2022-04-12T06:51:09.885Z"
   },
   {
    "duration": 26,
    "start_time": "2022-04-12T06:51:09.904Z"
   },
   {
    "duration": 54,
    "start_time": "2022-04-12T06:51:09.932Z"
   },
   {
    "duration": 280,
    "start_time": "2022-04-12T06:51:09.989Z"
   },
   {
    "duration": 280,
    "start_time": "2022-04-12T06:51:10.272Z"
   },
   {
    "duration": 42,
    "start_time": "2022-04-12T06:51:10.555Z"
   },
   {
    "duration": 39,
    "start_time": "2022-04-12T06:51:10.600Z"
   },
   {
    "duration": 58,
    "start_time": "2022-04-12T06:51:10.641Z"
   },
   {
    "duration": 35,
    "start_time": "2022-04-12T06:51:10.701Z"
   },
   {
    "duration": 53,
    "start_time": "2022-04-12T06:51:10.739Z"
   },
   {
    "duration": 88,
    "start_time": "2022-04-12T06:51:10.795Z"
   },
   {
    "duration": 22,
    "start_time": "2022-04-12T06:51:10.884Z"
   },
   {
    "duration": 81,
    "start_time": "2022-04-12T06:51:10.908Z"
   },
   {
    "duration": 7,
    "start_time": "2022-04-12T06:57:20.556Z"
   },
   {
    "duration": 19,
    "start_time": "2022-04-12T06:57:36.354Z"
   },
   {
    "duration": 16,
    "start_time": "2022-04-12T06:57:48.055Z"
   },
   {
    "duration": 20,
    "start_time": "2022-04-12T06:57:55.669Z"
   },
   {
    "duration": 305,
    "start_time": "2022-04-12T07:02:26.518Z"
   },
   {
    "duration": 295,
    "start_time": "2022-04-12T07:02:34.655Z"
   },
   {
    "duration": 260,
    "start_time": "2022-04-12T07:02:45.244Z"
   },
   {
    "duration": 268,
    "start_time": "2022-04-12T07:03:42.437Z"
   },
   {
    "duration": 1449,
    "start_time": "2022-04-12T07:03:56.279Z"
   },
   {
    "duration": 267,
    "start_time": "2022-04-12T07:04:31.658Z"
   },
   {
    "duration": 237,
    "start_time": "2022-04-12T07:04:50.856Z"
   },
   {
    "duration": 13,
    "start_time": "2022-04-12T07:07:25.642Z"
   },
   {
    "duration": 236,
    "start_time": "2022-04-12T07:07:42.375Z"
   },
   {
    "duration": 10,
    "start_time": "2022-04-12T07:10:12.526Z"
   },
   {
    "duration": 11,
    "start_time": "2022-04-12T07:10:30.765Z"
   },
   {
    "duration": 8,
    "start_time": "2022-04-12T07:12:56.074Z"
   },
   {
    "duration": 12,
    "start_time": "2022-04-12T07:13:05.688Z"
   },
   {
    "duration": 21,
    "start_time": "2022-04-12T07:14:21.480Z"
   },
   {
    "duration": 23,
    "start_time": "2022-04-12T07:14:35.737Z"
   },
   {
    "duration": 12,
    "start_time": "2022-04-12T07:14:58.351Z"
   },
   {
    "duration": 2129,
    "start_time": "2022-04-12T07:15:10.011Z"
   },
   {
    "duration": 1940,
    "start_time": "2022-04-12T07:15:27.756Z"
   },
   {
    "duration": 1738,
    "start_time": "2022-04-12T07:15:36.840Z"
   },
   {
    "duration": 117,
    "start_time": "2022-04-12T07:15:38.582Z"
   },
   {
    "duration": 15,
    "start_time": "2022-04-12T07:15:38.701Z"
   },
   {
    "duration": 7,
    "start_time": "2022-04-12T07:15:38.719Z"
   },
   {
    "duration": 6,
    "start_time": "2022-04-12T07:15:38.729Z"
   },
   {
    "duration": 46,
    "start_time": "2022-04-12T07:15:38.737Z"
   },
   {
    "duration": 23,
    "start_time": "2022-04-12T07:15:38.786Z"
   },
   {
    "duration": 7,
    "start_time": "2022-04-12T07:15:38.811Z"
   },
   {
    "duration": 61,
    "start_time": "2022-04-12T07:15:38.820Z"
   },
   {
    "duration": 27,
    "start_time": "2022-04-12T07:15:38.884Z"
   },
   {
    "duration": 15,
    "start_time": "2022-04-12T07:15:38.914Z"
   },
   {
    "duration": 77,
    "start_time": "2022-04-12T07:15:38.931Z"
   },
   {
    "duration": 31,
    "start_time": "2022-04-12T07:15:39.010Z"
   },
   {
    "duration": 27,
    "start_time": "2022-04-12T07:15:39.045Z"
   },
   {
    "duration": 17,
    "start_time": "2022-04-12T07:15:39.075Z"
   },
   {
    "duration": 21,
    "start_time": "2022-04-12T07:15:39.095Z"
   },
   {
    "duration": 8,
    "start_time": "2022-04-12T07:15:39.118Z"
   },
   {
    "duration": 77,
    "start_time": "2022-04-12T07:15:39.128Z"
   },
   {
    "duration": 18,
    "start_time": "2022-04-12T07:15:39.207Z"
   },
   {
    "duration": 122,
    "start_time": "2022-04-12T07:15:39.228Z"
   },
   {
    "duration": 17,
    "start_time": "2022-04-12T07:15:39.352Z"
   },
   {
    "duration": 27,
    "start_time": "2022-04-12T07:15:39.372Z"
   },
   {
    "duration": 10,
    "start_time": "2022-04-12T07:15:39.402Z"
   },
   {
    "duration": 65,
    "start_time": "2022-04-12T07:15:39.414Z"
   },
   {
    "duration": 41,
    "start_time": "2022-04-12T07:15:39.483Z"
   },
   {
    "duration": 21,
    "start_time": "2022-04-12T07:15:39.527Z"
   },
   {
    "duration": 351,
    "start_time": "2022-04-12T07:15:39.570Z"
   },
   {
    "duration": 12,
    "start_time": "2022-04-12T07:15:39.924Z"
   },
   {
    "duration": 33,
    "start_time": "2022-04-12T07:15:39.939Z"
   },
   {
    "duration": 44,
    "start_time": "2022-04-12T07:15:39.976Z"
   },
   {
    "duration": 318,
    "start_time": "2022-04-12T07:15:40.023Z"
   },
   {
    "duration": 48,
    "start_time": "2022-04-12T07:15:40.343Z"
   },
   {
    "duration": 36,
    "start_time": "2022-04-12T07:15:40.394Z"
   },
   {
    "duration": 64,
    "start_time": "2022-04-12T07:15:40.432Z"
   },
   {
    "duration": 34,
    "start_time": "2022-04-12T07:15:40.499Z"
   },
   {
    "duration": 59,
    "start_time": "2022-04-12T07:15:40.536Z"
   },
   {
    "duration": 78,
    "start_time": "2022-04-12T07:15:40.597Z"
   },
   {
    "duration": 30,
    "start_time": "2022-04-12T07:15:40.679Z"
   },
   {
    "duration": 104,
    "start_time": "2022-04-12T07:15:40.711Z"
   },
   {
    "duration": 124,
    "start_time": "2022-04-12T07:21:24.787Z"
   },
   {
    "duration": 45,
    "start_time": "2022-04-12T07:53:44.145Z"
   },
   {
    "duration": 1333,
    "start_time": "2022-04-12T07:53:55.582Z"
   },
   {
    "duration": 88,
    "start_time": "2022-04-12T07:53:56.917Z"
   },
   {
    "duration": 11,
    "start_time": "2022-04-12T07:53:57.006Z"
   },
   {
    "duration": 8,
    "start_time": "2022-04-12T07:53:57.019Z"
   },
   {
    "duration": 7,
    "start_time": "2022-04-12T07:53:57.047Z"
   },
   {
    "duration": 14,
    "start_time": "2022-04-12T07:53:57.056Z"
   },
   {
    "duration": 17,
    "start_time": "2022-04-12T07:53:57.072Z"
   },
   {
    "duration": 6,
    "start_time": "2022-04-12T07:53:57.091Z"
   },
   {
    "duration": 12,
    "start_time": "2022-04-12T07:53:57.098Z"
   },
   {
    "duration": 9,
    "start_time": "2022-04-12T07:53:57.147Z"
   },
   {
    "duration": 13,
    "start_time": "2022-04-12T07:53:57.159Z"
   },
   {
    "duration": 27,
    "start_time": "2022-04-12T07:53:57.173Z"
   },
   {
    "duration": 55,
    "start_time": "2022-04-12T07:53:57.202Z"
   },
   {
    "duration": 10,
    "start_time": "2022-04-12T07:53:57.259Z"
   },
   {
    "duration": 10,
    "start_time": "2022-04-12T07:53:57.271Z"
   },
   {
    "duration": 15,
    "start_time": "2022-04-12T07:53:57.282Z"
   },
   {
    "duration": 5,
    "start_time": "2022-04-12T07:53:57.299Z"
   },
   {
    "duration": 56,
    "start_time": "2022-04-12T07:53:57.306Z"
   },
   {
    "duration": 10,
    "start_time": "2022-04-12T07:53:57.364Z"
   },
   {
    "duration": 43,
    "start_time": "2022-04-12T07:53:57.376Z"
   },
   {
    "duration": 27,
    "start_time": "2022-04-12T07:53:57.420Z"
   },
   {
    "duration": 17,
    "start_time": "2022-04-12T07:53:57.448Z"
   },
   {
    "duration": 6,
    "start_time": "2022-04-12T07:53:57.467Z"
   },
   {
    "duration": 20,
    "start_time": "2022-04-12T07:53:57.475Z"
   },
   {
    "duration": 52,
    "start_time": "2022-04-12T07:53:57.497Z"
   },
   {
    "duration": 17,
    "start_time": "2022-04-12T07:53:57.550Z"
   },
   {
    "duration": 172,
    "start_time": "2022-04-12T07:53:57.569Z"
   },
   {
    "duration": 9,
    "start_time": "2022-04-12T07:53:57.744Z"
   },
   {
    "duration": 9,
    "start_time": "2022-04-12T07:53:57.754Z"
   },
   {
    "duration": 17,
    "start_time": "2022-04-12T07:53:57.765Z"
   },
   {
    "duration": 175,
    "start_time": "2022-04-12T07:53:57.784Z"
   },
   {
    "duration": 21,
    "start_time": "2022-04-12T07:53:57.961Z"
   },
   {
    "duration": 23,
    "start_time": "2022-04-12T07:53:57.984Z"
   },
   {
    "duration": 47,
    "start_time": "2022-04-12T07:53:58.009Z"
   },
   {
    "duration": 22,
    "start_time": "2022-04-12T07:53:58.058Z"
   },
   {
    "duration": 20,
    "start_time": "2022-04-12T07:53:58.081Z"
   },
   {
    "duration": 68,
    "start_time": "2022-04-12T07:53:58.103Z"
   },
   {
    "duration": 16,
    "start_time": "2022-04-12T07:53:58.173Z"
   },
   {
    "duration": 58,
    "start_time": "2022-04-12T07:53:58.191Z"
   }
  ],
  "kernelspec": {
   "display_name": "Python 3 (ipykernel)",
   "language": "python",
   "name": "python3"
  },
  "language_info": {
   "codemirror_mode": {
    "name": "ipython",
    "version": 3
   },
   "file_extension": ".py",
   "mimetype": "text/x-python",
   "name": "python",
   "nbconvert_exporter": "python",
   "pygments_lexer": "ipython3",
   "version": "3.9.7"
  },
  "toc": {
   "base_numbering": 1,
   "nav_menu": {},
   "number_sections": true,
   "sideBar": true,
   "skip_h1_title": true,
   "title_cell": "Table of Contents",
   "title_sidebar": "Contents",
   "toc_cell": false,
   "toc_position": {
    "height": "calc(100% - 180px)",
    "left": "10px",
    "top": "150px",
    "width": "358.391px"
   },
   "toc_section_display": true,
   "toc_window_display": false
  }
 },
 "nbformat": 4,
 "nbformat_minor": 1
}
